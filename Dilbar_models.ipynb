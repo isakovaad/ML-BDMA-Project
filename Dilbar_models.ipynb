{
 "cells": [
  {
   "cell_type": "code",
   "execution_count": 1,
   "id": "6ca98ff7",
   "metadata": {
    "execution": {
     "iopub.execute_input": "2025-01-25T19:38:01.565418Z",
     "iopub.status.busy": "2025-01-25T19:38:01.565011Z",
     "iopub.status.idle": "2025-01-25T19:38:09.566930Z",
     "shell.execute_reply": "2025-01-25T19:38:09.565994Z"
    },
    "papermill": {
     "duration": 8.008622,
     "end_time": "2025-01-25T19:38:09.568545",
     "exception": false,
     "start_time": "2025-01-25T19:38:01.559923",
     "status": "completed"
    },
    "tags": []
   },
   "outputs": [],
   "source": [
    "import os\n",
    "import pandas as pd\n",
    "import torch\n",
    "from torch import nn, optim\n",
    "from torch.utils.data import DataLoader, Dataset\n",
    "from torchvision import transforms, models\n",
    "from PIL import Image\n",
    "import matplotlib.pyplot as plt\n",
    "\n",
    "\n",
    "# import pandas as pd\n",
    "# import os\n",
    "# from PIL import Image\n",
    "# from torch.utils.data import Dataset, DataLoader\n",
    "# from torchvision import transforms\n"
   ]
  },
  {
   "cell_type": "code",
   "execution_count": 2,
   "id": "43deefc0",
   "metadata": {
    "execution": {
     "iopub.execute_input": "2025-01-25T19:38:09.576641Z",
     "iopub.status.busy": "2025-01-25T19:38:09.576281Z",
     "iopub.status.idle": "2025-01-25T19:38:09.628774Z",
     "shell.execute_reply": "2025-01-25T19:38:09.627974Z"
    },
    "papermill": {
     "duration": 0.057646,
     "end_time": "2025-01-25T19:38:09.630073",
     "exception": false,
     "start_time": "2025-01-25T19:38:09.572427",
     "status": "completed"
    },
    "tags": []
   },
   "outputs": [
    {
     "name": "stdout",
     "output_type": "stream",
     "text": [
      "Using device: cuda\n"
     ]
    }
   ],
   "source": [
    "device = torch.device(\"cuda\" if torch.cuda.is_available() else \"cpu\")\n",
    "print(f\"Using device: {device}\")"
   ]
  },
  {
   "cell_type": "code",
   "execution_count": 3,
   "id": "e132cd77",
   "metadata": {
    "execution": {
     "iopub.execute_input": "2025-01-25T19:38:09.638277Z",
     "iopub.status.busy": "2025-01-25T19:38:09.637932Z",
     "iopub.status.idle": "2025-01-25T19:38:09.641994Z",
     "shell.execute_reply": "2025-01-25T19:38:09.641245Z"
    },
    "papermill": {
     "duration": 0.009654,
     "end_time": "2025-01-25T19:38:09.643299",
     "exception": false,
     "start_time": "2025-01-25T19:38:09.633645",
     "status": "completed"
    },
    "tags": []
   },
   "outputs": [],
   "source": [
    "train_metadata_path = \"/kaggle/input/bdma-compatition/BDMA7_project_files/train_metadata.csv\"  # Path to the metadata file\n",
    "train_images_dir = \"/kaggle/input/bdma-compatition/BDMA7_project_files/train_images\"           # Path to training images directory\n",
    "val_metadata_path = \"/kaggle/input/bdma-compatition/BDMA7_project_files/val_metadata.csv\"      # Path to validation metadata file\n",
    "val_images_dir = \"/kaggle/input/bdma-compatition/BDMA7_project_files/val_images\"               # Path to validation images directory"
   ]
  },
  {
   "cell_type": "code",
   "execution_count": 4,
   "id": "e5284a54",
   "metadata": {
    "execution": {
     "iopub.execute_input": "2025-01-25T19:38:09.650431Z",
     "iopub.status.busy": "2025-01-25T19:38:09.650230Z",
     "iopub.status.idle": "2025-01-25T19:38:09.654699Z",
     "shell.execute_reply": "2025-01-25T19:38:09.654071Z"
    },
    "papermill": {
     "duration": 0.009254,
     "end_time": "2025-01-25T19:38:09.655820",
     "exception": false,
     "start_time": "2025-01-25T19:38:09.646566",
     "status": "completed"
    },
    "tags": []
   },
   "outputs": [],
   "source": [
    "class BirdDataset(Dataset):\n",
    "    def __init__(self, metadata, images_dir, transform=None):\n",
    "        self.metadata = metadata\n",
    "        self.images_dir = images_dir\n",
    "        self.transform = transform\n",
    "\n",
    "    def __len__(self):\n",
    "        return len(self.metadata)\n",
    "\n",
    "    def __getitem__(self, idx):\n",
    "        img_path = os.path.join(self.images_dir, self.metadata.iloc[idx][\"path\"])\n",
    "        label = self.metadata.iloc[idx][\"class_idx\"]\n",
    "        image = Image.open(img_path).convert(\"RGB\")\n",
    "        if self.transform:\n",
    "            image = self.transform(image)\n",
    "        return image, label"
   ]
  },
  {
   "cell_type": "code",
   "execution_count": 5,
   "id": "bb105f02",
   "metadata": {
    "execution": {
     "iopub.execute_input": "2025-01-25T19:38:09.663027Z",
     "iopub.status.busy": "2025-01-25T19:38:09.662828Z",
     "iopub.status.idle": "2025-01-25T19:38:09.690522Z",
     "shell.execute_reply": "2025-01-25T19:38:09.689916Z"
    },
    "papermill": {
     "duration": 0.032605,
     "end_time": "2025-01-25T19:38:09.691731",
     "exception": false,
     "start_time": "2025-01-25T19:38:09.659126",
     "status": "completed"
    },
    "tags": []
   },
   "outputs": [],
   "source": [
    "train_metadata = pd.read_csv(train_metadata_path)\n",
    "val_metadata = pd.read_csv(val_metadata_path)"
   ]
  },
  {
   "cell_type": "code",
   "execution_count": 6,
   "id": "35cf5fcf",
   "metadata": {
    "execution": {
     "iopub.execute_input": "2025-01-25T19:38:09.698745Z",
     "iopub.status.busy": "2025-01-25T19:38:09.698543Z",
     "iopub.status.idle": "2025-01-25T19:38:09.702304Z",
     "shell.execute_reply": "2025-01-25T19:38:09.701599Z"
    },
    "papermill": {
     "duration": 0.008425,
     "end_time": "2025-01-25T19:38:09.703382",
     "exception": false,
     "start_time": "2025-01-25T19:38:09.694957",
     "status": "completed"
    },
    "tags": []
   },
   "outputs": [],
   "source": [
    "transform = transforms.Compose([\n",
    "    transforms.Resize((224, 224)),\n",
    "    transforms.RandomHorizontalFlip(),\n",
    "    transforms.RandomRotation(15),\n",
    "    transforms.ToTensor(),\n",
    "    transforms.Normalize([0.485, 0.456, 0.406], [0.229, 0.224, 0.225])  # ImageNet stats\n",
    "])"
   ]
  },
  {
   "cell_type": "code",
   "execution_count": 7,
   "id": "6b51b512",
   "metadata": {
    "execution": {
     "iopub.execute_input": "2025-01-25T19:38:09.710564Z",
     "iopub.status.busy": "2025-01-25T19:38:09.710340Z",
     "iopub.status.idle": "2025-01-25T19:38:09.714074Z",
     "shell.execute_reply": "2025-01-25T19:38:09.713456Z"
    },
    "papermill": {
     "duration": 0.008789,
     "end_time": "2025-01-25T19:38:09.715397",
     "exception": false,
     "start_time": "2025-01-25T19:38:09.706608",
     "status": "completed"
    },
    "tags": []
   },
   "outputs": [],
   "source": [
    "train_dataset = BirdDataset(train_metadata, train_images_dir, transform=transform)\n",
    "val_dataset = BirdDataset(val_metadata, val_images_dir, transform=transform)\n",
    "\n",
    "train_loader = DataLoader(train_dataset, batch_size=32, shuffle=True)\n",
    "val_loader = DataLoader(val_dataset, batch_size=32)"
   ]
  },
  {
   "cell_type": "code",
   "execution_count": 8,
   "id": "7883d674",
   "metadata": {
    "execution": {
     "iopub.execute_input": "2025-01-25T19:38:09.722743Z",
     "iopub.status.busy": "2025-01-25T19:38:09.722512Z",
     "iopub.status.idle": "2025-01-25T19:38:11.105523Z",
     "shell.execute_reply": "2025-01-25T19:38:11.104795Z"
    },
    "papermill": {
     "duration": 1.388484,
     "end_time": "2025-01-25T19:38:11.107098",
     "exception": false,
     "start_time": "2025-01-25T19:38:09.718614",
     "status": "completed"
    },
    "tags": []
   },
   "outputs": [
    {
     "name": "stderr",
     "output_type": "stream",
     "text": [
      "/usr/local/lib/python3.10/dist-packages/torchvision/models/_utils.py:208: UserWarning: The parameter 'pretrained' is deprecated since 0.13 and may be removed in the future, please use 'weights' instead.\n",
      "  warnings.warn(\n",
      "/usr/local/lib/python3.10/dist-packages/torchvision/models/_utils.py:223: UserWarning: Arguments other than a weight enum or `None` for 'weights' are deprecated since 0.13 and may be removed in the future. The current behavior is equivalent to passing `weights=ResNet18_Weights.IMAGENET1K_V1`. You can also use `weights=ResNet18_Weights.DEFAULT` to get the most up-to-date weights.\n",
      "  warnings.warn(msg)\n",
      "Downloading: \"https://download.pytorch.org/models/resnet18-f37072fd.pth\" to /root/.cache/torch/hub/checkpoints/resnet18-f37072fd.pth\n",
      "100%|██████████| 44.7M/44.7M [00:00<00:00, 69.3MB/s]\n"
     ]
    }
   ],
   "source": [
    "num_classes = train_metadata[\"class_idx\"].nunique()\n",
    "model = models.resnet18(pretrained=True)\n",
    "model.fc = nn.Linear(model.fc.in_features, num_classes)\n",
    "model = model.to(device)"
   ]
  },
  {
   "cell_type": "code",
   "execution_count": 9,
   "id": "727ab6a9",
   "metadata": {
    "execution": {
     "iopub.execute_input": "2025-01-25T19:38:11.116148Z",
     "iopub.status.busy": "2025-01-25T19:38:11.115887Z",
     "iopub.status.idle": "2025-01-25T19:38:11.119857Z",
     "shell.execute_reply": "2025-01-25T19:38:11.119046Z"
    },
    "papermill": {
     "duration": 0.009636,
     "end_time": "2025-01-25T19:38:11.121105",
     "exception": false,
     "start_time": "2025-01-25T19:38:11.111469",
     "status": "completed"
    },
    "tags": []
   },
   "outputs": [],
   "source": [
    "criterion = nn.CrossEntropyLoss()\n",
    "optimizer = optim.Adam(model.parameters(), lr=0.001)"
   ]
  },
  {
   "cell_type": "code",
   "execution_count": 10,
   "id": "170f523d",
   "metadata": {
    "execution": {
     "iopub.execute_input": "2025-01-25T19:38:11.129422Z",
     "iopub.status.busy": "2025-01-25T19:38:11.129219Z",
     "iopub.status.idle": "2025-01-25T19:39:42.507106Z",
     "shell.execute_reply": "2025-01-25T19:39:42.506400Z"
    },
    "papermill": {
     "duration": 91.383951,
     "end_time": "2025-01-25T19:39:42.508912",
     "exception": false,
     "start_time": "2025-01-25T19:38:11.124961",
     "status": "completed"
    },
    "tags": []
   },
   "outputs": [],
   "source": [
    "num_epochs = 10\n",
    "train_losses, val_losses = [], []\n",
    "\n",
    "for epoch in range(num_epochs):\n",
    "    model.train()\n",
    "    running_loss = 0.0\n",
    "    for inputs, labels in train_loader:\n",
    "        inputs, labels = inputs.to(device), labels.to(device)\n",
    "        optimizer.zero_grad()\n",
    "        outputs = model(inputs)\n",
    "        loss = criterion(outputs, labels)\n",
    "        loss.backward()\n",
    "        optimizer.step()\n",
    "        running_loss += loss.item()\n",
    "    train_losses.append(running_loss / len(train_loader))"
   ]
  },
  {
   "cell_type": "code",
   "execution_count": 11,
   "id": "cd16951a",
   "metadata": {
    "execution": {
     "iopub.execute_input": "2025-01-25T19:39:42.518269Z",
     "iopub.status.busy": "2025-01-25T19:39:42.517996Z",
     "iopub.status.idle": "2025-01-25T19:39:44.048826Z",
     "shell.execute_reply": "2025-01-25T19:39:44.047948Z"
    },
    "papermill": {
     "duration": 1.536816,
     "end_time": "2025-01-25T19:39:44.050261",
     "exception": false,
     "start_time": "2025-01-25T19:39:42.513445",
     "status": "completed"
    },
    "tags": []
   },
   "outputs": [
    {
     "name": "stdout",
     "output_type": "stream",
     "text": [
      "Epoch 10/10, Train Loss: 0.2466, Val Loss: 0.9410, Val Accuracy: 65.05%\n"
     ]
    }
   ],
   "source": [
    "    model.eval()\n",
    "    val_loss = 0.0\n",
    "    correct = 0\n",
    "    total = 0\n",
    "    with torch.no_grad():\n",
    "        for inputs, labels in val_loader:\n",
    "            inputs, labels = inputs.to(device), labels.to(device)\n",
    "            outputs = model(inputs)\n",
    "            loss = criterion(outputs, labels)\n",
    "            val_loss += loss.item()\n",
    "            _, predicted = outputs.max(1)\n",
    "            correct += (predicted == labels).sum().item()\n",
    "            total += labels.size(0)\n",
    "    val_losses.append(val_loss / len(val_loader))\n",
    "    accuracy = correct / total * 100\n",
    "\n",
    "    print(f\"Epoch {epoch+1}/{num_epochs}, \"\n",
    "          f\"Train Loss: {train_losses[-1]:.4f}, \"\n",
    "          f\"Val Loss: {val_losses[-1]:.4f}, \"\n",
    "          f\"Val Accuracy: {accuracy:.2f}%\")"
   ]
  },
  {
   "cell_type": "code",
   "execution_count": 12,
   "id": "2df99464",
   "metadata": {
    "execution": {
     "iopub.execute_input": "2025-01-25T19:39:44.059234Z",
     "iopub.status.busy": "2025-01-25T19:39:44.058982Z",
     "iopub.status.idle": "2025-01-25T19:39:44.126692Z",
     "shell.execute_reply": "2025-01-25T19:39:44.126002Z"
    },
    "papermill": {
     "duration": 0.07384,
     "end_time": "2025-01-25T19:39:44.128257",
     "exception": false,
     "start_time": "2025-01-25T19:39:44.054417",
     "status": "completed"
    },
    "tags": []
   },
   "outputs": [],
   "source": [
    "torch.save(model.state_dict(), \"bird_classification_model.pth\")"
   ]
  },
  {
   "cell_type": "code",
   "execution_count": 13,
   "id": "5fda1521",
   "metadata": {
    "execution": {
     "iopub.execute_input": "2025-01-25T19:39:44.137348Z",
     "iopub.status.busy": "2025-01-25T19:39:44.137081Z",
     "iopub.status.idle": "2025-01-25T19:39:44.366308Z",
     "shell.execute_reply": "2025-01-25T19:39:44.365505Z"
    },
    "papermill": {
     "duration": 0.234937,
     "end_time": "2025-01-25T19:39:44.367616",
     "exception": false,
     "start_time": "2025-01-25T19:39:44.132679",
     "status": "completed"
    },
    "tags": []
   },
   "outputs": [
    {
     "data": {
      "image/png": "[encoded data removed]",
      "text/plain": [
       "<Figure size 1000x500 with 1 Axes>"
      ]
     },
     "metadata": {},
     "output_type": "display_data"
    }
   ],
   "source": [
    "plt.figure(figsize=(10, 5))\n",
    "plt.plot(train_losses, label=\"Train Loss\")\n",
    "plt.plot(val_losses, label=\"Validation Loss\")\n",
    "plt.xlabel(\"Epoch\")\n",
    "plt.ylabel(\"Loss\")\n",
    "plt.legend()\n",
    "plt.title(\"Training and Validation Loss\")\n",
    "plt.show()"
   ]
  },
  {
   "cell_type": "code",
   "execution_count": 14,
   "id": "cb391dc0",
   "metadata": {
    "execution": {
     "iopub.execute_input": "2025-01-25T19:39:44.377458Z",
     "iopub.status.busy": "2025-01-25T19:39:44.377211Z",
     "iopub.status.idle": "2025-01-25T19:39:47.980948Z",
     "shell.execute_reply": "2025-01-25T19:39:47.980017Z"
    },
    "papermill": {
     "duration": 3.610236,
     "end_time": "2025-01-25T19:39:47.982505",
     "exception": false,
     "start_time": "2025-01-25T19:39:44.372269",
     "status": "completed"
    },
    "tags": []
   },
   "outputs": [
    {
     "name": "stderr",
     "output_type": "stream",
     "text": [
      "<ipython-input-14-85937494f40b>:31: FutureWarning: You are using `torch.load` with `weights_only=False` (the current default value), which uses the default pickle module implicitly. It is possible to construct malicious pickle data which will execute arbitrary code during unpickling (See https://github.com/pytorch/pytorch/blob/main/SECURITY.md#untrusted-models for more details). In a future release, the default value for `weights_only` will be flipped to `True`. This limits the functions that could be executed during unpickling. Arbitrary objects will no longer be allowed to be loaded via this mode unless they are explicitly allowlisted by the user via `torch.serialization.add_safe_globals`. We recommend you start setting `weights_only=True` for any use case where you don't have full control of the loaded file. Please open an issue on GitHub for any issues related to this experimental feature.\n",
      "  model.load_state_dict(torch.load(\"/kaggle/working/bird_classification_model.pth\"))\n"
     ]
    },
    {
     "name": "stdout",
     "output_type": "stream",
     "text": [
      "Predictions saved to submission.csv!\n"
     ]
    }
   ],
   "source": [
    "# Custom Test Dataset Class\n",
    "class TestDataset(Dataset):\n",
    "    def __init__(self, test_dir, transform=None):\n",
    "        self.test_dir = test_dir\n",
    "        self.image_paths = sorted(os.listdir(test_dir))  # Sort to ensure consistent order\n",
    "        self.transform = transform\n",
    "\n",
    "    def __len__(self):\n",
    "        return len(self.image_paths)\n",
    "\n",
    "    def __getitem__(self, idx):\n",
    "        img_path = os.path.join(self.test_dir, self.image_paths[idx])\n",
    "        image = Image.open(img_path).convert(\"RGB\")\n",
    "        if self.transform:\n",
    "            image = self.transform(image)\n",
    "        return image, self.image_paths[idx]\n",
    "\n",
    "# Define the test data directory and transformations\n",
    "test_dir = \"/kaggle/input/bdma-compatition/BDMA7_project_files/test_images/mistery_cat\"  # Replace with the actual path to your test images\n",
    "test_transform = transforms.Compose([\n",
    "    transforms.Resize((224, 224)),\n",
    "    transforms.ToTensor(),\n",
    "    transforms.Normalize([0.485, 0.456, 0.406], [0.229, 0.224, 0.225])\n",
    "])\n",
    "\n",
    "# Load the test dataset\n",
    "test_dataset = TestDataset(test_dir, transform=test_transform)\n",
    "test_loader = DataLoader(test_dataset, batch_size=32, shuffle=False)\n",
    "\n",
    "# Load the trained model\n",
    "model.load_state_dict(torch.load(\"/kaggle/working/bird_classification_model.pth\"))\n",
    "model.eval()  # Set the model to evaluation mode\n",
    "\n",
    "# Generate predictions\n",
    "predictions = []\n",
    "image_names = []\n",
    "\n",
    "with torch.no_grad():\n",
    "    for inputs, image_paths in test_loader:\n",
    "        inputs = inputs.to(device)\n",
    "        outputs = model(inputs)\n",
    "        _, predicted = outputs.max(1)  # Get the predicted class index\n",
    "        predictions.extend(predicted.cpu().numpy())\n",
    "        image_names.extend(image_paths)\n",
    "\n",
    "# Save predictions to CSV\n",
    "submission_df = pd.DataFrame({\n",
    "    \"path\": image_names,\n",
    "    \"class_idx\": predictions\n",
    "})\n",
    "submission_df.to_csv(\"submission.csv\", index=False)\n",
    "print(\"Predictions saved to submission.csv!\")"
   ]
  },
  {
   "cell_type": "markdown",
   "id": "66136621",
   "metadata": {
    "papermill": {
     "duration": 0.004672,
     "end_time": "2025-01-25T19:39:47.992461",
     "exception": false,
     "start_time": "2025-01-25T19:39:47.987789",
     "status": "completed"
    },
    "tags": []
   },
   "source": [
    "some modifications to solve the model crash"
   ]
  },
  {
   "cell_type": "code",
   "execution_count": 15,
   "id": "a726f982",
   "metadata": {
    "execution": {
     "iopub.execute_input": "2025-01-25T19:39:48.002146Z",
     "iopub.status.busy": "2025-01-25T19:39:48.001920Z",
     "iopub.status.idle": "2025-01-25T19:39:48.007066Z",
     "shell.execute_reply": "2025-01-25T19:39:48.006246Z"
    },
    "papermill": {
     "duration": 0.011488,
     "end_time": "2025-01-25T19:39:48.008347",
     "exception": false,
     "start_time": "2025-01-25T19:39:47.996859",
     "status": "completed"
    },
    "tags": []
   },
   "outputs": [],
   "source": [
    "class TestDataset(Dataset):\n",
    "    def __init__(self, test_dir, transform=None):\n",
    "        self.test_dir = test_dir\n",
    "        self.image_paths = [\n",
    "            fname for fname in sorted(os.listdir(test_dir))\n",
    "            if os.path.isfile(os.path.join(test_dir, fname))\n",
    "        ]  # Only include files\n",
    "        self.transform = transform\n",
    "\n",
    "        # Debugging: Print the number of valid image files\n",
    "        print(f\"Found {len(self.image_paths)} valid image files in the test directory.\")\n",
    "\n",
    "    def __len__(self):\n",
    "        return len(self.image_paths)\n",
    "\n",
    "    def __getitem__(self, idx):\n",
    "        img_path = os.path.join(self.test_dir, self.image_paths[idx])\n",
    "        image = Image.open(img_path).convert(\"RGB\")\n",
    "        if self.transform:\n",
    "            image = self.transform(image)\n",
    "        return image, self.image_paths[idx]"
   ]
  },
  {
   "cell_type": "code",
   "execution_count": 16,
   "id": "b1a6cb0c",
   "metadata": {
    "execution": {
     "iopub.execute_input": "2025-01-25T19:39:48.017933Z",
     "iopub.status.busy": "2025-01-25T19:39:48.017687Z",
     "iopub.status.idle": "2025-01-25T19:39:48.021887Z",
     "shell.execute_reply": "2025-01-25T19:39:48.021125Z"
    },
    "papermill": {
     "duration": 0.010293,
     "end_time": "2025-01-25T19:39:48.023101",
     "exception": false,
     "start_time": "2025-01-25T19:39:48.012808",
     "status": "completed"
    },
    "tags": []
   },
   "outputs": [
    {
     "name": "stdout",
     "output_type": "stream",
     "text": [
      "The directory /kaggle/input/bdma-compatition/BDMA7_project_files/test_images exists.\n"
     ]
    }
   ],
   "source": [
    "test_dir = \"/kaggle/input/bdma-compatition/BDMA7_project_files/test_images\"  # Replace with your actual test images path\n",
    "if not os.path.exists(test_dir):\n",
    "    print(f\"Error: The directory {test_dir} does not exist.\")\n",
    "else:\n",
    "    print(f\"The directory {test_dir} exists.\")"
   ]
  },
  {
   "cell_type": "code",
   "execution_count": 17,
   "id": "4ac652fa",
   "metadata": {
    "execution": {
     "iopub.execute_input": "2025-01-25T19:39:48.032822Z",
     "iopub.status.busy": "2025-01-25T19:39:48.032621Z",
     "iopub.status.idle": "2025-01-25T19:39:48.037862Z",
     "shell.execute_reply": "2025-01-25T19:39:48.037241Z"
    },
    "papermill": {
     "duration": 0.011355,
     "end_time": "2025-01-25T19:39:48.038995",
     "exception": false,
     "start_time": "2025-01-25T19:39:48.027640",
     "status": "completed"
    },
    "tags": []
   },
   "outputs": [
    {
     "name": "stdout",
     "output_type": "stream",
     "text": [
      "Contents of the test directory: ['mistery_cat']\n"
     ]
    }
   ],
   "source": [
    "print(\"Contents of the test directory:\", os.listdir(test_dir))"
   ]
  }
 ],
 "metadata": {
  "kaggle": {
   "accelerator": "gpu",
   "dataSources": [
    {
     "datasetId": 6545952,
     "sourceId": 10577719,
     "sourceType": "datasetVersion"
    }
   ],
   "dockerImageVersionId": 30840,
   "isGpuEnabled": true,
   "isInternetEnabled": true,
   "language": "python",
   "sourceType": "notebook"
  },
  "kernelspec": {
   "display_name": "Python 3",
   "language": "python",
   "name": "python3"
  },
  "language_info": {
   "codemirror_mode": {
    "name": "ipython",
    "version": 3
   },
   "file_extension": ".py",
   "mimetype": "text/x-python",
   "name": "python",
   "nbconvert_exporter": "python",
   "pygments_lexer": "ipython3",
   "version": "3.10.12"
  },
  "papermill": {
   "default_parameters": {},
   "duration": 110.584953,
   "end_time": "2025-01-25T19:39:49.564238",
   "environment_variables": {},
   "exception": null,
   "input_path": "__notebook__.ipynb",
   "output_path": "__notebook__.ipynb",
   "parameters": {},
   "start_time": "2025-01-25T19:37:58.979285",
   "version": "2.6.0"
  }
 },
 "nbformat": 4,
 "nbformat_minor": 5
}
