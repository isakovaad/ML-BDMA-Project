{
  "cells": [
    {
      "cell_type": "markdown",
      "metadata": {
        "id": "1KCn5vlSZUVb"
      },
      "source": [
        "# VGG16 without bird classes from ImageNet\n",
        "# Good choice as it's simpler to understand than more complex architectures\n",
        "# Will need careful memory management due to VGG16's size\n",
        "\n"
      ]
    },
    {
      "cell_type": "markdown",
      "metadata": {
        "id": "RdRhDy2DZVU_"
      },
      "source": [
        "# Conservative augmentations:\n",
        "- Horizontal flips (birds often look similar from either side)\n",
        "- Small rotation range (±15° max to maintain natural poses)\n",
        "- Minimal brightness/contrast adjustments\n",
        "- Small random crops while preserving main features"
      ]
    },
    {
      "cell_type": "markdown",
      "metadata": {
        "id": "5FbZH_IwZaO3"
      },
      "source": [
        "# Progressive training\n",
        "1. First freeze VGG16 layers\n",
        "2. Train only classifier layers\n",
        "3. Gradually unfreeze later layers\n",
        "4. Use small learning rate for fine-tuning"
      ]
    },
    {
      "cell_type": "markdown",
      "metadata": {
        "id": "0_JAuEtDZ2hb"
      },
      "source": [
        "# Bird Species Classification Project\n",
        "## BDMA 7 - Computer Vision Competition\n",
        "\n",
        "This notebook documents the development of a bird species classification model following strict competition guidelines. We'll use a systematic approach to ensure both model performance and rule compliance.\n",
        "\n",
        "### 1. Data Exploration and Setup\n",
        "\n",
        "First, we'll explore our dataset structure, load necessary libraries, and analyze our class distribution. Understanding our data is crucial for making informed decisions about model architecture and training strategy."
      ]
    },
    {
      "cell_type": "code",
      "execution_count": null,
      "metadata": {
        "colab": {
          "base_uri": "https://localhost:8080/"
        },
        "id": "7gSy-p4nzOqR",
        "outputId": "c208101f-901e-47c7-ac79-c789b0127ee0"
      },
      "outputs": [],
      "source": [
        "!unzip /content/bdma-07-competition.zip"
      ]
    },
    {
      "cell_type": "code",
      "execution_count": null,
      "metadata": {
        "colab": {
          "base_uri": "https://localhost:8080/"
        },
        "id": "4RiaUledR1Zj",
        "outputId": "a65bcc34-c211-4a5d-c45d-44ea7ed4fde1"
      },
      "outputs": [],
      "source": [
        "!ls -R"
      ]
    },
    {
      "cell_type": "code",
      "execution_count": null,
      "metadata": {
        "colab": {
          "base_uri": "https://localhost:8080/"
        },
        "id": "hovi6hlb0nLb",
        "outputId": "f3fe504c-c107-4f4b-d081-f963722e5e2c",
        "scrolled": true
      },
      "outputs": [
        {
          "name": "stdout",
          "output_type": "stream",
          "text": [
            "True\n",
            "Tesla T4\n",
            "12.4\n"
          ]
        }
      ],
      "source": [
        "import torch\n",
        "\n",
        "# Check if CUDA is available\n",
        "print(torch.cuda.is_available())\n",
        "\n",
        "# Show CUDA device name\n",
        "print(torch.cuda.get_device_name(0))\n",
        "\n",
        "# Verify CUDA version\n",
        "print(torch.version.cuda)"
      ]
    },
    {
      "cell_type": "code",
      "execution_count": null,
      "metadata": {
        "colab": {
          "base_uri": "https://localhost:8080/"
        },
        "id": "fVcEIde80nLb",
        "outputId": "69085410-9542-4810-f029-d061563e7791"
      },
      "outputs": [
        {
          "name": "stdout",
          "output_type": "stream",
          "text": [
            "Python Version: 3.11.11 (main, Dec  4 2024, 08:55:07) [GCC 11.4.0]\n",
            "PyTorch Version: 2.5.1+cu124\n",
            "CUDA Available: True\n",
            "CUDA Version: 12.4\n",
            "cuDNN Version: 90300\n",
            "Device Count: 1\n",
            "GPU 0 Name: Tesla T4\n"
          ]
        }
      ],
      "source": [
        "import torch\n",
        "import sys\n",
        "# Comprehensive GPU Check\n",
        "def gpu_check():\n",
        "    print(\"Python Version:\", sys.version)\n",
        "    print(\"PyTorch Version:\", torch.__version__)\n",
        "\n",
        "    try:\n",
        "        print(\"CUDA Available:\", torch.cuda.is_available())\n",
        "        print(\"CUDA Version:\", torch.version.cuda)\n",
        "        print(\"cuDNN Version:\", torch.backends.cudnn.version())\n",
        "        print(\"Device Count:\", torch.cuda.device_count())\n",
        "\n",
        "        if torch.cuda.is_available():\n",
        "            for i in range(torch.cuda.device_count()):\n",
        "                print(f\"GPU {i} Name:\", torch.cuda.get_device_name(i))\n",
        "    except Exception as e:\n",
        "        print(\"Error:\", str(e))\n",
        "\n",
        "gpu_check()"
      ]
    },
    {
      "cell_type": "markdown",
      "metadata": {
        "id": "Sjci8Lr5bZWd"
      },
      "source": [
        "### Data Analysis Insights\n",
        "\n",
        "Let's analyze key aspects of our dataset:\n",
        "\n",
        "1. Dataset Size:\n",
        "   - Training set: 1,082 images\n",
        "   - Validation set: 103 images\n",
        "   - Test set: 400 images\n",
        "\n",
        "2. Class Distribution:\n",
        "   - We have 20 different bird species\n",
        "   - Understanding if the dataset is balanced will inform our training strategy\n",
        "   \n",
        "3. Directory Structure:\n",
        "   - Images are organized by species in separate folders\n",
        "   - This hierarchical structure will help in creating our data loader"
      ]
    },
    {
      "cell_type": "markdown",
      "metadata": {
        "id": "bQClUzZDcUKV"
      },
      "source": [
        "### 2. Data Loading and Visualization\n",
        "\n",
        "Before building our model, it's essential to:\n",
        "1. Create efficient data loading pipelines\n",
        "2. Visualize sample images to understand our data\n",
        "3. Set up proper data transformations\n",
        "\n",
        "This will help us:\n",
        "- Verify image quality and characteristics\n",
        "- Design appropriate augmentation strategies\n",
        "- Identify potential challenges in classification"
      ]
    },
    {
      "cell_type": "code",
      "execution_count": null,
      "metadata": {
        "id": "wwsalMkTcVEZ"
      },
      "outputs": [],
      "source": [
        "import os\n",
        "import pandas as pd\n",
        "import numpy as np\n",
        "from torch.utils.data import Dataset, DataLoader\n",
        "from torchvision import transforms\n",
        "from PIL import Image\n",
        "import matplotlib.pyplot as plt\n",
        "\n",
        "class BirdDataset(Dataset):\n",
        "    def __init__(self, df, root_dir, transform=None):\n",
        "        self.df = df\n",
        "        self.root_dir = root_dir\n",
        "        self.transform = transform\n",
        "\n",
        "        # Verify and clean data paths\n",
        "        valid_samples = []\n",
        "        for idx, row in df.iterrows():\n",
        "            # Construct full path including train_images\n",
        "            full_path = os.path.join(root_dir, 'train_images', row['path'])\n",
        "            if os.path.exists(full_path):\n",
        "                valid_samples.append(idx)\n",
        "            else:\n",
        "                print(f\"Warning: File not found: {full_path}\")\n",
        "\n",
        "        self.df = df.iloc[valid_samples].reset_index(drop=True)\n",
        "        print(f\"Found {len(self.df)} valid images out of {len(df)} total\")\n",
        "\n",
        "    def __len__(self):\n",
        "        return len(self.df)\n",
        "\n",
        "    def __getitem__(self, idx):\n",
        "        # Include train_images in the path\n",
        "        img_path = os.path.join(self.root_dir, 'train_images', self.df.iloc[idx]['path'])\n",
        "        image = Image.open(img_path).convert('RGB')\n",
        "        label = self.df.iloc[idx]['class_idx']\n",
        "\n",
        "        if self.transform:\n",
        "            image = self.transform(image)\n",
        "\n",
        "        return image, label\n",
        "\n",
        "# Basic transforms\n",
        "basic_transform = transforms.Compose([\n",
        "    transforms.Resize((224, 224)),\n",
        "    transforms.ToTensor(),\n",
        "])\n",
        "\n",
        "# Let's verify our directory structure\n",
        "print(\"Current working directory:\", os.getcwd())\n",
        "print(\"\\nContents of BDMA7_project_files:\")\n",
        "print(os.listdir('BDMA7_project_files'))\n",
        "\n",
        "# Create dataset\n",
        "train_dataset = BirdDataset(\n",
        "    train_df,\n",
        "    root_dir='BDMA7_project_files',\n",
        "    transform=basic_transform\n",
        ")\n",
        "\n",
        "# Create dataloader\n",
        "train_loader = DataLoader(\n",
        "    train_dataset,\n",
        "    batch_size=4,\n",
        "    shuffle=True,\n",
        "    num_workers=0  # Important for debugging\n",
        ")\n",
        "\n",
        "def show_batch(dataloader, num_images=4):\n",
        "    \"\"\"Display a batch of images with their labels\"\"\"\n",
        "    images, labels = next(iter(dataloader))\n",
        "    class_names = train_df['class'].unique()\n",
        "\n",
        "    plt.figure(figsize=(12, 6))\n",
        "    for i in range(min(num_images, len(images))):\n",
        "        plt.subplot(2, 2, i + 1)\n",
        "        img = images[i].permute(1, 2, 0)\n",
        "        # Denormalize if necessary\n",
        "        img = torch.clamp(img, 0, 1)\n",
        "        plt.imshow(img)\n",
        "        plt.title(f'Class: {class_names[labels[i]]}')\n",
        "        plt.axis('off')\n",
        "    plt.tight_layout()\n",
        "    plt.show()\n",
        "\n",
        "# Try to display images\n",
        "try:\n",
        "    print(\"\\nSample images from training set:\")\n",
        "    show_batch(train_loader)\n",
        "except Exception as e:\n",
        "    print(f\"Error displaying images: {str(e)}\")\n",
        "    import traceback\n",
        "    traceback.print_exc()"
      ]
    },
    {
      "cell_type": "code",
      "execution_count": null,
      "metadata": {
        "colab": {
          "base_uri": "https://localhost:8080/"
        },
        "id": "KCtLIf9veYQK",
        "outputId": "a78854a2-3d7e-4a8d-aa1c-b4a6751b1e3c"
      },
      "outputs": [
        {
          "name": "stdout",
          "output_type": "stream",
          "text": [
            "True\n"
          ]
        }
      ],
      "source": [
        "print(os.path.exists('BDMA7_project_files/train_images'))"
      ]
    },
    {
      "cell_type": "markdown",
      "metadata": {
        "id": "Xn0rjTcPdyhm"
      },
      "source": [
        "### Data Loading Pipeline Analysis\n",
        "\n",
        "Our data loading system is designed to:\n",
        "1. Handle the hierarchical directory structure\n",
        "2. Convert images to RGB format (handling grayscale if present)\n",
        "3. Resize images to a standard size (224x224 for VGG16)\n",
        "\n",
        "Next Steps:\n",
        "1. Implement data augmentation pipeline\n",
        "2. Add class mapping functionality\n",
        "3. Set up validation data loader\n",
        "\n",
        "Key Considerations:\n",
        "- Memory efficiency\n",
        "- Image preprocessing requirements\n",
        "- Batch size optimization"
      ]
    },
    {
      "cell_type": "markdown",
      "metadata": {
        "id": "XNSIQixIekPe"
      },
      "source": [
        "### 3. Dataset Analysis and Visualization Tools\n",
        "\n",
        "Now that we can load our images correctly, let's create tools to:\n",
        "1. Analyze image properties (sizes, aspect ratios)\n",
        "2. Visualize class distribution\n",
        "3. Check image quality and characteristics\n",
        "4. Understand typical bird poses and orientations\n",
        "\n",
        "This information will help us make informed decisions about:\n",
        "- Appropriate image resizing strategies\n",
        "- Augmentation techniques\n",
        "- Model architecture modifications"
      ]
    },
    {
      "cell_type": "code",
      "execution_count": null,
      "metadata": {
        "id": "_D4UthxAenap"
      },
      "outputs": [],
      "source": [
        "import torch\n",
        "from torchvision.utils import make_grid\n",
        "import seaborn as sns\n",
        "\n",
        "def analyze_dataset_stats():\n",
        "    \"\"\"Analyze and visualize dataset statistics\"\"\"\n",
        "    # Class distribution\n",
        "    plt.figure(figsize=(15, 5))\n",
        "    class_dist = train_df['class'].value_counts()\n",
        "    sns.barplot(x=class_dist.index, y=class_dist.values)\n",
        "    plt.xticks(rotation=45, ha='right')\n",
        "    plt.title('Class Distribution in Training Set')\n",
        "    plt.xlabel('Bird Species')\n",
        "    plt.ylabel('Number of Images')\n",
        "    plt.tight_layout()\n",
        "    plt.show()\n",
        "\n",
        "    # Print class statistics\n",
        "    print(\"\\nClass Statistics:\")\n",
        "    print(f\"Number of classes: {len(class_dist)}\")\n",
        "    print(f\"Average images per class: {class_dist.mean():.1f}\")\n",
        "    print(f\"Min images in a class: {class_dist.min()} ({class_dist.idxmin()})\")\n",
        "    print(f\"Max images in a class: {class_dist.max()} ({class_dist.idxmax()})\")\n",
        "\n",
        "def analyze_image_properties(dataset, num_samples=100):\n",
        "    \"\"\"Analyze image sizes and aspect ratios\"\"\"\n",
        "    sizes = []\n",
        "    aspect_ratios = []\n",
        "\n",
        "    for i in range(min(num_samples, len(dataset))):\n",
        "        img_path = os.path.join('BDMA7_project_files/train_images', dataset.df.iloc[i]['path'])\n",
        "        with Image.open(img_path) as img:\n",
        "            w, h = img.size\n",
        "            sizes.append((w, h))\n",
        "            aspect_ratios.append(w/h)\n",
        "\n",
        "    # Plot size distribution\n",
        "    plt.figure(figsize=(15, 5))\n",
        "    plt.subplot(1, 2, 1)\n",
        "    plt.scatter([s[0] for s in sizes], [s[1] for s in sizes], alpha=0.5)\n",
        "    plt.xlabel('Width')\n",
        "    plt.ylabel('Height')\n",
        "    plt.title('Image Dimensions Distribution')\n",
        "\n",
        "    plt.subplot(1, 2, 2)\n",
        "    plt.hist(aspect_ratios, bins=20)\n",
        "    plt.xlabel('Aspect Ratio (width/height)')\n",
        "    plt.ylabel('Count')\n",
        "    plt.title('Aspect Ratio Distribution')\n",
        "    plt.tight_layout()\n",
        "    plt.show()\n",
        "\n",
        "# Run analyses\n",
        "print(\"Analyzing dataset statistics...\")\n",
        "analyze_dataset_stats()\n",
        "\n",
        "print(\"\\nAnalyzing image properties...\")\n",
        "analyze_image_properties(train_dataset)"
      ]
    },
    {
      "cell_type": "markdown",
      "metadata": {
        "id": "g7xmUdxrfb5a"
      },
      "source": [
        "### Data Augmentation\n",
        "\n",
        "Class Balance:\n",
        "\n",
        "\n",
        "- The distribution is remarkably balanced, with all classes having between 50-60 samples\n",
        "- This natural balance means we don't need to implement class weighting or oversampling techniques\n",
        "\n",
        "\n",
        "Image Dimensions:\n",
        "\n",
        "\n",
        "- Most images cluster around similar dimensions\n",
        "- VGG16's input requirements (224x224) will standardize these variations\n",
        "- The aspect ratios show most images are in a reasonable range (0.6-2.0), with peaks around 0.8 and 1.5"
      ]
    },
    {
      "cell_type": "code",
      "execution_count": null,
      "metadata": {
        "id": "RINywoL2fcAv"
      },
      "outputs": [],
      "source": [
        "import os\n",
        "import pandas as pd\n",
        "import torch\n",
        "from torch.utils.data import Dataset, DataLoader\n",
        "from torchvision import transforms\n",
        "from PIL import Image\n",
        "\n",
        "# Define transforms\n",
        "def get_train_transforms():\n",
        "    return transforms.Compose([\n",
        "        transforms.Resize((256, 256)),  # Slightly larger for random crop\n",
        "        transforms.RandomCrop(224),     # VGG16 input size\n",
        "        transforms.RandomHorizontalFlip(p=0.5),  # Birds look similar horizontally\n",
        "        transforms.RandomRotation(15),  # Slight rotation only\n",
        "        transforms.ColorJitter(\n",
        "            brightness=0.2,  # Subtle brightness changes\n",
        "            contrast=0.2,    # Subtle contrast changes\n",
        "            saturation=0.2,  # Careful with saturation as birds have distinctive colors\n",
        "            hue=0.1         # Very minimal hue changes\n",
        "        ),\n",
        "        transforms.ToTensor(),\n",
        "        transforms.Normalize(\n",
        "            mean=[0.485, 0.456, 0.406],  # ImageNet statistics\n",
        "            std=[0.229, 0.224, 0.225]\n",
        "        )\n",
        "    ])\n",
        "\n",
        "def get_val_transforms():\n",
        "    return transforms.Compose([\n",
        "        transforms.Resize((224, 224)),  # Clean resize for validation\n",
        "        transforms.ToTensor(),\n",
        "        transforms.Normalize(\n",
        "            mean=[0.485, 0.456, 0.406],\n",
        "            std=[0.229, 0.224, 0.225]\n",
        "        )\n",
        "    ])\n",
        "\n",
        "# Read metadata files if not already loaded\n",
        "train_df = pd.read_csv('BDMA7_project_files/train_metadata.csv')\n",
        "val_df = pd.read_csv('BDMA7_project_files/val_metadata.csv')\n",
        "\n"
      ]
    },
    {
      "cell_type": "code",
      "execution_count": null,
      "metadata": {
        "id": "OE_PpOj7hG9K"
      },
      "outputs": [],
      "source": [
        "import matplotlib.pyplot as plt\n",
        "import numpy as np\n",
        "import torch\n",
        "from torchvision import transforms\n",
        "\n",
        "def show_augmentations(dataset, idx=0, num_augments=5):\n",
        "    \"\"\"\n",
        "    Display original image alongside multiple augmented versions\n",
        "    \"\"\"\n",
        "    plt.figure(figsize=(15, 3))\n",
        "\n",
        "    # Get and display original image\n",
        "    img_path = os.path.join(dataset.root_dir, 'train_images', dataset.df.iloc[idx]['path'])\n",
        "    original_image = Image.open(img_path).convert('RGB')\n",
        "    plt.subplot(1, num_augments+1, 1)\n",
        "    plt.imshow(original_image)\n",
        "    plt.title('Original')\n",
        "    plt.axis('off')\n",
        "\n",
        "    # Create augmentation pipeline without normalization for visualization\n",
        "    augment_transform = transforms.Compose([\n",
        "        transforms.Resize((256, 256)),\n",
        "        transforms.RandomCrop(224),\n",
        "        transforms.RandomHorizontalFlip(p=0.5),\n",
        "        transforms.RandomRotation(15),\n",
        "        transforms.ColorJitter(\n",
        "            brightness=0.2,\n",
        "            contrast=0.2,\n",
        "            saturation=0.2,\n",
        "            hue=0.1\n",
        "        )\n",
        "    ])\n",
        "\n",
        "    # Generate and display augmented versions\n",
        "    for i in range(num_augments):\n",
        "        # Apply augmentations\n",
        "        augmented_image = augment_transform(original_image)\n",
        "\n",
        "        # Display\n",
        "        plt.subplot(1, num_augments+1, i+2)\n",
        "        plt.imshow(augmented_image)\n",
        "        plt.title(f'Augmented {i+1}')\n",
        "        plt.axis('off')\n",
        "\n",
        "    plt.tight_layout()\n",
        "    plt.show()\n",
        "\n",
        "# Display augmentations for multiple examples\n",
        "print(\"Displaying augmentations for different bird species:\")\n",
        "for idx in [0, 10, 20]:\n",
        "    species = train_dataset.df.iloc[idx]['class'].replace('_', ' ')\n",
        "    print(f\"\\nSpecies: {species}\")\n",
        "    show_augmentations(train_dataset, idx)"
      ]
    },
    {
      "cell_type": "markdown",
      "metadata": {
        "id": "FKDkz2KShNTY"
      },
      "source": [
        "### Expected Outcomes\n",
        "After running this visualization, we should see:\n",
        "1. Subtle color variations that preserve species characteristics\n",
        "2. Slight rotations that maintain natural bird poses\n",
        "3. Crops that keep the bird as the main subject\n",
        "4. Consistent image quality across transformations\n",
        "\n",
        "### Next Steps\n",
        "Based on these visualizations, we can:\n",
        "1. Adjust augmentation parameters if needed\n",
        "2. Proceed to model setup if satisfactory\n",
        "3. Add/remove specific augmentations"
      ]
    },
    {
      "cell_type": "markdown",
      "metadata": {
        "id": "xwTZt3o_hlT3"
      },
      "source": [
        "# VGG16 Model Implementation\n",
        "\n",
        "### Architecture Overview\n",
        "VGG16 is an excellent choice for our bird classification task because:\n",
        "1. Well-understood architecture with proven performance\n",
        "2. Good feature extraction capabilities\n",
        "3. Relatively straightforward to modify and fine-tune\n",
        "\n",
        "### Implementation Strategy\n",
        "We'll implement VGG16 with these considerations:\n",
        "1. Remove bird-related classes from ImageNet pretraining\n",
        "2. Modify the classifier layer for our 20 classes\n",
        "3. Set up proper transfer learning pipeline"
      ]
    },
    {
      "cell_type": "code",
      "execution_count": null,
      "metadata": {
        "colab": {
          "base_uri": "https://localhost:8080/"
        },
        "id": "H5jzIXpShly6",
        "outputId": "ce922f1d-abf5-4014-973d-6be7da060517"
      },
      "outputs": [
        {
          "name": "stdout",
          "output_type": "stream",
          "text": [
            "\n",
            "Model Structure:\n",
            "BirdFreeVGG16(\n",
            "  (features): Sequential(\n",
            "    (0): Conv2d(3, 64, kernel_size=(3, 3), stride=(1, 1), padding=(1, 1))\n",
            "    (1): ReLU(inplace=True)\n",
            "    (2): Conv2d(64, 64, kernel_size=(3, 3), stride=(1, 1), padding=(1, 1))\n",
            "    (3): ReLU(inplace=True)\n",
            "    (4): MaxPool2d(kernel_size=2, stride=2, padding=0, dilation=1, ceil_mode=False)\n",
            "    (5): Conv2d(64, 128, kernel_size=(3, 3), stride=(1, 1), padding=(1, 1))\n",
            "    (6): ReLU(inplace=True)\n",
            "    (7): Conv2d(128, 128, kernel_size=(3, 3), stride=(1, 1), padding=(1, 1))\n",
            "    (8): ReLU(inplace=True)\n",
            "    (9): MaxPool2d(kernel_size=2, stride=2, padding=0, dilation=1, ceil_mode=False)\n",
            "    (10): Conv2d(128, 256, kernel_size=(3, 3), stride=(1, 1), padding=(1, 1))\n",
            "    (11): ReLU(inplace=True)\n",
            "    (12): Conv2d(256, 256, kernel_size=(3, 3), stride=(1, 1), padding=(1, 1))\n",
            "    (13): ReLU(inplace=True)\n",
            "    (14): Conv2d(256, 256, kernel_size=(3, 3), stride=(1, 1), padding=(1, 1))\n",
            "    (15): ReLU(inplace=True)\n",
            "    (16): MaxPool2d(kernel_size=2, stride=2, padding=0, dilation=1, ceil_mode=False)\n",
            "    (17): Conv2d(256, 512, kernel_size=(3, 3), stride=(1, 1), padding=(1, 1))\n",
            "    (18): ReLU(inplace=True)\n",
            "    (19): Conv2d(512, 512, kernel_size=(3, 3), stride=(1, 1), padding=(1, 1))\n",
            "    (20): ReLU(inplace=True)\n",
            "    (21): Conv2d(512, 512, kernel_size=(3, 3), stride=(1, 1), padding=(1, 1))\n",
            "    (22): ReLU(inplace=True)\n",
            "    (23): MaxPool2d(kernel_size=2, stride=2, padding=0, dilation=1, ceil_mode=False)\n",
            "    (24): Conv2d(512, 512, kernel_size=(3, 3), stride=(1, 1), padding=(1, 1))\n",
            "    (25): ReLU(inplace=True)\n",
            "    (26): Conv2d(512, 512, kernel_size=(3, 3), stride=(1, 1), padding=(1, 1))\n",
            "    (27): ReLU(inplace=True)\n",
            "    (28): Conv2d(512, 512, kernel_size=(3, 3), stride=(1, 1), padding=(1, 1))\n",
            "    (29): ReLU(inplace=True)\n",
            "    (30): MaxPool2d(kernel_size=2, stride=2, padding=0, dilation=1, ceil_mode=False)\n",
            "  )\n",
            "  (avgpool): AdaptiveAvgPool2d(output_size=(7, 7))\n",
            "  (classifier): Sequential(\n",
            "    (0): Linear(in_features=25088, out_features=1024, bias=True)\n",
            "    (1): ReLU(inplace=True)\n",
            "    (2): Dropout(p=0.5, inplace=False)\n",
            "    (3): Linear(in_features=1024, out_features=512, bias=True)\n",
            "    (4): ReLU(inplace=True)\n",
            "    (5): Dropout(p=0.5, inplace=False)\n",
            "    (6): Linear(in_features=512, out_features=20, bias=True)\n",
            "  )\n",
            ")\n",
            "\n",
            "Model initialized on: cuda\n",
            "Total parameters: 40940884\n",
            "Trainable parameters: 26226196\n",
            "\n",
            "Layer Status:\n",
            "features.0.weight: requires_grad = False\n",
            "features.0.bias: requires_grad = False\n",
            "features.2.weight: requires_grad = False\n",
            "features.2.bias: requires_grad = False\n",
            "features.5.weight: requires_grad = False\n",
            "features.5.bias: requires_grad = False\n",
            "features.7.weight: requires_grad = False\n",
            "features.7.bias: requires_grad = False\n",
            "features.10.weight: requires_grad = False\n",
            "features.10.bias: requires_grad = False\n",
            "features.12.weight: requires_grad = False\n",
            "features.12.bias: requires_grad = False\n",
            "features.14.weight: requires_grad = False\n",
            "features.14.bias: requires_grad = False\n",
            "features.17.weight: requires_grad = False\n",
            "features.17.bias: requires_grad = False\n",
            "features.19.weight: requires_grad = False\n",
            "features.19.bias: requires_grad = False\n",
            "features.21.weight: requires_grad = False\n",
            "features.21.bias: requires_grad = False\n",
            "features.24.weight: requires_grad = False\n",
            "features.24.bias: requires_grad = False\n",
            "features.26.weight: requires_grad = False\n",
            "features.26.bias: requires_grad = False\n",
            "features.28.weight: requires_grad = False\n",
            "features.28.bias: requires_grad = False\n",
            "classifier.0.weight: requires_grad = True\n",
            "classifier.0.bias: requires_grad = True\n",
            "classifier.3.weight: requires_grad = True\n",
            "classifier.3.bias: requires_grad = True\n",
            "classifier.6.weight: requires_grad = True\n",
            "classifier.6.bias: requires_grad = True\n"
          ]
        },
        {
          "name": "stderr",
          "output_type": "stream",
          "text": [
            "/usr/local/lib/python3.11/dist-packages/torch/optim/lr_scheduler.py:62: UserWarning: The verbose parameter is deprecated. Please use get_last_lr() to access the learning rate.\n",
            "  warnings.warn(\n"
          ]
        }
      ],
      "source": [
        "import torch\n",
        "import torch.nn as nn\n",
        "import torchvision.models as models\n",
        "from torchvision.models import VGG16_Weights\n",
        "\n",
        "# ImageNet bird-related class indices\n",
        "BIRD_CLASSES = [\n",
        "    7,   # cock\n",
        "    8,   # hen\n",
        "    9,   # ostrich, Struthio camelus\n",
        "    10,  # brambling, Fringilla montifringilla\n",
        "    11,  # goldfinch, Carduelis carduelis\n",
        "    12,  # house finch, linnet, Carpodacus mexicanus\n",
        "    13,  # junco, snowbird\n",
        "    14,  # indigo bunting, indigo finch, indigo bird, Passerina cyanea\n",
        "    15,  # robin, American robin, Turdus migratorius\n",
        "    16,  # bulbul\n",
        "    84,  # peacock\n",
        "    88,  # drake\n",
        "    89,  # red-breasted merganser, Mergus serrator\n",
        "    90,  # goose\n",
        "    91,  # black swan, Cygnus atratus\n",
        "    92,  # tusker\n",
        "    93,  # echidna, spiny anteater, anteater\n",
        "    94,  # platypus, duckbill, duckbilled platypus, duck-billed platypus\n",
        "    127, # white stork, Ciconia ciconia\n",
        "    128, # black stork, Ciconia nigra\n",
        "    129, # spoonbill\n",
        "    130, # flamingo\n",
        "    131, # little blue heron, Egretta caerulea\n",
        "    132, # American egret, great white heron, Egretta albus\n",
        "    133, # bittern\n",
        "    134, # crane\n",
        "    135, # limpkin, Aramus pictus\n",
        "    136, # European gallinule, Porphyrio porphyrio\n",
        "    137, # American coot, marsh hen, mud hen, water hen, Fulica americana\n",
        "    138, # bustard\n",
        "    139, # ruddy turnstone, Arenaria interpres\n",
        "    140, # red-backed sandpiper, dunlin, Erolia alpina\n",
        "    141, # redshank, Tringa totanus\n",
        "    142, # dowitcher\n",
        "    143, # oystercatcher, oyster catcher\n",
        "    144, # pelican\n",
        "    145, # king penguin, Aptenodytes patagonica\n",
        "    146, # albatross, mollymawk\n",
        "]\n",
        "\n",
        "\n",
        "class BirdFreeVGG16(nn.Module):\n",
        "    def __init__(self, num_classes=20):\n",
        "        super(BirdFreeVGG16, self).__init__()\n",
        "\n",
        "        # Load pretrained VGG16 and get its features\n",
        "        base_model = models.vgg16(weights=VGG16_Weights.IMAGENET1K_V1)\n",
        "\n",
        "        # Zero out bird-related knowledge\n",
        "        with torch.no_grad():\n",
        "            for bird_idx in BIRD_CLASSES:\n",
        "                base_model.classifier[-1].weight[bird_idx].zero_()\n",
        "                base_model.classifier[-1].bias[bird_idx].zero_()\n",
        "\n",
        "        # Get the feature layers\n",
        "        self.features = base_model.features\n",
        "        self.avgpool = base_model.avgpool\n",
        "\n",
        "        # Freeze all feature layers\n",
        "        for param in self.features.parameters():\n",
        "            param.requires_grad = False\n",
        "\n",
        "        # Define classifier layers with smaller dimensions\n",
        "        self.classifier = nn.Sequential(\n",
        "            nn.Linear(512 * 7 * 7, 1024),    # Reduced from 4096\n",
        "            nn.ReLU(True),\n",
        "            nn.Dropout(p=0.5),\n",
        "            nn.Linear(1024, 512),            # Reduced from 2048\n",
        "            nn.ReLU(True),\n",
        "            nn.Dropout(p=0.5),\n",
        "            nn.Linear(512, num_classes)       # Final layer\n",
        "        )\n",
        "\n",
        "    def forward(self, x):\n",
        "        x = self.features(x)\n",
        "        x = self.avgpool(x)\n",
        "        x = torch.flatten(x, 1)\n",
        "        x = self.classifier(x)\n",
        "        return x\n",
        "\n",
        "# Initialize model\n",
        "device = torch.device(\"cuda\" if torch.cuda.is_available() else \"cpu\")\n",
        "model = BirdFreeVGG16().to(device)\n",
        "\n",
        "# Print model structure to verify\n",
        "print(\"\\nModel Structure:\")\n",
        "print(model)\n",
        "\n",
        "# Only train classifier parameters\n",
        "optimizer = torch.optim.Adam(model.classifier.parameters(), lr=0.0001)\n",
        "\n",
        "scheduler = torch.optim.lr_scheduler.ReduceLROnPlateau(\n",
        "    optimizer,\n",
        "    mode='min',\n",
        "    factor=0.1,\n",
        "    patience=5,\n",
        "    verbose=True\n",
        ")\n",
        "\n",
        "print(f\"\\nModel initialized on: {device}\")\n",
        "print(f\"Total parameters: {sum(p.numel() for p in model.parameters())}\")\n",
        "print(f\"Trainable parameters: {sum(p.numel() for p in model.parameters() if p.requires_grad)}\")\n",
        "\n",
        "# Verify which layers are frozen\n",
        "print(\"\\nLayer Status:\")\n",
        "for name, param in model.named_parameters():\n",
        "    print(f\"{name}: requires_grad = {param.requires_grad}\")\n"
      ]
    },
    {
      "cell_type": "markdown",
      "metadata": {
        "id": "UkQ3HVYyjyRL"
      },
      "source": [
        "### Architecture Analysis - Much Better WE REDUCED TRAINABLE PARAMETERS!\n",
        "\n",
        "### Current Status\n",
        "1. Total parameters: ~41M (reasonable for VGG16)\n",
        "2. Trainable parameters: ~26M (only classifier)\n",
        "3. Feature layers are properly frozen\n",
        "4. Classifier dimensions are more appropriate\n",
        "\n",
        "### Parameter Breakdown:\n",
        "1. Features (frozen): ~14.7M parameters\n",
        "2. Classifier (trainable): ~26.2M parameters\n",
        "  - First layer: 25088 × 1024 = ~25.7M\n",
        "  - Second layer: 1024 × 512 = ~524K\n",
        "  - Final layer: 512 × 20 = ~10K\n",
        "\n",
        "### Recommended Adjustment\n",
        "We should further reduce the classifier size to prevent overfitting:"
      ]
    },
    {
      "cell_type": "code",
      "execution_count": null,
      "metadata": {
        "id": "oPBbjIn8je17"
      },
      "outputs": [],
      "source": [
        "class BirdFreeVGG16(nn.Module):\n",
        "    def __init__(self, num_classes=20):\n",
        "        super(BirdFreeVGG16, self).__init__()\n",
        "\n",
        "        # Load pretrained VGG16 and get its features\n",
        "        base_model = models.vgg16(weights=VGG16_Weights.IMAGENET1K_V1)\n",
        "\n",
        "        # Zero out bird-related knowledge\n",
        "        with torch.no_grad():\n",
        "            for bird_idx in BIRD_CLASSES:\n",
        "                base_model.classifier[-1].weight[bird_idx].zero_()\n",
        "                base_model.classifier[-1].bias[bird_idx].zero_()\n",
        "\n",
        "        self.features = base_model.features\n",
        "        self.avgpool = base_model.avgpool\n",
        "\n",
        "        # Freeze feature layers\n",
        "        for param in self.features.parameters():\n",
        "            param.requires_grad = False\n",
        "\n",
        "        # Smaller classifier for our dataset size\n",
        "        self.classifier = nn.Sequential(\n",
        "            nn.Linear(512 * 7 * 7, 512),     # Reduced from 1024\n",
        "            nn.ReLU(True),\n",
        "            nn.Dropout(p=0.5),\n",
        "            nn.Linear(512, 256),             # Reduced from 512\n",
        "            nn.ReLU(True),\n",
        "            nn.Dropout(p=0.5),\n",
        "            nn.Linear(256, num_classes)\n",
        "        )\n",
        "\n",
        "    def forward(self, x):\n",
        "        x = self.features(x)\n",
        "        x = self.avgpool(x)\n",
        "        x = torch.flatten(x, 1)\n",
        "        x = self.classifier(x)\n",
        "        return x"
      ]
    },
    {
      "cell_type": "markdown",
      "metadata": {
        "id": "-Hi-Qonch7Bc"
      },
      "source": [
        "### Training Strategy\n",
        "Our initial approach will be:\n",
        "1. Freeze early layers initially\n",
        "2. Train only the classifier\n",
        "3. Gradually unfreeze more layers as needed\n",
        "\n",
        "### Next Steps\n",
        "We can:\n",
        "1. Set up the training loop\n",
        "2. Implement model checkpointing\n",
        "3. Add learning rate scheduling"
      ]
    },
    {
      "cell_type": "markdown",
      "metadata": {
        "id": "-TSAuSMwkPGd"
      },
      "source": [
        "# Training Loop Implementation\n",
        "\n",
        "### Training Strategy\n",
        "1. Split training into epochs\n",
        "2. Monitor validation performance\n",
        "3. Implement early stopping\n",
        "4. Save best model checkpoints"
      ]
    },
    {
      "cell_type": "code",
      "execution_count": null,
      "metadata": {
        "colab": {
          "base_uri": "https://localhost:8080/"
        },
        "id": "PoCsCipZDzvj",
        "outputId": "4166e94a-0627-45a0-eee6-fc0de48b00b4"
      },
      "outputs": [
        {
          "name": "stdout",
          "output_type": "stream",
          "text": [
            "Found 1082 valid images out of 1082 total\n",
            "Found 103 valid images out of 103 total\n"
          ]
        }
      ],
      "source": [
        "class BirdDataset(Dataset):\n",
        "    def __init__(self, df, root_dir, transform=None, dataset_type='train'):\n",
        "        \"\"\"\n",
        "        Args:\n",
        "            df (pandas.DataFrame): DataFrame with image paths and labels\n",
        "            root_dir (string): Directory with all the images\n",
        "            transform (callable, optional): Optional transform to be applied on images\n",
        "            dataset_type (str): Either 'train' or 'val' to handle correct paths\n",
        "        \"\"\"\n",
        "        self.df = df\n",
        "        self.root_dir = root_dir\n",
        "        self.transform = transform\n",
        "        self.dataset_type = dataset_type  # Save this as instance variable\n",
        "\n",
        "        # Verify and clean data paths\n",
        "        valid_samples = []\n",
        "        for idx, row in df.iterrows():\n",
        "            # Use dataset_type to determine correct subfolder\n",
        "            full_path = os.path.join(root_dir, f'{dataset_type}_images', row['path'])\n",
        "            if os.path.exists(full_path):\n",
        "                valid_samples.append(idx)\n",
        "            else:\n",
        "                print(f\"Warning: File not found: {full_path}\")\n",
        "\n",
        "        self.df = df.iloc[valid_samples].reset_index(drop=True)\n",
        "        print(f\"Found {len(self.df)} valid images out of {len(df)} total\")\n",
        "\n",
        "    def __getitem__(self, idx):\n",
        "        # Use dataset_type when constructing path\n",
        "        img_path = os.path.join(self.root_dir, f'{self.dataset_type}_images', self.df.iloc[idx]['path'])\n",
        "        image = Image.open(img_path).convert('RGB')\n",
        "        label = self.df.iloc[idx]['class_idx']\n",
        "\n",
        "        if self.transform:\n",
        "            image = self.transform(image)\n",
        "\n",
        "        return image, label\n",
        "\n",
        "    def __len__(self):\n",
        "        return len(self.df)\n",
        "\n",
        "# Create datasets with correct paths\n",
        "train_dataset = BirdDataset(\n",
        "    train_df,\n",
        "    root_dir='BDMA7_project_files',\n",
        "    transform=get_train_transforms(),\n",
        "    dataset_type='train'\n",
        ")\n",
        "\n",
        "val_dataset = BirdDataset(\n",
        "    val_df,\n",
        "    root_dir='BDMA7_project_files',\n",
        "    transform=get_val_transforms(),\n",
        "    dataset_type='val'  # This is the key change\n",
        ")\n",
        "\n",
        "# Create dataloaders\n",
        "train_loader = DataLoader(\n",
        "    train_dataset,\n",
        "    batch_size=16,\n",
        "    shuffle=True,\n",
        "    num_workers=2\n",
        ")\n",
        "\n",
        "val_loader = DataLoader(\n",
        "    val_dataset,\n",
        "    batch_size=16,\n",
        "    shuffle=False,\n",
        "    num_workers=2\n",
        ")\n"
      ]
    },
    {
      "cell_type": "code",
      "execution_count": null,
      "metadata": {
        "id": "AofwwgPN6TLs"
      },
      "outputs": [],
      "source": [
        "def train_model(model, criterion, optimizer, scheduler, num_epochs=25, patience=7):\n",
        "    \"\"\"\n",
        "    Train the model with early stopping and model checkpointing\n",
        "\n",
        "    Args:\n",
        "        model: The neural network model\n",
        "        criterion: Loss function\n",
        "        optimizer: Optimizer\n",
        "        scheduler: Learning rate scheduler\n",
        "        num_epochs: Maximum number of epochs\n",
        "        patience: Early stopping patience\n",
        "\n",
        "    Returns:\n",
        "        model: Best trained model\n",
        "        best_acc: Best validation accuracy achieved\n",
        "    \"\"\"\n",
        "    best_model_wts = copy.deepcopy(model.state_dict())\n",
        "    best_acc = 0.0\n",
        "    no_improve_epochs = 0\n",
        "    history = {'train_loss': [], 'val_loss': [], 'train_acc': [], 'val_acc': []}\n",
        "\n",
        "    for epoch in range(num_epochs):\n",
        "        print(f'\\nEpoch {epoch+1}/{num_epochs}')\n",
        "        print('-' * 10)\n",
        "\n",
        "        # Each epoch has training and validation phase\n",
        "        for phase in ['train', 'val']:\n",
        "            if phase == 'train':\n",
        "                model.train()\n",
        "                dataloader = train_loader\n",
        "            else:\n",
        "                model.eval()\n",
        "                dataloader = val_loader\n",
        "\n",
        "            running_loss = 0.0\n",
        "            running_corrects = 0\n",
        "\n",
        "            # Progress bar for batches\n",
        "            pbar = tqdm(dataloader, desc=f'{phase} batches')\n",
        "\n",
        "            # Iterate over data\n",
        "            for inputs, labels in pbar:\n",
        "                inputs = inputs.to(device)\n",
        "                labels = labels.to(device)\n",
        "\n",
        "                # Zero the parameter gradients\n",
        "                optimizer.zero_grad()\n",
        "\n",
        "                # Forward pass\n",
        "                with torch.set_grad_enabled(phase == 'train'):\n",
        "                    outputs = model(inputs)\n",
        "                    _, preds = torch.max(outputs, 1)\n",
        "                    loss = criterion(outputs, labels)\n",
        "\n",
        "                    # Backward pass + optimize only if in training phase\n",
        "                    if phase == 'train':\n",
        "                        loss.backward()\n",
        "                        optimizer.step()\n",
        "\n",
        "                # Statistics\n",
        "                running_loss += loss.item() * inputs.size(0)\n",
        "                running_corrects += torch.sum(preds == labels.data)\n",
        "\n",
        "                # Update progress bar\n",
        "                pbar.set_postfix({'loss': f'{loss.item():.4f}'})\n",
        "\n",
        "            epoch_loss = running_loss / len(dataloader.dataset)\n",
        "            epoch_acc = running_corrects.double() / len(dataloader.dataset)\n",
        "\n",
        "            # Store history\n",
        "            if phase == 'train':\n",
        "                history['train_loss'].append(epoch_loss)\n",
        "                history['train_acc'].append(epoch_acc)\n",
        "            else:\n",
        "                history['val_loss'].append(epoch_loss)\n",
        "                history['val_acc'].append(epoch_acc)\n",
        "\n",
        "            print(f'{phase} Loss: {epoch_loss:.4f} Acc: {epoch_acc:.4f}')\n",
        "\n",
        "            # Deep copy the model if best accuracy\n",
        "            if phase == 'val':\n",
        "                scheduler.step(epoch_loss)\n",
        "\n",
        "                if epoch_acc > best_acc:\n",
        "                    best_acc = epoch_acc\n",
        "                    best_model_wts = copy.deepcopy(model.state_dict())\n",
        "                    no_improve_epochs = 0\n",
        "                else:\n",
        "                    no_improve_epochs += 1\n",
        "\n",
        "                # Early stopping check\n",
        "                if no_improve_epochs >= patience:\n",
        "                    print(f'\\nEarly stopping triggered after {epoch+1} epochs')\n",
        "                    model.load_state_dict(best_model_wts)\n",
        "                    return model, best_acc\n",
        "\n",
        "    print(f'\\nBest val Acc: {best_acc:4f}')\n",
        "\n",
        "    # Load best model weights\n",
        "    model.load_state_dict(best_model_wts)\n",
        "    return model, best_acc"
      ]
    },
    {
      "cell_type": "code",
      "execution_count": null,
      "metadata": {
        "colab": {
          "base_uri": "https://localhost:8080/",
          "height": 455
        },
        "id": "OHskY3dnkQqv",
        "outputId": "43c77d7b-e227-4ff5-9656-2cc4e7a991f0"
      },
      "outputs": [
        {
          "name": "stderr",
          "output_type": "stream",
          "text": [
            "/usr/local/lib/python3.11/dist-packages/torch/optim/lr_scheduler.py:62: UserWarning: The verbose parameter is deprecated. Please use get_last_lr() to access the learning rate.\n",
            "  warnings.warn(\n"
          ]
        },
        {
          "name": "stdout",
          "output_type": "stream",
          "text": [
            "Model setup complete. Starting training...\n",
            "\n",
            "Epoch 1/25\n",
            "----------\n"
          ]
        },
        {
          "name": "stderr",
          "output_type": "stream",
          "text": [
            "train batches:  37%|███▋      | 100/271 [00:06<00:11, 15.52it/s, loss=2.8741]\n"
          ]
        },
        {
          "ename": "KeyboardInterrupt",
          "evalue": "",
          "output_type": "error",
          "traceback": [
            "\u001b[0;31m---------------------------------------------------------------------------\u001b[0m",
            "\u001b[0;31mKeyboardInterrupt\u001b[0m                         Traceback (most recent call last)",
            "\u001b[0;32m<ipython-input-26-0ac26798f542>\u001b[0m in \u001b[0;36m<cell line: 0>\u001b[0;34m()\u001b[0m\n\u001b[1;32m     68\u001b[0m \u001b[0;34m\u001b[0m\u001b[0m\n\u001b[1;32m     69\u001b[0m \u001b[0;31m# Now your training loop should work\u001b[0m\u001b[0;34m\u001b[0m\u001b[0;34m\u001b[0m\u001b[0m\n\u001b[0;32m---> 70\u001b[0;31m \u001b[0mmodel\u001b[0m\u001b[0;34m,\u001b[0m \u001b[0mhistory\u001b[0m \u001b[0;34m=\u001b[0m \u001b[0mtrain_model\u001b[0m\u001b[0;34m(\u001b[0m\u001b[0mmodel\u001b[0m\u001b[0;34m,\u001b[0m \u001b[0mcriterion\u001b[0m\u001b[0;34m,\u001b[0m \u001b[0moptimizer\u001b[0m\u001b[0;34m,\u001b[0m \u001b[0mscheduler\u001b[0m\u001b[0;34m)\u001b[0m\u001b[0;34m\u001b[0m\u001b[0;34m\u001b[0m\u001b[0m\n\u001b[0m",
            "\u001b[0;32m<ipython-input-22-97eeddbae372>\u001b[0m in \u001b[0;36mtrain_model\u001b[0;34m(model, criterion, optimizer, scheduler, num_epochs, patience)\u001b[0m\n\u001b[1;32m     40\u001b[0m \u001b[0;34m\u001b[0m\u001b[0m\n\u001b[1;32m     41\u001b[0m             \u001b[0;31m# Iterate over data\u001b[0m\u001b[0;34m\u001b[0m\u001b[0;34m\u001b[0m\u001b[0m\n\u001b[0;32m---> 42\u001b[0;31m             \u001b[0;32mfor\u001b[0m \u001b[0minputs\u001b[0m\u001b[0;34m,\u001b[0m \u001b[0mlabels\u001b[0m \u001b[0;32min\u001b[0m \u001b[0mpbar\u001b[0m\u001b[0;34m:\u001b[0m\u001b[0;34m\u001b[0m\u001b[0;34m\u001b[0m\u001b[0m\n\u001b[0m\u001b[1;32m     43\u001b[0m                 \u001b[0minputs\u001b[0m \u001b[0;34m=\u001b[0m \u001b[0minputs\u001b[0m\u001b[0;34m.\u001b[0m\u001b[0mto\u001b[0m\u001b[0;34m(\u001b[0m\u001b[0mdevice\u001b[0m\u001b[0;34m)\u001b[0m\u001b[0;34m\u001b[0m\u001b[0;34m\u001b[0m\u001b[0m\n\u001b[1;32m     44\u001b[0m                 \u001b[0mlabels\u001b[0m \u001b[0;34m=\u001b[0m \u001b[0mlabels\u001b[0m\u001b[0;34m.\u001b[0m\u001b[0mto\u001b[0m\u001b[0;34m(\u001b[0m\u001b[0mdevice\u001b[0m\u001b[0;34m)\u001b[0m\u001b[0;34m\u001b[0m\u001b[0;34m\u001b[0m\u001b[0m\n",
            "\u001b[0;32m/usr/local/lib/python3.11/dist-packages/tqdm/std.py\u001b[0m in \u001b[0;36m__iter__\u001b[0;34m(self)\u001b[0m\n\u001b[1;32m   1179\u001b[0m \u001b[0;34m\u001b[0m\u001b[0m\n\u001b[1;32m   1180\u001b[0m         \u001b[0;32mtry\u001b[0m\u001b[0;34m:\u001b[0m\u001b[0;34m\u001b[0m\u001b[0;34m\u001b[0m\u001b[0m\n\u001b[0;32m-> 1181\u001b[0;31m             \u001b[0;32mfor\u001b[0m \u001b[0mobj\u001b[0m \u001b[0;32min\u001b[0m \u001b[0miterable\u001b[0m\u001b[0;34m:\u001b[0m\u001b[0;34m\u001b[0m\u001b[0;34m\u001b[0m\u001b[0m\n\u001b[0m\u001b[1;32m   1182\u001b[0m                 \u001b[0;32myield\u001b[0m \u001b[0mobj\u001b[0m\u001b[0;34m\u001b[0m\u001b[0;34m\u001b[0m\u001b[0m\n\u001b[1;32m   1183\u001b[0m                 \u001b[0;31m# Update and possibly print the progressbar.\u001b[0m\u001b[0;34m\u001b[0m\u001b[0;34m\u001b[0m\u001b[0m\n",
            "\u001b[0;32m/usr/local/lib/python3.11/dist-packages/torch/utils/data/dataloader.py\u001b[0m in \u001b[0;36m__next__\u001b[0;34m(self)\u001b[0m\n\u001b[1;32m    699\u001b[0m                 \u001b[0;31m# TODO(https://github.com/pytorch/pytorch/issues/76750)\u001b[0m\u001b[0;34m\u001b[0m\u001b[0;34m\u001b[0m\u001b[0m\n\u001b[1;32m    700\u001b[0m                 \u001b[0mself\u001b[0m\u001b[0;34m.\u001b[0m\u001b[0m_reset\u001b[0m\u001b[0;34m(\u001b[0m\u001b[0;34m)\u001b[0m  \u001b[0;31m# type: ignore[call-arg]\u001b[0m\u001b[0;34m\u001b[0m\u001b[0;34m\u001b[0m\u001b[0m\n\u001b[0;32m--> 701\u001b[0;31m             \u001b[0mdata\u001b[0m \u001b[0;34m=\u001b[0m \u001b[0mself\u001b[0m\u001b[0;34m.\u001b[0m\u001b[0m_next_data\u001b[0m\u001b[0;34m(\u001b[0m\u001b[0;34m)\u001b[0m\u001b[0;34m\u001b[0m\u001b[0;34m\u001b[0m\u001b[0m\n\u001b[0m\u001b[1;32m    702\u001b[0m             \u001b[0mself\u001b[0m\u001b[0;34m.\u001b[0m\u001b[0m_num_yielded\u001b[0m \u001b[0;34m+=\u001b[0m \u001b[0;36m1\u001b[0m\u001b[0;34m\u001b[0m\u001b[0;34m\u001b[0m\u001b[0m\n\u001b[1;32m    703\u001b[0m             if (\n",
            "\u001b[0;32m/usr/local/lib/python3.11/dist-packages/torch/utils/data/dataloader.py\u001b[0m in \u001b[0;36m_next_data\u001b[0;34m(self)\u001b[0m\n\u001b[1;32m    755\u001b[0m     \u001b[0;32mdef\u001b[0m \u001b[0m_next_data\u001b[0m\u001b[0;34m(\u001b[0m\u001b[0mself\u001b[0m\u001b[0;34m)\u001b[0m\u001b[0;34m:\u001b[0m\u001b[0;34m\u001b[0m\u001b[0;34m\u001b[0m\u001b[0m\n\u001b[1;32m    756\u001b[0m         \u001b[0mindex\u001b[0m \u001b[0;34m=\u001b[0m \u001b[0mself\u001b[0m\u001b[0;34m.\u001b[0m\u001b[0m_next_index\u001b[0m\u001b[0;34m(\u001b[0m\u001b[0;34m)\u001b[0m  \u001b[0;31m# may raise StopIteration\u001b[0m\u001b[0;34m\u001b[0m\u001b[0;34m\u001b[0m\u001b[0m\n\u001b[0;32m--> 757\u001b[0;31m         \u001b[0mdata\u001b[0m \u001b[0;34m=\u001b[0m \u001b[0mself\u001b[0m\u001b[0;34m.\u001b[0m\u001b[0m_dataset_fetcher\u001b[0m\u001b[0;34m.\u001b[0m\u001b[0mfetch\u001b[0m\u001b[0;34m(\u001b[0m\u001b[0mindex\u001b[0m\u001b[0;34m)\u001b[0m  \u001b[0;31m# may raise StopIteration\u001b[0m\u001b[0;34m\u001b[0m\u001b[0;34m\u001b[0m\u001b[0m\n\u001b[0m\u001b[1;32m    758\u001b[0m         \u001b[0;32mif\u001b[0m \u001b[0mself\u001b[0m\u001b[0;34m.\u001b[0m\u001b[0m_pin_memory\u001b[0m\u001b[0;34m:\u001b[0m\u001b[0;34m\u001b[0m\u001b[0;34m\u001b[0m\u001b[0m\n\u001b[1;32m    759\u001b[0m             \u001b[0mdata\u001b[0m \u001b[0;34m=\u001b[0m \u001b[0m_utils\u001b[0m\u001b[0;34m.\u001b[0m\u001b[0mpin_memory\u001b[0m\u001b[0;34m.\u001b[0m\u001b[0mpin_memory\u001b[0m\u001b[0;34m(\u001b[0m\u001b[0mdata\u001b[0m\u001b[0;34m,\u001b[0m \u001b[0mself\u001b[0m\u001b[0;34m.\u001b[0m\u001b[0m_pin_memory_device\u001b[0m\u001b[0;34m)\u001b[0m\u001b[0;34m\u001b[0m\u001b[0;34m\u001b[0m\u001b[0m\n",
            "\u001b[0;32m/usr/local/lib/python3.11/dist-packages/torch/utils/data/_utils/fetch.py\u001b[0m in \u001b[0;36mfetch\u001b[0;34m(self, possibly_batched_index)\u001b[0m\n\u001b[1;32m     50\u001b[0m                 \u001b[0mdata\u001b[0m \u001b[0;34m=\u001b[0m \u001b[0mself\u001b[0m\u001b[0;34m.\u001b[0m\u001b[0mdataset\u001b[0m\u001b[0;34m.\u001b[0m\u001b[0m__getitems__\u001b[0m\u001b[0;34m(\u001b[0m\u001b[0mpossibly_batched_index\u001b[0m\u001b[0;34m)\u001b[0m\u001b[0;34m\u001b[0m\u001b[0;34m\u001b[0m\u001b[0m\n\u001b[1;32m     51\u001b[0m             \u001b[0;32melse\u001b[0m\u001b[0;34m:\u001b[0m\u001b[0;34m\u001b[0m\u001b[0;34m\u001b[0m\u001b[0m\n\u001b[0;32m---> 52\u001b[0;31m                 \u001b[0mdata\u001b[0m \u001b[0;34m=\u001b[0m \u001b[0;34m[\u001b[0m\u001b[0mself\u001b[0m\u001b[0;34m.\u001b[0m\u001b[0mdataset\u001b[0m\u001b[0;34m[\u001b[0m\u001b[0midx\u001b[0m\u001b[0;34m]\u001b[0m \u001b[0;32mfor\u001b[0m \u001b[0midx\u001b[0m \u001b[0;32min\u001b[0m \u001b[0mpossibly_batched_index\u001b[0m\u001b[0;34m]\u001b[0m\u001b[0;34m\u001b[0m\u001b[0;34m\u001b[0m\u001b[0m\n\u001b[0m\u001b[1;32m     53\u001b[0m         \u001b[0;32melse\u001b[0m\u001b[0;34m:\u001b[0m\u001b[0;34m\u001b[0m\u001b[0;34m\u001b[0m\u001b[0m\n\u001b[1;32m     54\u001b[0m             \u001b[0mdata\u001b[0m \u001b[0;34m=\u001b[0m \u001b[0mself\u001b[0m\u001b[0;34m.\u001b[0m\u001b[0mdataset\u001b[0m\u001b[0;34m[\u001b[0m\u001b[0mpossibly_batched_index\u001b[0m\u001b[0;34m]\u001b[0m\u001b[0;34m\u001b[0m\u001b[0;34m\u001b[0m\u001b[0m\n",
            "\u001b[0;32m/usr/local/lib/python3.11/dist-packages/torch/utils/data/_utils/fetch.py\u001b[0m in \u001b[0;36m<listcomp>\u001b[0;34m(.0)\u001b[0m\n\u001b[1;32m     50\u001b[0m                 \u001b[0mdata\u001b[0m \u001b[0;34m=\u001b[0m \u001b[0mself\u001b[0m\u001b[0;34m.\u001b[0m\u001b[0mdataset\u001b[0m\u001b[0;34m.\u001b[0m\u001b[0m__getitems__\u001b[0m\u001b[0;34m(\u001b[0m\u001b[0mpossibly_batched_index\u001b[0m\u001b[0;34m)\u001b[0m\u001b[0;34m\u001b[0m\u001b[0;34m\u001b[0m\u001b[0m\n\u001b[1;32m     51\u001b[0m             \u001b[0;32melse\u001b[0m\u001b[0;34m:\u001b[0m\u001b[0;34m\u001b[0m\u001b[0;34m\u001b[0m\u001b[0m\n\u001b[0;32m---> 52\u001b[0;31m                 \u001b[0mdata\u001b[0m \u001b[0;34m=\u001b[0m \u001b[0;34m[\u001b[0m\u001b[0mself\u001b[0m\u001b[0;34m.\u001b[0m\u001b[0mdataset\u001b[0m\u001b[0;34m[\u001b[0m\u001b[0midx\u001b[0m\u001b[0;34m]\u001b[0m \u001b[0;32mfor\u001b[0m \u001b[0midx\u001b[0m \u001b[0;32min\u001b[0m \u001b[0mpossibly_batched_index\u001b[0m\u001b[0;34m]\u001b[0m\u001b[0;34m\u001b[0m\u001b[0;34m\u001b[0m\u001b[0m\n\u001b[0m\u001b[1;32m     53\u001b[0m         \u001b[0;32melse\u001b[0m\u001b[0;34m:\u001b[0m\u001b[0;34m\u001b[0m\u001b[0;34m\u001b[0m\u001b[0m\n\u001b[1;32m     54\u001b[0m             \u001b[0mdata\u001b[0m \u001b[0;34m=\u001b[0m \u001b[0mself\u001b[0m\u001b[0;34m.\u001b[0m\u001b[0mdataset\u001b[0m\u001b[0;34m[\u001b[0m\u001b[0mpossibly_batched_index\u001b[0m\u001b[0;34m]\u001b[0m\u001b[0;34m\u001b[0m\u001b[0;34m\u001b[0m\u001b[0m\n",
            "\u001b[0;32m<ipython-input-23-c20b0eeb63ac>\u001b[0m in \u001b[0;36m__getitem__\u001b[0;34m(self, idx)\u001b[0m\n\u001b[1;32m     32\u001b[0m         \u001b[0;31m# Include train_images in the path\u001b[0m\u001b[0;34m\u001b[0m\u001b[0;34m\u001b[0m\u001b[0m\n\u001b[1;32m     33\u001b[0m         \u001b[0mimg_path\u001b[0m \u001b[0;34m=\u001b[0m \u001b[0mos\u001b[0m\u001b[0;34m.\u001b[0m\u001b[0mpath\u001b[0m\u001b[0;34m.\u001b[0m\u001b[0mjoin\u001b[0m\u001b[0;34m(\u001b[0m\u001b[0mself\u001b[0m\u001b[0;34m.\u001b[0m\u001b[0mroot_dir\u001b[0m\u001b[0;34m,\u001b[0m \u001b[0;34m'train_images'\u001b[0m\u001b[0;34m,\u001b[0m \u001b[0mself\u001b[0m\u001b[0;34m.\u001b[0m\u001b[0mdf\u001b[0m\u001b[0;34m.\u001b[0m\u001b[0miloc\u001b[0m\u001b[0;34m[\u001b[0m\u001b[0midx\u001b[0m\u001b[0;34m]\u001b[0m\u001b[0;34m[\u001b[0m\u001b[0;34m'path'\u001b[0m\u001b[0;34m]\u001b[0m\u001b[0;34m)\u001b[0m\u001b[0;34m\u001b[0m\u001b[0;34m\u001b[0m\u001b[0m\n\u001b[0;32m---> 34\u001b[0;31m         \u001b[0mimage\u001b[0m \u001b[0;34m=\u001b[0m \u001b[0mImage\u001b[0m\u001b[0;34m.\u001b[0m\u001b[0mopen\u001b[0m\u001b[0;34m(\u001b[0m\u001b[0mimg_path\u001b[0m\u001b[0;34m)\u001b[0m\u001b[0;34m.\u001b[0m\u001b[0mconvert\u001b[0m\u001b[0;34m(\u001b[0m\u001b[0;34m'RGB'\u001b[0m\u001b[0;34m)\u001b[0m\u001b[0;34m\u001b[0m\u001b[0;34m\u001b[0m\u001b[0m\n\u001b[0m\u001b[1;32m     35\u001b[0m         \u001b[0mlabel\u001b[0m \u001b[0;34m=\u001b[0m \u001b[0mself\u001b[0m\u001b[0;34m.\u001b[0m\u001b[0mdf\u001b[0m\u001b[0;34m.\u001b[0m\u001b[0miloc\u001b[0m\u001b[0;34m[\u001b[0m\u001b[0midx\u001b[0m\u001b[0;34m]\u001b[0m\u001b[0;34m[\u001b[0m\u001b[0;34m'class_idx'\u001b[0m\u001b[0;34m]\u001b[0m\u001b[0;34m\u001b[0m\u001b[0;34m\u001b[0m\u001b[0m\n\u001b[1;32m     36\u001b[0m \u001b[0;34m\u001b[0m\u001b[0m\n",
            "\u001b[0;32m/usr/local/lib/python3.11/dist-packages/PIL/Image.py\u001b[0m in \u001b[0;36mconvert\u001b[0;34m(self, mode, matrix, dither, palette, colors)\u001b[0m\n\u001b[1;32m    982\u001b[0m             \u001b[0mdeprecate\u001b[0m\u001b[0;34m(\u001b[0m\u001b[0mmode\u001b[0m\u001b[0;34m,\u001b[0m \u001b[0;36m12\u001b[0m\u001b[0;34m)\u001b[0m\u001b[0;34m\u001b[0m\u001b[0;34m\u001b[0m\u001b[0m\n\u001b[1;32m    983\u001b[0m \u001b[0;34m\u001b[0m\u001b[0m\n\u001b[0;32m--> 984\u001b[0;31m         \u001b[0mself\u001b[0m\u001b[0;34m.\u001b[0m\u001b[0mload\u001b[0m\u001b[0;34m(\u001b[0m\u001b[0;34m)\u001b[0m\u001b[0;34m\u001b[0m\u001b[0;34m\u001b[0m\u001b[0m\n\u001b[0m\u001b[1;32m    985\u001b[0m \u001b[0;34m\u001b[0m\u001b[0m\n\u001b[1;32m    986\u001b[0m         \u001b[0mhas_transparency\u001b[0m \u001b[0;34m=\u001b[0m \u001b[0;34m\"transparency\"\u001b[0m \u001b[0;32min\u001b[0m \u001b[0mself\u001b[0m\u001b[0;34m.\u001b[0m\u001b[0minfo\u001b[0m\u001b[0;34m\u001b[0m\u001b[0;34m\u001b[0m\u001b[0m\n",
            "\u001b[0;32m/usr/local/lib/python3.11/dist-packages/PIL/ImageFile.py\u001b[0m in \u001b[0;36mload\u001b[0;34m(self)\u001b[0m\n\u001b[1;32m    298\u001b[0m \u001b[0;34m\u001b[0m\u001b[0m\n\u001b[1;32m    299\u001b[0m                             \u001b[0mb\u001b[0m \u001b[0;34m=\u001b[0m \u001b[0mb\u001b[0m \u001b[0;34m+\u001b[0m \u001b[0ms\u001b[0m\u001b[0;34m\u001b[0m\u001b[0;34m\u001b[0m\u001b[0m\n\u001b[0;32m--> 300\u001b[0;31m                             \u001b[0mn\u001b[0m\u001b[0;34m,\u001b[0m \u001b[0merr_code\u001b[0m \u001b[0;34m=\u001b[0m \u001b[0mdecoder\u001b[0m\u001b[0;34m.\u001b[0m\u001b[0mdecode\u001b[0m\u001b[0;34m(\u001b[0m\u001b[0mb\u001b[0m\u001b[0;34m)\u001b[0m\u001b[0;34m\u001b[0m\u001b[0;34m\u001b[0m\u001b[0m\n\u001b[0m\u001b[1;32m    301\u001b[0m                             \u001b[0;32mif\u001b[0m \u001b[0mn\u001b[0m \u001b[0;34m<\u001b[0m \u001b[0;36m0\u001b[0m\u001b[0;34m:\u001b[0m\u001b[0;34m\u001b[0m\u001b[0;34m\u001b[0m\u001b[0m\n\u001b[1;32m    302\u001b[0m                                 \u001b[0;32mbreak\u001b[0m\u001b[0;34m\u001b[0m\u001b[0;34m\u001b[0m\u001b[0m\n",
            "\u001b[0;31mKeyboardInterrupt\u001b[0m: "
          ]
        }
      ],
      "source": [
        "import torch\n",
        "import torch.nn as nn\n",
        "import torchvision.models as models\n",
        "from torchvision.models import VGG16_Weights\n",
        "import time\n",
        "import copy\n",
        "from tqdm import tqdm\n",
        "\n",
        "\n",
        "\n",
        "# First recreate our model\n",
        "class BirdFreeVGG16(nn.Module):\n",
        "    def __init__(self, num_classes=20):\n",
        "        super(BirdFreeVGG16, self).__init__()\n",
        "\n",
        "        # Load pretrained VGG16 and get its features\n",
        "        base_model = models.vgg16(weights=VGG16_Weights.IMAGENET1K_V1)\n",
        "\n",
        "        # Zero out bird-related knowledge\n",
        "        with torch.no_grad():\n",
        "            for bird_idx in BIRD_CLASSES:\n",
        "                base_model.classifier[-1].weight[bird_idx].zero_()\n",
        "                base_model.classifier[-1].bias[bird_idx].zero_()\n",
        "\n",
        "        self.features = base_model.features\n",
        "        self.avgpool = base_model.avgpool\n",
        "\n",
        "        # Freeze feature layers\n",
        "        for param in self.features.parameters():\n",
        "            param.requires_grad = False\n",
        "\n",
        "        # Smaller classifier for our dataset size\n",
        "        self.classifier = nn.Sequential(\n",
        "            nn.Linear(512 * 7 * 7, 512),\n",
        "            nn.ReLU(True),\n",
        "            nn.Dropout(p=0.5),\n",
        "            nn.Linear(512, 256),\n",
        "            nn.ReLU(True),\n",
        "            nn.Dropout(p=0.5),\n",
        "            nn.Linear(256, num_classes)\n",
        "        )\n",
        "\n",
        "    def forward(self, x):\n",
        "        x = self.features(x)\n",
        "        x = self.avgpool(x)\n",
        "        x = torch.flatten(x, 1)\n",
        "        x = self.classifier(x)\n",
        "        return x\n",
        "\n",
        "# Initialize model and move to GPU if available\n",
        "device = torch.device(\"cuda\" if torch.cuda.is_available() else \"cpu\")\n",
        "model = BirdFreeVGG16().to(device)\n",
        "\n",
        "# Define loss function and optimizer\n",
        "criterion = nn.CrossEntropyLoss()\n",
        "optimizer = torch.optim.Adam(model.classifier.parameters(), lr=0.0001)\n",
        "\n",
        "# Add learning rate scheduler\n",
        "scheduler = torch.optim.lr_scheduler.ReduceLROnPlateau(\n",
        "    optimizer,\n",
        "    mode='min',\n",
        "    factor=0.1,\n",
        "    patience=5,\n",
        "    verbose=True\n",
        ")\n",
        "\n",
        "print(\"Model setup complete. Starting training...\")\n",
        "\n",
        "# Now your training loop should work\n",
        "model, history = train_model(model, criterion, optimizer, scheduler)"
      ]
    },
    {
      "cell_type": "code",
      "execution_count": null,
      "metadata": {
        "colab": {
          "base_uri": "https://localhost:8080/"
        },
        "id": "jhZvCJt-dy3o",
        "outputId": "78bf6753-f619-4967-b3a7-2e0fa45ac503"
      },
      "outputs": [
        {
          "name": "stdout",
          "output_type": "stream",
          "text": [
            "Mounted at /content/drive\n"
          ]
        }
      ],
      "source": [
        "# Load the Drive helper and mount\n",
        "from google.colab import drive\n",
        "drive.mount('/content/drive')"
      ]
    },
    {
      "cell_type": "code",
      "execution_count": null,
      "metadata": {
        "colab": {
          "base_uri": "https://localhost:8080/"
        },
        "id": "B2gLCpqaO896",
        "outputId": "b5c07f39-1c27-465c-fe14-92cf58e8d51a"
      },
      "outputs": [
        {
          "name": "stdout",
          "output_type": "stream",
          "text": [
            "\n",
            "--- Testing Configuration ---\n",
            "Learning Rate: 0.001\n",
            "Batch Size: 16\n",
            "Dropout Rate: 0.3\n",
            "Number of Epochs: 140\n",
            "\n",
            "Epoch 1/140\n",
            "----------\n"
          ]
        },
        {
          "name": "stderr",
          "output_type": "stream",
          "text": [
            "train batches: 100%|██████████| 271/271 [00:15<00:00, 18.04it/s, loss=3.0581]\n"
          ]
        },
        {
          "name": "stdout",
          "output_type": "stream",
          "text": [
            "train Loss: 2.6541 Acc: 0.2431\n"
          ]
        },
        {
          "name": "stderr",
          "output_type": "stream",
          "text": [
            "val batches: 100%|██████████| 7/7 [00:00<00:00,  8.11it/s, loss=1.7310]\n"
          ]
        },
        {
          "name": "stdout",
          "output_type": "stream",
          "text": [
            "val Loss: 2.5938 Acc: 0.3786\n",
            "\n",
            "Epoch 2/140\n",
            "----------\n"
          ]
        },
        {
          "name": "stderr",
          "output_type": "stream",
          "text": [
            "train batches: 100%|██████████| 271/271 [00:15<00:00, 17.97it/s, loss=2.0667]\n"
          ]
        },
        {
          "name": "stdout",
          "output_type": "stream",
          "text": [
            "train Loss: 1.7436 Acc: 0.4861\n"
          ]
        },
        {
          "name": "stderr",
          "output_type": "stream",
          "text": [
            "val batches: 100%|██████████| 7/7 [00:00<00:00,  8.36it/s, loss=1.5135]\n"
          ]
        },
        {
          "name": "stdout",
          "output_type": "stream",
          "text": [
            "val Loss: 2.1356 Acc: 0.4466\n",
            "\n",
            "Epoch 3/140\n",
            "----------\n"
          ]
        },
        {
          "name": "stderr",
          "output_type": "stream",
          "text": [
            "train batches: 100%|██████████| 271/271 [00:15<00:00, 17.65it/s, loss=0.7683]\n"
          ]
        },
        {
          "name": "stdout",
          "output_type": "stream",
          "text": [
            "train Loss: 1.1676 Acc: 0.6719\n"
          ]
        },
        {
          "name": "stderr",
          "output_type": "stream",
          "text": [
            "val batches: 100%|██████████| 7/7 [00:01<00:00,  5.79it/s, loss=0.9157]\n"
          ]
        },
        {
          "name": "stdout",
          "output_type": "stream",
          "text": [
            "val Loss: 3.1356 Acc: 0.4660\n",
            "\n",
            "Epoch 4/140\n",
            "----------\n"
          ]
        },
        {
          "name": "stderr",
          "output_type": "stream",
          "text": [
            "train batches: 100%|██████████| 271/271 [00:15<00:00, 17.88it/s, loss=0.3797]\n"
          ]
        },
        {
          "name": "stdout",
          "output_type": "stream",
          "text": [
            "train Loss: 0.8603 Acc: 0.7689\n"
          ]
        },
        {
          "name": "stderr",
          "output_type": "stream",
          "text": [
            "val batches: 100%|██████████| 7/7 [00:00<00:00,  8.23it/s, loss=1.3589]\n"
          ]
        },
        {
          "name": "stdout",
          "output_type": "stream",
          "text": [
            "val Loss: 3.0433 Acc: 0.5243\n",
            "\n",
            "Epoch 5/140\n",
            "----------\n"
          ]
        },
        {
          "name": "stderr",
          "output_type": "stream",
          "text": [
            "train batches: 100%|██████████| 271/271 [00:15<00:00, 18.02it/s, loss=2.0263]\n"
          ]
        },
        {
          "name": "stdout",
          "output_type": "stream",
          "text": [
            "train Loss: 0.9019 Acc: 0.7625\n"
          ]
        },
        {
          "name": "stderr",
          "output_type": "stream",
          "text": [
            "val batches: 100%|██████████| 7/7 [00:00<00:00,  8.62it/s, loss=0.5130]\n"
          ]
        },
        {
          "name": "stdout",
          "output_type": "stream",
          "text": [
            "val Loss: 2.8870 Acc: 0.5146\n",
            "\n",
            "Epoch 6/140\n",
            "----------\n"
          ]
        },
        {
          "name": "stderr",
          "output_type": "stream",
          "text": [
            "train batches: 100%|██████████| 271/271 [00:14<00:00, 18.20it/s, loss=1.3577]\n"
          ]
        },
        {
          "name": "stdout",
          "output_type": "stream",
          "text": [
            "train Loss: 0.7323 Acc: 0.8401\n"
          ]
        },
        {
          "name": "stderr",
          "output_type": "stream",
          "text": [
            "val batches: 100%|██████████| 7/7 [00:00<00:00,  8.57it/s, loss=0.5108]\n"
          ]
        },
        {
          "name": "stdout",
          "output_type": "stream",
          "text": [
            "val Loss: 3.4021 Acc: 0.5049\n",
            "\n",
            "Epoch 7/140\n",
            "----------\n"
          ]
        },
        {
          "name": "stderr",
          "output_type": "stream",
          "text": [
            "train batches: 100%|██████████| 271/271 [00:15<00:00, 18.02it/s, loss=2.6480]\n"
          ]
        },
        {
          "name": "stdout",
          "output_type": "stream",
          "text": [
            "train Loss: 0.6787 Acc: 0.8457\n"
          ]
        },
        {
          "name": "stderr",
          "output_type": "stream",
          "text": [
            "val batches: 100%|██████████| 7/7 [00:00<00:00,  8.22it/s, loss=1.9634]\n"
          ]
        },
        {
          "name": "stdout",
          "output_type": "stream",
          "text": [
            "val Loss: 5.6873 Acc: 0.3981\n",
            "\n",
            "Epoch 8/140\n",
            "----------\n"
          ]
        },
        {
          "name": "stderr",
          "output_type": "stream",
          "text": [
            "train batches: 100%|██████████| 271/271 [00:15<00:00, 17.91it/s, loss=0.0005]\n"
          ]
        },
        {
          "name": "stdout",
          "output_type": "stream",
          "text": [
            "train Loss: 0.3523 Acc: 0.9104\n"
          ]
        },
        {
          "name": "stderr",
          "output_type": "stream",
          "text": [
            "val batches: 100%|██████████| 7/7 [00:00<00:00,  8.39it/s, loss=1.6014]\n"
          ]
        },
        {
          "name": "stdout",
          "output_type": "stream",
          "text": [
            "val Loss: 4.8711 Acc: 0.4563\n",
            "\n",
            "Epoch 9/140\n",
            "----------\n"
          ]
        },
        {
          "name": "stderr",
          "output_type": "stream",
          "text": [
            "train batches: 100%|██████████| 271/271 [00:15<00:00, 17.68it/s, loss=1.3229]\n"
          ]
        },
        {
          "name": "stdout",
          "output_type": "stream",
          "text": [
            "train Loss: 0.2550 Acc: 0.9316\n"
          ]
        },
        {
          "name": "stderr",
          "output_type": "stream",
          "text": [
            "val batches: 100%|██████████| 7/7 [00:01<00:00,  6.01it/s, loss=1.1010]\n"
          ]
        },
        {
          "name": "stdout",
          "output_type": "stream",
          "text": [
            "val Loss: 4.5966 Acc: 0.4854\n",
            "\n",
            "Epoch 10/140\n",
            "----------\n"
          ]
        },
        {
          "name": "stderr",
          "output_type": "stream",
          "text": [
            "train batches: 100%|██████████| 271/271 [00:15<00:00, 17.85it/s, loss=0.0000]\n"
          ]
        },
        {
          "name": "stdout",
          "output_type": "stream",
          "text": [
            "train Loss: 0.1852 Acc: 0.9593\n"
          ]
        },
        {
          "name": "stderr",
          "output_type": "stream",
          "text": [
            "val batches: 100%|██████████| 7/7 [00:00<00:00,  8.34it/s, loss=1.0833]\n"
          ]
        },
        {
          "name": "stdout",
          "output_type": "stream",
          "text": [
            "val Loss: 4.4768 Acc: 0.4854\n",
            "\n",
            "Epoch 11/140\n",
            "----------\n"
          ]
        },
        {
          "name": "stderr",
          "output_type": "stream",
          "text": [
            "train batches: 100%|██████████| 271/271 [00:15<00:00, 18.05it/s, loss=0.0000]\n"
          ]
        },
        {
          "name": "stdout",
          "output_type": "stream",
          "text": [
            "train Loss: 0.1009 Acc: 0.9704\n"
          ]
        },
        {
          "name": "stderr",
          "output_type": "stream",
          "text": [
            "val batches: 100%|██████████| 7/7 [00:00<00:00,  8.22it/s, loss=1.1918]\n"
          ]
        },
        {
          "name": "stdout",
          "output_type": "stream",
          "text": [
            "val Loss: 4.0184 Acc: 0.4854\n",
            "\n",
            "Early stopping triggered after 11 epochs\n",
            "Validation Accuracy: 0.52%\n",
            "\n",
            "--- Testing Configuration ---\n",
            "Learning Rate: 0.001\n",
            "Batch Size: 16\n",
            "Dropout Rate: 0.4\n",
            "Number of Epochs: 140\n",
            "\n",
            "Epoch 1/140\n",
            "----------\n"
          ]
        },
        {
          "name": "stderr",
          "output_type": "stream",
          "text": [
            "train batches: 100%|██████████| 271/271 [00:15<00:00, 17.95it/s, loss=3.0565]\n"
          ]
        },
        {
          "name": "stdout",
          "output_type": "stream",
          "text": [
            "train Loss: 2.8731 Acc: 0.2015\n"
          ]
        },
        {
          "name": "stderr",
          "output_type": "stream",
          "text": [
            "val batches: 100%|██████████| 7/7 [00:00<00:00,  8.30it/s, loss=0.9574]\n"
          ]
        },
        {
          "name": "stdout",
          "output_type": "stream",
          "text": [
            "val Loss: 2.0628 Acc: 0.3883\n",
            "\n",
            "Epoch 2/140\n",
            "----------\n"
          ]
        },
        {
          "name": "stderr",
          "output_type": "stream",
          "text": [
            "train batches: 100%|██████████| 271/271 [00:15<00:00, 18.05it/s, loss=0.5435]\n"
          ]
        },
        {
          "name": "stdout",
          "output_type": "stream",
          "text": [
            "train Loss: 2.0185 Acc: 0.4048\n"
          ]
        },
        {
          "name": "stderr",
          "output_type": "stream",
          "text": [
            "val batches: 100%|██████████| 7/7 [00:00<00:00,  8.42it/s, loss=1.5211]\n"
          ]
        },
        {
          "name": "stdout",
          "output_type": "stream",
          "text": [
            "val Loss: 2.2221 Acc: 0.4660\n",
            "\n",
            "Epoch 3/140\n",
            "----------\n"
          ]
        },
        {
          "name": "stderr",
          "output_type": "stream",
          "text": [
            "train batches: 100%|██████████| 271/271 [00:15<00:00, 17.86it/s, loss=1.5272]\n"
          ]
        },
        {
          "name": "stdout",
          "output_type": "stream",
          "text": [
            "train Loss: 1.6329 Acc: 0.5407\n"
          ]
        },
        {
          "name": "stderr",
          "output_type": "stream",
          "text": [
            "val batches: 100%|██████████| 7/7 [00:01<00:00,  5.49it/s, loss=0.6123]\n"
          ]
        },
        {
          "name": "stdout",
          "output_type": "stream",
          "text": [
            "val Loss: 1.9153 Acc: 0.4757\n",
            "\n",
            "Epoch 4/140\n",
            "----------\n"
          ]
        },
        {
          "name": "stderr",
          "output_type": "stream",
          "text": [
            "train batches: 100%|██████████| 271/271 [00:15<00:00, 17.62it/s, loss=3.7153]\n"
          ]
        },
        {
          "name": "stdout",
          "output_type": "stream",
          "text": [
            "train Loss: 1.2742 Acc: 0.6506\n"
          ]
        },
        {
          "name": "stderr",
          "output_type": "stream",
          "text": [
            "val batches: 100%|██████████| 7/7 [00:01<00:00,  6.98it/s, loss=1.8845]\n"
          ]
        },
        {
          "name": "stdout",
          "output_type": "stream",
          "text": [
            "val Loss: 2.5601 Acc: 0.4854\n",
            "\n",
            "Epoch 5/140\n",
            "----------\n"
          ]
        },
        {
          "name": "stderr",
          "output_type": "stream",
          "text": [
            "train batches: 100%|██████████| 271/271 [00:15<00:00, 18.04it/s, loss=0.2098]\n"
          ]
        },
        {
          "name": "stdout",
          "output_type": "stream",
          "text": [
            "train Loss: 1.2595 Acc: 0.6839\n"
          ]
        },
        {
          "name": "stderr",
          "output_type": "stream",
          "text": [
            "val batches: 100%|██████████| 7/7 [00:00<00:00,  8.24it/s, loss=2.0369]\n"
          ]
        },
        {
          "name": "stdout",
          "output_type": "stream",
          "text": [
            "val Loss: 2.3499 Acc: 0.5243\n",
            "\n",
            "Epoch 6/140\n",
            "----------\n"
          ]
        },
        {
          "name": "stderr",
          "output_type": "stream",
          "text": [
            "train batches: 100%|██████████| 271/271 [00:15<00:00, 17.83it/s, loss=0.2675]\n"
          ]
        },
        {
          "name": "stdout",
          "output_type": "stream",
          "text": [
            "train Loss: 1.0648 Acc: 0.7366\n"
          ]
        },
        {
          "name": "stderr",
          "output_type": "stream",
          "text": [
            "val batches: 100%|██████████| 7/7 [00:00<00:00,  8.46it/s, loss=7.5900]\n"
          ]
        },
        {
          "name": "stdout",
          "output_type": "stream",
          "text": [
            "val Loss: 2.8942 Acc: 0.5340\n",
            "\n",
            "Epoch 7/140\n",
            "----------\n"
          ]
        },
        {
          "name": "stderr",
          "output_type": "stream",
          "text": [
            "train batches: 100%|██████████| 271/271 [00:15<00:00, 18.00it/s, loss=0.2078]\n"
          ]
        },
        {
          "name": "stdout",
          "output_type": "stream",
          "text": [
            "train Loss: 1.0516 Acc: 0.7616\n"
          ]
        },
        {
          "name": "stderr",
          "output_type": "stream",
          "text": [
            "val batches: 100%|██████████| 7/7 [00:00<00:00,  8.04it/s, loss=0.2791]\n"
          ]
        },
        {
          "name": "stdout",
          "output_type": "stream",
          "text": [
            "val Loss: 2.4296 Acc: 0.5825\n",
            "\n",
            "Epoch 8/140\n",
            "----------\n"
          ]
        },
        {
          "name": "stderr",
          "output_type": "stream",
          "text": [
            "train batches: 100%|██████████| 271/271 [00:15<00:00, 17.88it/s, loss=0.4593]\n"
          ]
        },
        {
          "name": "stdout",
          "output_type": "stream",
          "text": [
            "train Loss: 1.1243 Acc: 0.7625\n"
          ]
        },
        {
          "name": "stderr",
          "output_type": "stream",
          "text": [
            "val batches: 100%|██████████| 7/7 [00:00<00:00,  8.53it/s, loss=0.4282]\n"
          ]
        },
        {
          "name": "stdout",
          "output_type": "stream",
          "text": [
            "val Loss: 2.5912 Acc: 0.5825\n",
            "\n",
            "Epoch 9/140\n",
            "----------\n"
          ]
        },
        {
          "name": "stderr",
          "output_type": "stream",
          "text": [
            "train batches: 100%|██████████| 271/271 [00:15<00:00, 17.78it/s, loss=0.0099]\n"
          ]
        },
        {
          "name": "stdout",
          "output_type": "stream",
          "text": [
            "train Loss: 0.6792 Acc: 0.8336\n"
          ]
        },
        {
          "name": "stderr",
          "output_type": "stream",
          "text": [
            "val batches: 100%|██████████| 7/7 [00:01<00:00,  6.34it/s, loss=0.8770]\n"
          ]
        },
        {
          "name": "stdout",
          "output_type": "stream",
          "text": [
            "val Loss: 2.5013 Acc: 0.6019\n",
            "\n",
            "Epoch 10/140\n",
            "----------\n"
          ]
        },
        {
          "name": "stderr",
          "output_type": "stream",
          "text": [
            "train batches: 100%|██████████| 271/271 [00:15<00:00, 17.39it/s, loss=0.0771]\n"
          ]
        },
        {
          "name": "stdout",
          "output_type": "stream",
          "text": [
            "train Loss: 0.5186 Acc: 0.8752\n"
          ]
        },
        {
          "name": "stderr",
          "output_type": "stream",
          "text": [
            "val batches: 100%|██████████| 7/7 [00:01<00:00,  5.89it/s, loss=0.7949]\n"
          ]
        },
        {
          "name": "stdout",
          "output_type": "stream",
          "text": [
            "val Loss: 2.3476 Acc: 0.6311\n",
            "\n",
            "Epoch 11/140\n",
            "----------\n"
          ]
        },
        {
          "name": "stderr",
          "output_type": "stream",
          "text": [
            "train batches: 100%|██████████| 271/271 [00:15<00:00, 17.78it/s, loss=0.6926]\n"
          ]
        },
        {
          "name": "stdout",
          "output_type": "stream",
          "text": [
            "train Loss: 0.5143 Acc: 0.8808\n"
          ]
        },
        {
          "name": "stderr",
          "output_type": "stream",
          "text": [
            "val batches: 100%|██████████| 7/7 [00:00<00:00,  8.16it/s, loss=0.7507]\n"
          ]
        },
        {
          "name": "stdout",
          "output_type": "stream",
          "text": [
            "val Loss: 2.3424 Acc: 0.6019\n",
            "\n",
            "Epoch 12/140\n",
            "----------\n"
          ]
        },
        {
          "name": "stderr",
          "output_type": "stream",
          "text": [
            "train batches: 100%|██████████| 271/271 [00:15<00:00, 17.79it/s, loss=0.6583]\n"
          ]
        },
        {
          "name": "stdout",
          "output_type": "stream",
          "text": [
            "train Loss: 0.3780 Acc: 0.9020\n"
          ]
        },
        {
          "name": "stderr",
          "output_type": "stream",
          "text": [
            "val batches: 100%|██████████| 7/7 [00:00<00:00,  8.22it/s, loss=0.6054]\n"
          ]
        },
        {
          "name": "stdout",
          "output_type": "stream",
          "text": [
            "val Loss: 2.3088 Acc: 0.6117\n",
            "\n",
            "Epoch 13/140\n",
            "----------\n"
          ]
        },
        {
          "name": "stderr",
          "output_type": "stream",
          "text": [
            "train batches: 100%|██████████| 271/271 [00:15<00:00, 17.77it/s, loss=0.0000]\n"
          ]
        },
        {
          "name": "stdout",
          "output_type": "stream",
          "text": [
            "train Loss: 0.3387 Acc: 0.8983\n"
          ]
        },
        {
          "name": "stderr",
          "output_type": "stream",
          "text": [
            "val batches: 100%|██████████| 7/7 [00:00<00:00,  8.47it/s, loss=0.6089]\n"
          ]
        },
        {
          "name": "stdout",
          "output_type": "stream",
          "text": [
            "val Loss: 2.2365 Acc: 0.6311\n",
            "\n",
            "Epoch 14/140\n",
            "----------\n"
          ]
        },
        {
          "name": "stderr",
          "output_type": "stream",
          "text": [
            "train batches: 100%|██████████| 271/271 [00:15<00:00, 17.81it/s, loss=0.0013]\n"
          ]
        },
        {
          "name": "stdout",
          "output_type": "stream",
          "text": [
            "train Loss: 0.3257 Acc: 0.9067\n"
          ]
        },
        {
          "name": "stderr",
          "output_type": "stream",
          "text": [
            "val batches: 100%|██████████| 7/7 [00:00<00:00,  8.14it/s, loss=0.6006]\n"
          ]
        },
        {
          "name": "stdout",
          "output_type": "stream",
          "text": [
            "val Loss: 2.2379 Acc: 0.6214\n",
            "\n",
            "Epoch 15/140\n",
            "----------\n"
          ]
        },
        {
          "name": "stderr",
          "output_type": "stream",
          "text": [
            "train batches: 100%|██████████| 271/271 [00:15<00:00, 17.56it/s, loss=0.1200]\n"
          ]
        },
        {
          "name": "stdout",
          "output_type": "stream",
          "text": [
            "train Loss: 0.3463 Acc: 0.9214\n"
          ]
        },
        {
          "name": "stderr",
          "output_type": "stream",
          "text": [
            "val batches: 100%|██████████| 7/7 [00:01<00:00,  5.83it/s, loss=0.5940]\n"
          ]
        },
        {
          "name": "stdout",
          "output_type": "stream",
          "text": [
            "val Loss: 2.2066 Acc: 0.6214\n",
            "\n",
            "Epoch 16/140\n",
            "----------\n"
          ]
        },
        {
          "name": "stderr",
          "output_type": "stream",
          "text": [
            "train batches: 100%|██████████| 271/271 [00:15<00:00, 17.47it/s, loss=0.0361]\n"
          ]
        },
        {
          "name": "stdout",
          "output_type": "stream",
          "text": [
            "train Loss: 0.3560 Acc: 0.9104\n"
          ]
        },
        {
          "name": "stderr",
          "output_type": "stream",
          "text": [
            "val batches: 100%|██████████| 7/7 [00:00<00:00,  7.88it/s, loss=0.5809]\n"
          ]
        },
        {
          "name": "stdout",
          "output_type": "stream",
          "text": [
            "val Loss: 2.2067 Acc: 0.6214\n",
            "\n",
            "Epoch 17/140\n",
            "----------\n"
          ]
        },
        {
          "name": "stderr",
          "output_type": "stream",
          "text": [
            "train batches: 100%|██████████| 271/271 [00:15<00:00, 17.59it/s, loss=0.0000]\n"
          ]
        },
        {
          "name": "stdout",
          "output_type": "stream",
          "text": [
            "train Loss: 0.3014 Acc: 0.9113\n"
          ]
        },
        {
          "name": "stderr",
          "output_type": "stream",
          "text": [
            "val batches: 100%|██████████| 7/7 [00:00<00:00,  8.39it/s, loss=0.5739]\n"
          ]
        },
        {
          "name": "stdout",
          "output_type": "stream",
          "text": [
            "val Loss: 2.2006 Acc: 0.6311\n",
            "\n",
            "Early stopping triggered after 17 epochs\n",
            "Validation Accuracy: 0.63%\n",
            "\n",
            "--- Testing Configuration ---\n",
            "Learning Rate: 0.001\n",
            "Batch Size: 32\n",
            "Dropout Rate: 0.3\n",
            "Number of Epochs: 140\n",
            "\n",
            "Epoch 1/140\n",
            "----------\n"
          ]
        },
        {
          "name": "stderr",
          "output_type": "stream",
          "text": [
            "train batches: 100%|██████████| 271/271 [00:15<00:00, 17.48it/s, loss=2.4395]\n"
          ]
        },
        {
          "name": "stdout",
          "output_type": "stream",
          "text": [
            "train Loss: 2.6866 Acc: 0.2283\n"
          ]
        },
        {
          "name": "stderr",
          "output_type": "stream",
          "text": [
            "val batches: 100%|██████████| 7/7 [00:00<00:00,  8.51it/s, loss=1.5194]\n"
          ]
        },
        {
          "name": "stdout",
          "output_type": "stream",
          "text": [
            "val Loss: 2.2569 Acc: 0.3786\n",
            "\n",
            "Epoch 2/140\n",
            "----------\n"
          ]
        },
        {
          "name": "stderr",
          "output_type": "stream",
          "text": [
            "train batches: 100%|██████████| 271/271 [00:15<00:00, 17.70it/s, loss=1.4596]\n"
          ]
        },
        {
          "name": "stdout",
          "output_type": "stream",
          "text": [
            "train Loss: 1.6574 Acc: 0.5028\n"
          ]
        },
        {
          "name": "stderr",
          "output_type": "stream",
          "text": [
            "val batches: 100%|██████████| 7/7 [00:00<00:00,  8.12it/s, loss=1.1029]\n"
          ]
        },
        {
          "name": "stdout",
          "output_type": "stream",
          "text": [
            "val Loss: 1.9885 Acc: 0.5243\n",
            "\n",
            "Epoch 3/140\n",
            "----------\n"
          ]
        },
        {
          "name": "stderr",
          "output_type": "stream",
          "text": [
            "train batches: 100%|██████████| 271/271 [00:15<00:00, 17.58it/s, loss=0.1474]\n"
          ]
        },
        {
          "name": "stdout",
          "output_type": "stream",
          "text": [
            "train Loss: 1.0381 Acc: 0.7043\n"
          ]
        },
        {
          "name": "stderr",
          "output_type": "stream",
          "text": [
            "val batches: 100%|██████████| 7/7 [00:01<00:00,  5.47it/s, loss=0.3995]\n"
          ]
        },
        {
          "name": "stdout",
          "output_type": "stream",
          "text": [
            "val Loss: 2.7470 Acc: 0.5340\n",
            "\n",
            "Epoch 4/140\n",
            "----------\n"
          ]
        },
        {
          "name": "stderr",
          "output_type": "stream",
          "text": [
            "train batches: 100%|██████████| 271/271 [00:15<00:00, 17.49it/s, loss=0.0030]\n"
          ]
        },
        {
          "name": "stdout",
          "output_type": "stream",
          "text": [
            "train Loss: 0.7185 Acc: 0.8004\n"
          ]
        },
        {
          "name": "stderr",
          "output_type": "stream",
          "text": [
            "val batches: 100%|██████████| 7/7 [00:01<00:00,  6.84it/s, loss=1.3186]\n"
          ]
        },
        {
          "name": "stdout",
          "output_type": "stream",
          "text": [
            "val Loss: 2.1225 Acc: 0.6311\n",
            "\n",
            "Epoch 5/140\n",
            "----------\n"
          ]
        },
        {
          "name": "stderr",
          "output_type": "stream",
          "text": [
            "train batches: 100%|██████████| 271/271 [00:15<00:00, 17.55it/s, loss=0.0389]\n"
          ]
        },
        {
          "name": "stdout",
          "output_type": "stream",
          "text": [
            "train Loss: 0.7583 Acc: 0.8226\n"
          ]
        },
        {
          "name": "stderr",
          "output_type": "stream",
          "text": [
            "val batches: 100%|██████████| 7/7 [00:00<00:00,  7.94it/s, loss=0.0001]\n"
          ]
        },
        {
          "name": "stdout",
          "output_type": "stream",
          "text": [
            "val Loss: 2.8133 Acc: 0.5437\n",
            "\n",
            "Epoch 6/140\n",
            "----------\n"
          ]
        },
        {
          "name": "stderr",
          "output_type": "stream",
          "text": [
            "train batches: 100%|██████████| 271/271 [00:15<00:00, 17.61it/s, loss=0.0232]\n"
          ]
        },
        {
          "name": "stdout",
          "output_type": "stream",
          "text": [
            "train Loss: 0.6411 Acc: 0.8521\n"
          ]
        },
        {
          "name": "stderr",
          "output_type": "stream",
          "text": [
            "val batches: 100%|██████████| 7/7 [00:00<00:00,  7.82it/s, loss=0.0002]\n"
          ]
        },
        {
          "name": "stdout",
          "output_type": "stream",
          "text": [
            "val Loss: 3.2272 Acc: 0.5825\n",
            "\n",
            "Epoch 7/140\n",
            "----------\n"
          ]
        },
        {
          "name": "stderr",
          "output_type": "stream",
          "text": [
            "train batches: 100%|██████████| 271/271 [00:15<00:00, 17.68it/s, loss=0.0000]\n"
          ]
        },
        {
          "name": "stdout",
          "output_type": "stream",
          "text": [
            "train Loss: 0.6126 Acc: 0.8586\n"
          ]
        },
        {
          "name": "stderr",
          "output_type": "stream",
          "text": [
            "val batches: 100%|██████████| 7/7 [00:00<00:00,  8.43it/s, loss=2.2984]\n"
          ]
        },
        {
          "name": "stdout",
          "output_type": "stream",
          "text": [
            "val Loss: 5.2304 Acc: 0.4951\n",
            "\n",
            "Epoch 8/140\n",
            "----------\n"
          ]
        },
        {
          "name": "stderr",
          "output_type": "stream",
          "text": [
            "train batches: 100%|██████████| 271/271 [00:15<00:00, 17.90it/s, loss=0.0001]\n"
          ]
        },
        {
          "name": "stdout",
          "output_type": "stream",
          "text": [
            "train Loss: 0.4621 Acc: 0.9048\n"
          ]
        },
        {
          "name": "stderr",
          "output_type": "stream",
          "text": [
            "val batches: 100%|██████████| 7/7 [00:00<00:00,  8.13it/s, loss=0.4334]\n"
          ]
        },
        {
          "name": "stdout",
          "output_type": "stream",
          "text": [
            "val Loss: 3.1862 Acc: 0.5534\n",
            "\n",
            "Epoch 9/140\n",
            "----------\n"
          ]
        },
        {
          "name": "stderr",
          "output_type": "stream",
          "text": [
            "train batches: 100%|██████████| 271/271 [00:15<00:00, 17.47it/s, loss=0.0031]\n"
          ]
        },
        {
          "name": "stdout",
          "output_type": "stream",
          "text": [
            "train Loss: 0.1914 Acc: 0.9510\n"
          ]
        },
        {
          "name": "stderr",
          "output_type": "stream",
          "text": [
            "val batches: 100%|██████████| 7/7 [00:01<00:00,  5.74it/s, loss=0.4083]\n"
          ]
        },
        {
          "name": "stdout",
          "output_type": "stream",
          "text": [
            "val Loss: 2.7369 Acc: 0.5825\n",
            "\n",
            "Epoch 10/140\n",
            "----------\n"
          ]
        },
        {
          "name": "stderr",
          "output_type": "stream",
          "text": [
            "train batches: 100%|██████████| 271/271 [00:15<00:00, 17.55it/s, loss=0.0000]\n"
          ]
        },
        {
          "name": "stdout",
          "output_type": "stream",
          "text": [
            "train Loss: 0.1764 Acc: 0.9529\n"
          ]
        },
        {
          "name": "stderr",
          "output_type": "stream",
          "text": [
            "val batches: 100%|██████████| 7/7 [00:00<00:00,  8.51it/s, loss=0.2385]\n"
          ]
        },
        {
          "name": "stdout",
          "output_type": "stream",
          "text": [
            "val Loss: 2.8289 Acc: 0.6019\n",
            "\n",
            "Epoch 11/140\n",
            "----------\n"
          ]
        },
        {
          "name": "stderr",
          "output_type": "stream",
          "text": [
            "train batches: 100%|██████████| 271/271 [00:15<00:00, 17.79it/s, loss=0.0002]\n"
          ]
        },
        {
          "name": "stdout",
          "output_type": "stream",
          "text": [
            "train Loss: 0.1287 Acc: 0.9658\n"
          ]
        },
        {
          "name": "stderr",
          "output_type": "stream",
          "text": [
            "val batches: 100%|██████████| 7/7 [00:00<00:00,  8.10it/s, loss=0.3438]\n"
          ]
        },
        {
          "name": "stdout",
          "output_type": "stream",
          "text": [
            "val Loss: 2.7457 Acc: 0.5922\n",
            "\n",
            "Early stopping triggered after 11 epochs\n",
            "Validation Accuracy: 0.63%\n",
            "\n",
            "--- Testing Configuration ---\n",
            "Learning Rate: 0.001\n",
            "Batch Size: 32\n",
            "Dropout Rate: 0.4\n",
            "Number of Epochs: 140\n",
            "\n",
            "Epoch 1/140\n",
            "----------\n"
          ]
        },
        {
          "name": "stderr",
          "output_type": "stream",
          "text": [
            "train batches: 100%|██████████| 271/271 [00:15<00:00, 17.72it/s, loss=2.0983]\n"
          ]
        },
        {
          "name": "stdout",
          "output_type": "stream",
          "text": [
            "train Loss: 2.8466 Acc: 0.2052\n"
          ]
        },
        {
          "name": "stderr",
          "output_type": "stream",
          "text": [
            "val batches: 100%|██████████| 7/7 [00:00<00:00,  7.90it/s, loss=1.4140]\n"
          ]
        },
        {
          "name": "stdout",
          "output_type": "stream",
          "text": [
            "val Loss: 2.0942 Acc: 0.4078\n",
            "\n",
            "Epoch 2/140\n",
            "----------\n"
          ]
        },
        {
          "name": "stderr",
          "output_type": "stream",
          "text": [
            "train batches: 100%|██████████| 271/271 [00:15<00:00, 17.78it/s, loss=0.3113]\n"
          ]
        },
        {
          "name": "stdout",
          "output_type": "stream",
          "text": [
            "train Loss: 1.9788 Acc: 0.4196\n"
          ]
        },
        {
          "name": "stderr",
          "output_type": "stream",
          "text": [
            "val batches: 100%|██████████| 7/7 [00:00<00:00,  8.27it/s, loss=0.1723]\n"
          ]
        },
        {
          "name": "stdout",
          "output_type": "stream",
          "text": [
            "val Loss: 2.7240 Acc: 0.4175\n",
            "\n",
            "Epoch 3/140\n",
            "----------\n"
          ]
        },
        {
          "name": "stderr",
          "output_type": "stream",
          "text": [
            "train batches: 100%|██████████| 271/271 [00:15<00:00, 17.67it/s, loss=0.0252]\n"
          ]
        },
        {
          "name": "stdout",
          "output_type": "stream",
          "text": [
            "train Loss: 1.5997 Acc: 0.5739\n"
          ]
        },
        {
          "name": "stderr",
          "output_type": "stream",
          "text": [
            "val batches: 100%|██████████| 7/7 [00:01<00:00,  5.85it/s, loss=0.2766]\n"
          ]
        },
        {
          "name": "stdout",
          "output_type": "stream",
          "text": [
            "val Loss: 2.4024 Acc: 0.5049\n",
            "\n",
            "Epoch 4/140\n",
            "----------\n"
          ]
        },
        {
          "name": "stderr",
          "output_type": "stream",
          "text": [
            "train batches: 100%|██████████| 271/271 [00:15<00:00, 17.54it/s, loss=2.0477]\n"
          ]
        },
        {
          "name": "stdout",
          "output_type": "stream",
          "text": [
            "train Loss: 1.2715 Acc: 0.6562\n"
          ]
        },
        {
          "name": "stderr",
          "output_type": "stream",
          "text": [
            "val batches: 100%|██████████| 7/7 [00:00<00:00,  8.25it/s, loss=0.7864]\n"
          ]
        },
        {
          "name": "stdout",
          "output_type": "stream",
          "text": [
            "val Loss: 3.6670 Acc: 0.4951\n",
            "\n",
            "Epoch 5/140\n",
            "----------\n"
          ]
        },
        {
          "name": "stderr",
          "output_type": "stream",
          "text": [
            "train batches: 100%|██████████| 271/271 [00:15<00:00, 17.89it/s, loss=0.7393]\n"
          ]
        },
        {
          "name": "stdout",
          "output_type": "stream",
          "text": [
            "train Loss: 1.1975 Acc: 0.7126\n"
          ]
        },
        {
          "name": "stderr",
          "output_type": "stream",
          "text": [
            "val batches: 100%|██████████| 7/7 [00:00<00:00,  8.08it/s, loss=0.0071]\n"
          ]
        },
        {
          "name": "stdout",
          "output_type": "stream",
          "text": [
            "val Loss: 2.5429 Acc: 0.6019\n",
            "\n",
            "Epoch 6/140\n",
            "----------\n"
          ]
        },
        {
          "name": "stderr",
          "output_type": "stream",
          "text": [
            "train batches: 100%|██████████| 271/271 [00:15<00:00, 17.86it/s, loss=1.5284]\n"
          ]
        },
        {
          "name": "stdout",
          "output_type": "stream",
          "text": [
            "train Loss: 1.3721 Acc: 0.6978\n"
          ]
        },
        {
          "name": "stderr",
          "output_type": "stream",
          "text": [
            "val batches: 100%|██████████| 7/7 [00:00<00:00,  8.06it/s, loss=0.0303]\n"
          ]
        },
        {
          "name": "stdout",
          "output_type": "stream",
          "text": [
            "val Loss: 2.3901 Acc: 0.5534\n",
            "\n",
            "Epoch 7/140\n",
            "----------\n"
          ]
        },
        {
          "name": "stderr",
          "output_type": "stream",
          "text": [
            "train batches: 100%|██████████| 271/271 [00:15<00:00, 17.52it/s, loss=0.0554]\n"
          ]
        },
        {
          "name": "stdout",
          "output_type": "stream",
          "text": [
            "train Loss: 0.7844 Acc: 0.8198\n"
          ]
        },
        {
          "name": "stderr",
          "output_type": "stream",
          "text": [
            "val batches: 100%|██████████| 7/7 [00:00<00:00,  8.21it/s, loss=0.5181]\n"
          ]
        },
        {
          "name": "stdout",
          "output_type": "stream",
          "text": [
            "val Loss: 2.0462 Acc: 0.6214\n",
            "\n",
            "Epoch 8/140\n",
            "----------\n"
          ]
        },
        {
          "name": "stderr",
          "output_type": "stream",
          "text": [
            "train batches: 100%|██████████| 271/271 [00:15<00:00, 17.39it/s, loss=0.0923]\n"
          ]
        },
        {
          "name": "stdout",
          "output_type": "stream",
          "text": [
            "train Loss: 0.5177 Acc: 0.8688\n"
          ]
        },
        {
          "name": "stderr",
          "output_type": "stream",
          "text": [
            "val batches: 100%|██████████| 7/7 [00:00<00:00,  7.38it/s, loss=0.6751]\n"
          ]
        },
        {
          "name": "stdout",
          "output_type": "stream",
          "text": [
            "val Loss: 2.0706 Acc: 0.6214\n",
            "\n",
            "Epoch 9/140\n",
            "----------\n"
          ]
        },
        {
          "name": "stderr",
          "output_type": "stream",
          "text": [
            "train batches: 100%|██████████| 271/271 [00:15<00:00, 17.38it/s, loss=0.0263]\n"
          ]
        },
        {
          "name": "stdout",
          "output_type": "stream",
          "text": [
            "train Loss: 0.3924 Acc: 0.8808\n"
          ]
        },
        {
          "name": "stderr",
          "output_type": "stream",
          "text": [
            "val batches: 100%|██████████| 7/7 [00:01<00:00,  5.73it/s, loss=0.5262]\n"
          ]
        },
        {
          "name": "stdout",
          "output_type": "stream",
          "text": [
            "val Loss: 2.0802 Acc: 0.6117\n",
            "\n",
            "Epoch 10/140\n",
            "----------\n"
          ]
        },
        {
          "name": "stderr",
          "output_type": "stream",
          "text": [
            "train batches: 100%|██████████| 271/271 [00:15<00:00, 17.33it/s, loss=0.0000]\n"
          ]
        },
        {
          "name": "stdout",
          "output_type": "stream",
          "text": [
            "train Loss: 0.4450 Acc: 0.8826\n"
          ]
        },
        {
          "name": "stderr",
          "output_type": "stream",
          "text": [
            "val batches: 100%|██████████| 7/7 [00:00<00:00,  8.00it/s, loss=0.3589]\n"
          ]
        },
        {
          "name": "stdout",
          "output_type": "stream",
          "text": [
            "val Loss: 2.0963 Acc: 0.6117\n",
            "\n",
            "Epoch 11/140\n",
            "----------\n"
          ]
        },
        {
          "name": "stderr",
          "output_type": "stream",
          "text": [
            "train batches: 100%|██████████| 271/271 [00:15<00:00, 17.55it/s, loss=0.0002]\n"
          ]
        },
        {
          "name": "stdout",
          "output_type": "stream",
          "text": [
            "train Loss: 0.3322 Acc: 0.9094\n"
          ]
        },
        {
          "name": "stderr",
          "output_type": "stream",
          "text": [
            "val batches: 100%|██████████| 7/7 [00:00<00:00,  8.21it/s, loss=0.4435]\n"
          ]
        },
        {
          "name": "stdout",
          "output_type": "stream",
          "text": [
            "val Loss: 2.0742 Acc: 0.6214\n",
            "\n",
            "Epoch 12/140\n",
            "----------\n"
          ]
        },
        {
          "name": "stderr",
          "output_type": "stream",
          "text": [
            "train batches: 100%|██████████| 271/271 [00:15<00:00, 17.54it/s, loss=0.0005]\n"
          ]
        },
        {
          "name": "stdout",
          "output_type": "stream",
          "text": [
            "train Loss: 0.2902 Acc: 0.9298\n"
          ]
        },
        {
          "name": "stderr",
          "output_type": "stream",
          "text": [
            "val batches: 100%|██████████| 7/7 [00:00<00:00,  8.04it/s, loss=0.4116]\n"
          ]
        },
        {
          "name": "stdout",
          "output_type": "stream",
          "text": [
            "val Loss: 2.2871 Acc: 0.6117\n",
            "\n",
            "Epoch 13/140\n",
            "----------\n"
          ]
        },
        {
          "name": "stderr",
          "output_type": "stream",
          "text": [
            "train batches: 100%|██████████| 271/271 [00:15<00:00, 17.54it/s, loss=0.0029]\n"
          ]
        },
        {
          "name": "stdout",
          "output_type": "stream",
          "text": [
            "train Loss: 0.1933 Acc: 0.9399\n"
          ]
        },
        {
          "name": "stderr",
          "output_type": "stream",
          "text": [
            "val batches: 100%|██████████| 7/7 [00:00<00:00,  8.09it/s, loss=0.3981]\n"
          ]
        },
        {
          "name": "stdout",
          "output_type": "stream",
          "text": [
            "val Loss: 2.2747 Acc: 0.6214\n",
            "\n",
            "Epoch 14/140\n",
            "----------\n"
          ]
        },
        {
          "name": "stderr",
          "output_type": "stream",
          "text": [
            "train batches: 100%|██████████| 271/271 [00:15<00:00, 17.29it/s, loss=1.6986]\n"
          ]
        },
        {
          "name": "stdout",
          "output_type": "stream",
          "text": [
            "train Loss: 0.2368 Acc: 0.9270\n"
          ]
        },
        {
          "name": "stderr",
          "output_type": "stream",
          "text": [
            "val batches: 100%|██████████| 7/7 [00:01<00:00,  5.60it/s, loss=0.3842]\n"
          ]
        },
        {
          "name": "stdout",
          "output_type": "stream",
          "text": [
            "val Loss: 2.2803 Acc: 0.6117\n",
            "\n",
            "Early stopping triggered after 14 epochs\n",
            "Validation Accuracy: 0.62%\n",
            "\n",
            "--- Testing Configuration ---\n",
            "Learning Rate: 0.0005\n",
            "Batch Size: 16\n",
            "Dropout Rate: 0.3\n",
            "Number of Epochs: 140\n",
            "\n",
            "Epoch 1/140\n",
            "----------\n"
          ]
        },
        {
          "name": "stderr",
          "output_type": "stream",
          "text": [
            "train batches: 100%|██████████| 271/271 [00:15<00:00, 17.56it/s, loss=1.4877]\n"
          ]
        },
        {
          "name": "stdout",
          "output_type": "stream",
          "text": [
            "train Loss: 2.4764 Acc: 0.2643\n"
          ]
        },
        {
          "name": "stderr",
          "output_type": "stream",
          "text": [
            "val batches: 100%|██████████| 7/7 [00:00<00:00,  8.12it/s, loss=3.0421]\n"
          ]
        },
        {
          "name": "stdout",
          "output_type": "stream",
          "text": [
            "val Loss: 2.1925 Acc: 0.4078\n",
            "\n",
            "Epoch 2/140\n",
            "----------\n"
          ]
        },
        {
          "name": "stderr",
          "output_type": "stream",
          "text": [
            "train batches: 100%|██████████| 271/271 [00:15<00:00, 17.63it/s, loss=0.0185]\n"
          ]
        },
        {
          "name": "stdout",
          "output_type": "stream",
          "text": [
            "train Loss: 1.1434 Acc: 0.6349\n"
          ]
        },
        {
          "name": "stderr",
          "output_type": "stream",
          "text": [
            "val batches: 100%|██████████| 7/7 [00:00<00:00,  8.27it/s, loss=2.1314]\n"
          ]
        },
        {
          "name": "stdout",
          "output_type": "stream",
          "text": [
            "val Loss: 2.4622 Acc: 0.5049\n",
            "\n",
            "Epoch 3/140\n",
            "----------\n"
          ]
        },
        {
          "name": "stderr",
          "output_type": "stream",
          "text": [
            "train batches: 100%|██████████| 271/271 [00:15<00:00, 17.66it/s, loss=0.0354]\n"
          ]
        },
        {
          "name": "stdout",
          "output_type": "stream",
          "text": [
            "train Loss: 0.5256 Acc: 0.8373\n"
          ]
        },
        {
          "name": "stderr",
          "output_type": "stream",
          "text": [
            "val batches: 100%|██████████| 7/7 [00:00<00:00,  8.49it/s, loss=1.7698]\n"
          ]
        },
        {
          "name": "stdout",
          "output_type": "stream",
          "text": [
            "val Loss: 2.0834 Acc: 0.5922\n",
            "\n",
            "Epoch 4/140\n",
            "----------\n"
          ]
        },
        {
          "name": "stderr",
          "output_type": "stream",
          "text": [
            "train batches: 100%|██████████| 271/271 [00:15<00:00, 17.74it/s, loss=1.1760]\n"
          ]
        },
        {
          "name": "stdout",
          "output_type": "stream",
          "text": [
            "train Loss: 0.2406 Acc: 0.9261\n"
          ]
        },
        {
          "name": "stderr",
          "output_type": "stream",
          "text": [
            "val batches: 100%|██████████| 7/7 [00:00<00:00,  8.18it/s, loss=0.4171]\n"
          ]
        },
        {
          "name": "stdout",
          "output_type": "stream",
          "text": [
            "val Loss: 1.7713 Acc: 0.6602\n",
            "\n",
            "Epoch 5/140\n",
            "----------\n"
          ]
        },
        {
          "name": "stderr",
          "output_type": "stream",
          "text": [
            "train batches: 100%|██████████| 271/271 [00:15<00:00, 17.64it/s, loss=0.0152]\n"
          ]
        },
        {
          "name": "stdout",
          "output_type": "stream",
          "text": [
            "train Loss: 0.1740 Acc: 0.9464\n"
          ]
        },
        {
          "name": "stderr",
          "output_type": "stream",
          "text": [
            "val batches: 100%|██████████| 7/7 [00:01<00:00,  5.71it/s, loss=2.0901]\n"
          ]
        },
        {
          "name": "stdout",
          "output_type": "stream",
          "text": [
            "val Loss: 2.1970 Acc: 0.6311\n",
            "\n",
            "Epoch 6/140\n",
            "----------\n"
          ]
        },
        {
          "name": "stderr",
          "output_type": "stream",
          "text": [
            "train batches: 100%|██████████| 271/271 [00:15<00:00, 17.35it/s, loss=0.1907]\n"
          ]
        },
        {
          "name": "stdout",
          "output_type": "stream",
          "text": [
            "train Loss: 0.1749 Acc: 0.9501\n"
          ]
        },
        {
          "name": "stderr",
          "output_type": "stream",
          "text": [
            "val batches: 100%|██████████| 7/7 [00:01<00:00,  6.99it/s, loss=1.4209]\n"
          ]
        },
        {
          "name": "stdout",
          "output_type": "stream",
          "text": [
            "val Loss: 3.7176 Acc: 0.5146\n",
            "\n",
            "Epoch 7/140\n",
            "----------\n"
          ]
        },
        {
          "name": "stderr",
          "output_type": "stream",
          "text": [
            "train batches: 100%|██████████| 271/271 [00:15<00:00, 17.77it/s, loss=0.0000]\n"
          ]
        },
        {
          "name": "stdout",
          "output_type": "stream",
          "text": [
            "train Loss: 0.2204 Acc: 0.9335\n"
          ]
        },
        {
          "name": "stderr",
          "output_type": "stream",
          "text": [
            "val batches: 100%|██████████| 7/7 [00:00<00:00,  8.23it/s, loss=0.4574]\n"
          ]
        },
        {
          "name": "stdout",
          "output_type": "stream",
          "text": [
            "val Loss: 4.2256 Acc: 0.5049\n",
            "\n",
            "Epoch 8/140\n",
            "----------\n"
          ]
        },
        {
          "name": "stderr",
          "output_type": "stream",
          "text": [
            "train batches: 100%|██████████| 271/271 [00:15<00:00, 17.69it/s, loss=0.0074]\n"
          ]
        },
        {
          "name": "stdout",
          "output_type": "stream",
          "text": [
            "train Loss: 0.2123 Acc: 0.9427\n"
          ]
        },
        {
          "name": "stderr",
          "output_type": "stream",
          "text": [
            "val batches: 100%|██████████| 7/7 [00:00<00:00,  8.31it/s, loss=1.5457]\n"
          ]
        },
        {
          "name": "stdout",
          "output_type": "stream",
          "text": [
            "val Loss: 3.2038 Acc: 0.6602\n",
            "\n",
            "Epoch 9/140\n",
            "----------\n"
          ]
        },
        {
          "name": "stderr",
          "output_type": "stream",
          "text": [
            "train batches: 100%|██████████| 271/271 [00:15<00:00, 17.76it/s, loss=0.0184]\n"
          ]
        },
        {
          "name": "stdout",
          "output_type": "stream",
          "text": [
            "train Loss: 0.2355 Acc: 0.9418\n"
          ]
        },
        {
          "name": "stderr",
          "output_type": "stream",
          "text": [
            "val batches: 100%|██████████| 7/7 [00:00<00:00,  8.09it/s, loss=1.5160]\n"
          ]
        },
        {
          "name": "stdout",
          "output_type": "stream",
          "text": [
            "val Loss: 3.9793 Acc: 0.5825\n",
            "\n",
            "Epoch 10/140\n",
            "----------\n"
          ]
        },
        {
          "name": "stderr",
          "output_type": "stream",
          "text": [
            "train batches: 100%|██████████| 271/271 [00:15<00:00, 17.72it/s, loss=0.0000]\n"
          ]
        },
        {
          "name": "stdout",
          "output_type": "stream",
          "text": [
            "train Loss: 0.1261 Acc: 0.9704\n"
          ]
        },
        {
          "name": "stderr",
          "output_type": "stream",
          "text": [
            "val batches: 100%|██████████| 7/7 [00:00<00:00,  8.58it/s, loss=0.2273]\n"
          ]
        },
        {
          "name": "stdout",
          "output_type": "stream",
          "text": [
            "val Loss: 3.2979 Acc: 0.6311\n",
            "\n",
            "Epoch 11/140\n",
            "----------\n"
          ]
        },
        {
          "name": "stderr",
          "output_type": "stream",
          "text": [
            "train batches: 100%|██████████| 271/271 [00:15<00:00, 17.62it/s, loss=0.4259]\n"
          ]
        },
        {
          "name": "stdout",
          "output_type": "stream",
          "text": [
            "train Loss: 0.0272 Acc: 0.9889\n"
          ]
        },
        {
          "name": "stderr",
          "output_type": "stream",
          "text": [
            "val batches: 100%|██████████| 7/7 [00:01<00:00,  5.65it/s, loss=0.1785]\n"
          ]
        },
        {
          "name": "stdout",
          "output_type": "stream",
          "text": [
            "val Loss: 3.0417 Acc: 0.6214\n",
            "\n",
            "Early stopping triggered after 11 epochs\n",
            "Validation Accuracy: 0.66%\n",
            "\n",
            "--- Testing Configuration ---\n",
            "Learning Rate: 0.0005\n",
            "Batch Size: 16\n",
            "Dropout Rate: 0.4\n",
            "Number of Epochs: 140\n",
            "\n",
            "Epoch 1/140\n",
            "----------\n"
          ]
        },
        {
          "name": "stderr",
          "output_type": "stream",
          "text": [
            "train batches: 100%|██████████| 271/271 [00:15<00:00, 17.65it/s, loss=1.5691]\n"
          ]
        },
        {
          "name": "stdout",
          "output_type": "stream",
          "text": [
            "train Loss: 2.6438 Acc: 0.2227\n"
          ]
        },
        {
          "name": "stderr",
          "output_type": "stream",
          "text": [
            "val batches: 100%|██████████| 7/7 [00:00<00:00,  7.93it/s, loss=2.1994]\n"
          ]
        },
        {
          "name": "stdout",
          "output_type": "stream",
          "text": [
            "val Loss: 2.5221 Acc: 0.3301\n",
            "\n",
            "Epoch 2/140\n",
            "----------\n"
          ]
        },
        {
          "name": "stderr",
          "output_type": "stream",
          "text": [
            "train batches: 100%|██████████| 271/271 [00:15<00:00, 17.56it/s, loss=0.5448]\n"
          ]
        },
        {
          "name": "stdout",
          "output_type": "stream",
          "text": [
            "train Loss: 1.4228 Acc: 0.5573\n"
          ]
        },
        {
          "name": "stderr",
          "output_type": "stream",
          "text": [
            "val batches: 100%|██████████| 7/7 [00:00<00:00,  8.17it/s, loss=0.3398]\n"
          ]
        },
        {
          "name": "stdout",
          "output_type": "stream",
          "text": [
            "val Loss: 1.6882 Acc: 0.5243\n",
            "\n",
            "Epoch 3/140\n",
            "----------\n"
          ]
        },
        {
          "name": "stderr",
          "output_type": "stream",
          "text": [
            "train batches: 100%|██████████| 271/271 [00:15<00:00, 17.61it/s, loss=1.0040]\n"
          ]
        },
        {
          "name": "stdout",
          "output_type": "stream",
          "text": [
            "train Loss: 0.7525 Acc: 0.7579\n"
          ]
        },
        {
          "name": "stderr",
          "output_type": "stream",
          "text": [
            "val batches: 100%|██████████| 7/7 [00:00<00:00,  7.98it/s, loss=0.2915]\n"
          ]
        },
        {
          "name": "stdout",
          "output_type": "stream",
          "text": [
            "val Loss: 2.1778 Acc: 0.5534\n",
            "\n",
            "Epoch 4/140\n",
            "----------\n"
          ]
        },
        {
          "name": "stderr",
          "output_type": "stream",
          "text": [
            "train batches: 100%|██████████| 271/271 [00:15<00:00, 17.47it/s, loss=0.0296]\n"
          ]
        },
        {
          "name": "stdout",
          "output_type": "stream",
          "text": [
            "train Loss: 0.5049 Acc: 0.8327\n"
          ]
        },
        {
          "name": "stderr",
          "output_type": "stream",
          "text": [
            "val batches: 100%|██████████| 7/7 [00:00<00:00,  7.51it/s, loss=0.1089]\n"
          ]
        },
        {
          "name": "stdout",
          "output_type": "stream",
          "text": [
            "val Loss: 2.0932 Acc: 0.6019\n",
            "\n",
            "Epoch 5/140\n",
            "----------\n"
          ]
        },
        {
          "name": "stderr",
          "output_type": "stream",
          "text": [
            "train batches: 100%|██████████| 271/271 [00:15<00:00, 17.18it/s, loss=0.1015]\n"
          ]
        },
        {
          "name": "stdout",
          "output_type": "stream",
          "text": [
            "train Loss: 0.3082 Acc: 0.9076\n"
          ]
        },
        {
          "name": "stderr",
          "output_type": "stream",
          "text": [
            "val batches: 100%|██████████| 7/7 [00:01<00:00,  6.05it/s, loss=0.0313]\n"
          ]
        },
        {
          "name": "stdout",
          "output_type": "stream",
          "text": [
            "val Loss: 1.7789 Acc: 0.6602\n",
            "\n",
            "Epoch 6/140\n",
            "----------\n"
          ]
        },
        {
          "name": "stderr",
          "output_type": "stream",
          "text": [
            "train batches: 100%|██████████| 271/271 [00:15<00:00, 17.59it/s, loss=0.0000]\n"
          ]
        },
        {
          "name": "stdout",
          "output_type": "stream",
          "text": [
            "train Loss: 0.1948 Acc: 0.9492\n"
          ]
        },
        {
          "name": "stderr",
          "output_type": "stream",
          "text": [
            "val batches: 100%|██████████| 7/7 [00:00<00:00,  8.13it/s, loss=2.7439]\n"
          ]
        },
        {
          "name": "stdout",
          "output_type": "stream",
          "text": [
            "val Loss: 2.7295 Acc: 0.5922\n",
            "\n",
            "Epoch 7/140\n",
            "----------\n"
          ]
        },
        {
          "name": "stderr",
          "output_type": "stream",
          "text": [
            "train batches: 100%|██████████| 271/271 [00:15<00:00, 17.79it/s, loss=0.0012]\n"
          ]
        },
        {
          "name": "stdout",
          "output_type": "stream",
          "text": [
            "train Loss: 0.2441 Acc: 0.9288\n"
          ]
        },
        {
          "name": "stderr",
          "output_type": "stream",
          "text": [
            "val batches: 100%|██████████| 7/7 [00:00<00:00,  8.13it/s, loss=0.8562]\n"
          ]
        },
        {
          "name": "stdout",
          "output_type": "stream",
          "text": [
            "val Loss: 1.9258 Acc: 0.5922\n",
            "\n",
            "Epoch 8/140\n",
            "----------\n"
          ]
        },
        {
          "name": "stderr",
          "output_type": "stream",
          "text": [
            "train batches: 100%|██████████| 271/271 [00:15<00:00, 17.76it/s, loss=0.0013]\n"
          ]
        },
        {
          "name": "stdout",
          "output_type": "stream",
          "text": [
            "train Loss: 0.1115 Acc: 0.9677\n"
          ]
        },
        {
          "name": "stderr",
          "output_type": "stream",
          "text": [
            "val batches: 100%|██████████| 7/7 [00:00<00:00,  8.33it/s, loss=1.5839]\n"
          ]
        },
        {
          "name": "stdout",
          "output_type": "stream",
          "text": [
            "val Loss: 2.2983 Acc: 0.6019\n",
            "\n",
            "Epoch 9/140\n",
            "----------\n"
          ]
        },
        {
          "name": "stderr",
          "output_type": "stream",
          "text": [
            "train batches: 100%|██████████| 271/271 [00:15<00:00, 17.64it/s, loss=0.0000]\n"
          ]
        },
        {
          "name": "stdout",
          "output_type": "stream",
          "text": [
            "train Loss: 0.0531 Acc: 0.9843\n"
          ]
        },
        {
          "name": "stderr",
          "output_type": "stream",
          "text": [
            "val batches: 100%|██████████| 7/7 [00:00<00:00,  8.18it/s, loss=1.6543]\n"
          ]
        },
        {
          "name": "stdout",
          "output_type": "stream",
          "text": [
            "val Loss: 2.2989 Acc: 0.5825\n",
            "\n",
            "Epoch 10/140\n",
            "----------\n"
          ]
        },
        {
          "name": "stderr",
          "output_type": "stream",
          "text": [
            "train batches: 100%|██████████| 271/271 [00:15<00:00, 17.36it/s, loss=0.0000]\n"
          ]
        },
        {
          "name": "stdout",
          "output_type": "stream",
          "text": [
            "train Loss: 0.0627 Acc: 0.9797\n"
          ]
        },
        {
          "name": "stderr",
          "output_type": "stream",
          "text": [
            "val batches: 100%|██████████| 7/7 [00:01<00:00,  5.66it/s, loss=1.7684]\n"
          ]
        },
        {
          "name": "stdout",
          "output_type": "stream",
          "text": [
            "val Loss: 2.3460 Acc: 0.6117\n",
            "\n",
            "Epoch 11/140\n",
            "----------\n"
          ]
        },
        {
          "name": "stderr",
          "output_type": "stream",
          "text": [
            "train batches: 100%|██████████| 271/271 [00:15<00:00, 17.16it/s, loss=0.0000]\n"
          ]
        },
        {
          "name": "stdout",
          "output_type": "stream",
          "text": [
            "train Loss: 0.0484 Acc: 0.9908\n"
          ]
        },
        {
          "name": "stderr",
          "output_type": "stream",
          "text": [
            "val batches: 100%|██████████| 7/7 [00:00<00:00,  7.85it/s, loss=1.7736]\n"
          ]
        },
        {
          "name": "stdout",
          "output_type": "stream",
          "text": [
            "val Loss: 2.3204 Acc: 0.6311\n",
            "\n",
            "Epoch 12/140\n",
            "----------\n"
          ]
        },
        {
          "name": "stderr",
          "output_type": "stream",
          "text": [
            "train batches: 100%|██████████| 271/271 [00:15<00:00, 17.56it/s, loss=0.0003]\n"
          ]
        },
        {
          "name": "stdout",
          "output_type": "stream",
          "text": [
            "train Loss: 0.0330 Acc: 0.9889\n"
          ]
        },
        {
          "name": "stderr",
          "output_type": "stream",
          "text": [
            "val batches: 100%|██████████| 7/7 [00:00<00:00,  8.44it/s, loss=1.5801]\n"
          ]
        },
        {
          "name": "stdout",
          "output_type": "stream",
          "text": [
            "val Loss: 2.2357 Acc: 0.6214\n",
            "\n",
            "Early stopping triggered after 12 epochs\n",
            "Validation Accuracy: 0.66%\n",
            "\n",
            "--- Testing Configuration ---\n",
            "Learning Rate: 0.0005\n",
            "Batch Size: 32\n",
            "Dropout Rate: 0.3\n",
            "Number of Epochs: 140\n",
            "\n",
            "Epoch 1/140\n",
            "----------\n"
          ]
        },
        {
          "name": "stderr",
          "output_type": "stream",
          "text": [
            "train batches: 100%|██████████| 271/271 [00:15<00:00, 17.29it/s, loss=1.4786]\n"
          ]
        },
        {
          "name": "stdout",
          "output_type": "stream",
          "text": [
            "train Loss: 2.4851 Acc: 0.2625\n"
          ]
        },
        {
          "name": "stderr",
          "output_type": "stream",
          "text": [
            "val batches: 100%|██████████| 7/7 [00:00<00:00,  8.28it/s, loss=0.5367]\n"
          ]
        },
        {
          "name": "stdout",
          "output_type": "stream",
          "text": [
            "val Loss: 1.9005 Acc: 0.4563\n",
            "\n",
            "Epoch 2/140\n",
            "----------\n"
          ]
        },
        {
          "name": "stderr",
          "output_type": "stream",
          "text": [
            "train batches: 100%|██████████| 271/271 [00:15<00:00, 17.44it/s, loss=2.3147]\n"
          ]
        },
        {
          "name": "stdout",
          "output_type": "stream",
          "text": [
            "train Loss: 1.1250 Acc: 0.6331\n"
          ]
        },
        {
          "name": "stderr",
          "output_type": "stream",
          "text": [
            "val batches: 100%|██████████| 7/7 [00:00<00:00,  8.09it/s, loss=0.4539]\n"
          ]
        },
        {
          "name": "stdout",
          "output_type": "stream",
          "text": [
            "val Loss: 1.9482 Acc: 0.5340\n",
            "\n",
            "Epoch 3/140\n",
            "----------\n"
          ]
        },
        {
          "name": "stderr",
          "output_type": "stream",
          "text": [
            "train batches: 100%|██████████| 271/271 [00:15<00:00, 16.98it/s, loss=0.1867]\n"
          ]
        },
        {
          "name": "stdout",
          "output_type": "stream",
          "text": [
            "train Loss: 0.4104 Acc: 0.8577\n"
          ]
        },
        {
          "name": "stderr",
          "output_type": "stream",
          "text": [
            "val batches: 100%|██████████| 7/7 [00:01<00:00,  6.02it/s, loss=1.1597]\n"
          ]
        },
        {
          "name": "stdout",
          "output_type": "stream",
          "text": [
            "val Loss: 2.1406 Acc: 0.5728\n",
            "\n",
            "Epoch 4/140\n",
            "----------\n"
          ]
        },
        {
          "name": "stderr",
          "output_type": "stream",
          "text": [
            "train batches: 100%|██████████| 271/271 [00:15<00:00, 17.44it/s, loss=0.0031]\n"
          ]
        },
        {
          "name": "stdout",
          "output_type": "stream",
          "text": [
            "train Loss: 0.2443 Acc: 0.9261\n"
          ]
        },
        {
          "name": "stderr",
          "output_type": "stream",
          "text": [
            "val batches: 100%|██████████| 7/7 [00:00<00:00,  8.35it/s, loss=0.9916]\n"
          ]
        },
        {
          "name": "stdout",
          "output_type": "stream",
          "text": [
            "val Loss: 2.8608 Acc: 0.5534\n",
            "\n",
            "Epoch 5/140\n",
            "----------\n"
          ]
        },
        {
          "name": "stderr",
          "output_type": "stream",
          "text": [
            "train batches: 100%|██████████| 271/271 [00:15<00:00, 17.47it/s, loss=0.0000]\n"
          ]
        },
        {
          "name": "stdout",
          "output_type": "stream",
          "text": [
            "train Loss: 0.1449 Acc: 0.9556\n"
          ]
        },
        {
          "name": "stderr",
          "output_type": "stream",
          "text": [
            "val batches: 100%|██████████| 7/7 [00:00<00:00,  8.38it/s, loss=1.7055]\n"
          ]
        },
        {
          "name": "stdout",
          "output_type": "stream",
          "text": [
            "val Loss: 1.9458 Acc: 0.6796\n",
            "\n",
            "Epoch 6/140\n",
            "----------\n"
          ]
        },
        {
          "name": "stderr",
          "output_type": "stream",
          "text": [
            "train batches: 100%|██████████| 271/271 [00:15<00:00, 17.45it/s, loss=0.0051]\n"
          ]
        },
        {
          "name": "stdout",
          "output_type": "stream",
          "text": [
            "train Loss: 0.1113 Acc: 0.9686\n"
          ]
        },
        {
          "name": "stderr",
          "output_type": "stream",
          "text": [
            "val batches: 100%|██████████| 7/7 [00:00<00:00,  7.75it/s, loss=0.0421]\n"
          ]
        },
        {
          "name": "stdout",
          "output_type": "stream",
          "text": [
            "val Loss: 2.7178 Acc: 0.6408\n",
            "\n",
            "Epoch 7/140\n",
            "----------\n"
          ]
        },
        {
          "name": "stderr",
          "output_type": "stream",
          "text": [
            "train batches: 100%|██████████| 271/271 [00:15<00:00, 17.39it/s, loss=0.0004]\n"
          ]
        },
        {
          "name": "stdout",
          "output_type": "stream",
          "text": [
            "train Loss: 0.0647 Acc: 0.9824\n"
          ]
        },
        {
          "name": "stderr",
          "output_type": "stream",
          "text": [
            "val batches: 100%|██████████| 7/7 [00:00<00:00,  8.30it/s, loss=0.1348]\n"
          ]
        },
        {
          "name": "stdout",
          "output_type": "stream",
          "text": [
            "val Loss: 2.4092 Acc: 0.6990\n",
            "\n",
            "Epoch 8/140\n",
            "----------\n"
          ]
        },
        {
          "name": "stderr",
          "output_type": "stream",
          "text": [
            "train batches: 100%|██████████| 271/271 [00:15<00:00, 17.30it/s, loss=0.0001]\n"
          ]
        },
        {
          "name": "stdout",
          "output_type": "stream",
          "text": [
            "train Loss: 0.0219 Acc: 0.9945\n"
          ]
        },
        {
          "name": "stderr",
          "output_type": "stream",
          "text": [
            "val batches: 100%|██████████| 7/7 [00:01<00:00,  6.03it/s, loss=0.1738]\n"
          ]
        },
        {
          "name": "stdout",
          "output_type": "stream",
          "text": [
            "val Loss: 2.2091 Acc: 0.6990\n",
            "\n",
            "Epoch 9/140\n",
            "----------\n"
          ]
        },
        {
          "name": "stderr",
          "output_type": "stream",
          "text": [
            "train batches: 100%|██████████| 271/271 [00:15<00:00, 17.18it/s, loss=0.0000]\n"
          ]
        },
        {
          "name": "stdout",
          "output_type": "stream",
          "text": [
            "train Loss: 0.0249 Acc: 0.9908\n"
          ]
        },
        {
          "name": "stderr",
          "output_type": "stream",
          "text": [
            "val batches: 100%|██████████| 7/7 [00:00<00:00,  8.31it/s, loss=0.4116]\n"
          ]
        },
        {
          "name": "stdout",
          "output_type": "stream",
          "text": [
            "val Loss: 2.2330 Acc: 0.6796\n",
            "\n",
            "Epoch 10/140\n",
            "----------\n"
          ]
        },
        {
          "name": "stderr",
          "output_type": "stream",
          "text": [
            "train batches: 100%|██████████| 271/271 [00:15<00:00, 17.48it/s, loss=0.0002]\n"
          ]
        },
        {
          "name": "stdout",
          "output_type": "stream",
          "text": [
            "train Loss: 0.0153 Acc: 0.9963\n"
          ]
        },
        {
          "name": "stderr",
          "output_type": "stream",
          "text": [
            "val batches: 100%|██████████| 7/7 [00:00<00:00,  8.06it/s, loss=0.4752]\n"
          ]
        },
        {
          "name": "stdout",
          "output_type": "stream",
          "text": [
            "val Loss: 2.5322 Acc: 0.6505\n",
            "\n",
            "Epoch 11/140\n",
            "----------\n"
          ]
        },
        {
          "name": "stderr",
          "output_type": "stream",
          "text": [
            "train batches: 100%|██████████| 271/271 [00:15<00:00, 17.38it/s, loss=0.0003]\n"
          ]
        },
        {
          "name": "stdout",
          "output_type": "stream",
          "text": [
            "train Loss: 0.0118 Acc: 0.9963\n"
          ]
        },
        {
          "name": "stderr",
          "output_type": "stream",
          "text": [
            "val batches: 100%|██████████| 7/7 [00:00<00:00,  8.04it/s, loss=0.2888]\n"
          ]
        },
        {
          "name": "stdout",
          "output_type": "stream",
          "text": [
            "val Loss: 2.4497 Acc: 0.6602\n",
            "\n",
            "Epoch 12/140\n",
            "----------\n"
          ]
        },
        {
          "name": "stderr",
          "output_type": "stream",
          "text": [
            "train batches: 100%|██████████| 271/271 [00:15<00:00, 17.40it/s, loss=0.0000]\n"
          ]
        },
        {
          "name": "stdout",
          "output_type": "stream",
          "text": [
            "train Loss: 0.0092 Acc: 0.9972\n"
          ]
        },
        {
          "name": "stderr",
          "output_type": "stream",
          "text": [
            "val batches: 100%|██████████| 7/7 [00:00<00:00,  7.94it/s, loss=0.2952]\n"
          ]
        },
        {
          "name": "stdout",
          "output_type": "stream",
          "text": [
            "val Loss: 2.4346 Acc: 0.6602\n",
            "\n",
            "Epoch 13/140\n",
            "----------\n"
          ]
        },
        {
          "name": "stderr",
          "output_type": "stream",
          "text": [
            "train batches: 100%|██████████| 271/271 [00:15<00:00, 17.40it/s, loss=0.0013]\n"
          ]
        },
        {
          "name": "stdout",
          "output_type": "stream",
          "text": [
            "train Loss: 0.0111 Acc: 0.9963\n"
          ]
        },
        {
          "name": "stderr",
          "output_type": "stream",
          "text": [
            "val batches: 100%|██████████| 7/7 [00:01<00:00,  5.76it/s, loss=0.2962]\n"
          ]
        },
        {
          "name": "stdout",
          "output_type": "stream",
          "text": [
            "val Loss: 2.4302 Acc: 0.6602\n",
            "\n",
            "Epoch 14/140\n",
            "----------\n"
          ]
        },
        {
          "name": "stderr",
          "output_type": "stream",
          "text": [
            "train batches: 100%|██████████| 271/271 [00:16<00:00, 16.86it/s, loss=0.0000]\n"
          ]
        },
        {
          "name": "stdout",
          "output_type": "stream",
          "text": [
            "train Loss: 0.0128 Acc: 0.9972\n"
          ]
        },
        {
          "name": "stderr",
          "output_type": "stream",
          "text": [
            "val batches: 100%|██████████| 7/7 [00:01<00:00,  6.66it/s, loss=0.2902]\n"
          ]
        },
        {
          "name": "stdout",
          "output_type": "stream",
          "text": [
            "val Loss: 2.4255 Acc: 0.6699\n",
            "\n",
            "Early stopping triggered after 14 epochs\n",
            "Validation Accuracy: 0.70%\n",
            "\n",
            "--- Testing Configuration ---\n",
            "Learning Rate: 0.0005\n",
            "Batch Size: 32\n",
            "Dropout Rate: 0.4\n",
            "Number of Epochs: 140\n",
            "\n",
            "Epoch 1/140\n",
            "----------\n"
          ]
        },
        {
          "name": "stderr",
          "output_type": "stream",
          "text": [
            "train batches: 100%|██████████| 271/271 [00:15<00:00, 17.31it/s, loss=1.6610]\n"
          ]
        },
        {
          "name": "stdout",
          "output_type": "stream",
          "text": [
            "train Loss: 2.6539 Acc: 0.2089\n"
          ]
        },
        {
          "name": "stderr",
          "output_type": "stream",
          "text": [
            "val batches: 100%|██████████| 7/7 [00:00<00:00,  8.18it/s, loss=2.1919]\n"
          ]
        },
        {
          "name": "stdout",
          "output_type": "stream",
          "text": [
            "val Loss: 1.9914 Acc: 0.4175\n",
            "\n",
            "Epoch 2/140\n",
            "----------\n"
          ]
        },
        {
          "name": "stderr",
          "output_type": "stream",
          "text": [
            "train batches: 100%|██████████| 271/271 [00:15<00:00, 17.43it/s, loss=0.3308]\n"
          ]
        },
        {
          "name": "stdout",
          "output_type": "stream",
          "text": [
            "train Loss: 1.4717 Acc: 0.5360\n"
          ]
        },
        {
          "name": "stderr",
          "output_type": "stream",
          "text": [
            "val batches: 100%|██████████| 7/7 [00:00<00:00,  8.03it/s, loss=0.7337]\n"
          ]
        },
        {
          "name": "stdout",
          "output_type": "stream",
          "text": [
            "val Loss: 1.9624 Acc: 0.5728\n",
            "\n",
            "Epoch 3/140\n",
            "----------\n"
          ]
        },
        {
          "name": "stderr",
          "output_type": "stream",
          "text": [
            "train batches: 100%|██████████| 271/271 [00:15<00:00, 17.44it/s, loss=0.0065]\n"
          ]
        },
        {
          "name": "stdout",
          "output_type": "stream",
          "text": [
            "train Loss: 0.7618 Acc: 0.7505\n"
          ]
        },
        {
          "name": "stderr",
          "output_type": "stream",
          "text": [
            "val batches: 100%|██████████| 7/7 [00:00<00:00,  8.07it/s, loss=1.8020]\n"
          ]
        },
        {
          "name": "stdout",
          "output_type": "stream",
          "text": [
            "val Loss: 2.1268 Acc: 0.5825\n",
            "\n",
            "Epoch 4/140\n",
            "----------\n"
          ]
        },
        {
          "name": "stderr",
          "output_type": "stream",
          "text": [
            "train batches: 100%|██████████| 271/271 [00:15<00:00, 17.17it/s, loss=0.0396]\n"
          ]
        },
        {
          "name": "stdout",
          "output_type": "stream",
          "text": [
            "train Loss: 0.4913 Acc: 0.8429\n"
          ]
        },
        {
          "name": "stderr",
          "output_type": "stream",
          "text": [
            "val batches: 100%|██████████| 7/7 [00:01<00:00,  5.64it/s, loss=0.9380]\n"
          ]
        },
        {
          "name": "stdout",
          "output_type": "stream",
          "text": [
            "val Loss: 1.5399 Acc: 0.7087\n",
            "\n",
            "Epoch 5/140\n",
            "----------\n"
          ]
        },
        {
          "name": "stderr",
          "output_type": "stream",
          "text": [
            "train batches: 100%|██████████| 271/271 [00:15<00:00, 17.29it/s, loss=0.0000]\n"
          ]
        },
        {
          "name": "stdout",
          "output_type": "stream",
          "text": [
            "train Loss: 0.3131 Acc: 0.9011\n"
          ]
        },
        {
          "name": "stderr",
          "output_type": "stream",
          "text": [
            "val batches: 100%|██████████| 7/7 [00:00<00:00,  8.20it/s, loss=0.6151]\n"
          ]
        },
        {
          "name": "stdout",
          "output_type": "stream",
          "text": [
            "val Loss: 2.8405 Acc: 0.5534\n",
            "\n",
            "Epoch 6/140\n",
            "----------\n"
          ]
        },
        {
          "name": "stderr",
          "output_type": "stream",
          "text": [
            "train batches: 100%|██████████| 271/271 [00:15<00:00, 17.46it/s, loss=0.0028]\n"
          ]
        },
        {
          "name": "stdout",
          "output_type": "stream",
          "text": [
            "train Loss: 0.2774 Acc: 0.9187\n"
          ]
        },
        {
          "name": "stderr",
          "output_type": "stream",
          "text": [
            "val batches: 100%|██████████| 7/7 [00:00<00:00,  8.27it/s, loss=0.5715]\n"
          ]
        },
        {
          "name": "stdout",
          "output_type": "stream",
          "text": [
            "val Loss: 2.1558 Acc: 0.6019\n",
            "\n",
            "Epoch 7/140\n",
            "----------\n"
          ]
        },
        {
          "name": "stderr",
          "output_type": "stream",
          "text": [
            "train batches: 100%|██████████| 271/271 [00:15<00:00, 17.41it/s, loss=0.8736]\n"
          ]
        },
        {
          "name": "stdout",
          "output_type": "stream",
          "text": [
            "train Loss: 0.2242 Acc: 0.9307\n"
          ]
        },
        {
          "name": "stderr",
          "output_type": "stream",
          "text": [
            "val batches: 100%|██████████| 7/7 [00:00<00:00,  8.10it/s, loss=0.7150]\n"
          ]
        },
        {
          "name": "stdout",
          "output_type": "stream",
          "text": [
            "val Loss: 2.4867 Acc: 0.6117\n",
            "\n",
            "Epoch 8/140\n",
            "----------\n"
          ]
        },
        {
          "name": "stderr",
          "output_type": "stream",
          "text": [
            "train batches: 100%|██████████| 271/271 [00:15<00:00, 17.37it/s, loss=0.0000]\n"
          ]
        },
        {
          "name": "stdout",
          "output_type": "stream",
          "text": [
            "train Loss: 0.2055 Acc: 0.9501\n"
          ]
        },
        {
          "name": "stderr",
          "output_type": "stream",
          "text": [
            "val batches: 100%|██████████| 7/7 [00:00<00:00,  7.79it/s, loss=0.0349]\n"
          ]
        },
        {
          "name": "stdout",
          "output_type": "stream",
          "text": [
            "val Loss: 3.0855 Acc: 0.6117\n",
            "\n",
            "Epoch 9/140\n",
            "----------\n"
          ]
        },
        {
          "name": "stderr",
          "output_type": "stream",
          "text": [
            "train batches: 100%|██████████| 271/271 [00:15<00:00, 17.48it/s, loss=0.0004]\n"
          ]
        },
        {
          "name": "stdout",
          "output_type": "stream",
          "text": [
            "train Loss: 0.2939 Acc: 0.9251\n"
          ]
        },
        {
          "name": "stderr",
          "output_type": "stream",
          "text": [
            "val batches: 100%|██████████| 7/7 [00:01<00:00,  5.83it/s, loss=2.1200]\n"
          ]
        },
        {
          "name": "stdout",
          "output_type": "stream",
          "text": [
            "val Loss: 2.8733 Acc: 0.5728\n",
            "\n",
            "Epoch 10/140\n",
            "----------\n"
          ]
        },
        {
          "name": "stderr",
          "output_type": "stream",
          "text": [
            "train batches: 100%|██████████| 271/271 [00:15<00:00, 17.23it/s, loss=0.0000]\n"
          ]
        },
        {
          "name": "stdout",
          "output_type": "stream",
          "text": [
            "train Loss: 0.1739 Acc: 0.9575\n"
          ]
        },
        {
          "name": "stderr",
          "output_type": "stream",
          "text": [
            "val batches: 100%|██████████| 7/7 [00:01<00:00,  5.58it/s, loss=1.8375]\n"
          ]
        },
        {
          "name": "stdout",
          "output_type": "stream",
          "text": [
            "val Loss: 2.8154 Acc: 0.6117\n",
            "\n",
            "Epoch 11/140\n",
            "----------\n"
          ]
        },
        {
          "name": "stderr",
          "output_type": "stream",
          "text": [
            "train batches: 100%|██████████| 271/271 [00:15<00:00, 17.30it/s, loss=0.1182]\n"
          ]
        },
        {
          "name": "stdout",
          "output_type": "stream",
          "text": [
            "train Loss: 0.0767 Acc: 0.9741\n"
          ]
        },
        {
          "name": "stderr",
          "output_type": "stream",
          "text": [
            "val batches: 100%|██████████| 7/7 [00:00<00:00,  8.21it/s, loss=1.8303]\n"
          ]
        },
        {
          "name": "stdout",
          "output_type": "stream",
          "text": [
            "val Loss: 2.6805 Acc: 0.6214\n",
            "\n",
            "Early stopping triggered after 11 epochs\n",
            "Validation Accuracy: 0.71%\n",
            "\n",
            "--- Testing Configuration ---\n",
            "Learning Rate: 0.0001\n",
            "Batch Size: 16\n",
            "Dropout Rate: 0.3\n",
            "Number of Epochs: 140\n",
            "\n",
            "Epoch 1/140\n",
            "----------\n"
          ]
        },
        {
          "name": "stderr",
          "output_type": "stream",
          "text": [
            "train batches: 100%|██████████| 271/271 [00:15<00:00, 17.42it/s, loss=2.5054]\n"
          ]
        },
        {
          "name": "stdout",
          "output_type": "stream",
          "text": [
            "train Loss: 2.4250 Acc: 0.2976\n"
          ]
        },
        {
          "name": "stderr",
          "output_type": "stream",
          "text": [
            "val batches: 100%|██████████| 7/7 [00:00<00:00,  8.10it/s, loss=0.8462]\n"
          ]
        },
        {
          "name": "stdout",
          "output_type": "stream",
          "text": [
            "val Loss: 1.5414 Acc: 0.5631\n",
            "\n",
            "Epoch 2/140\n",
            "----------\n"
          ]
        },
        {
          "name": "stderr",
          "output_type": "stream",
          "text": [
            "train batches: 100%|██████████| 271/271 [00:15<00:00, 17.61it/s, loss=1.5045]\n"
          ]
        },
        {
          "name": "stdout",
          "output_type": "stream",
          "text": [
            "train Loss: 1.0322 Acc: 0.7079\n"
          ]
        },
        {
          "name": "stderr",
          "output_type": "stream",
          "text": [
            "val batches: 100%|██████████| 7/7 [00:00<00:00,  7.95it/s, loss=0.5823]\n"
          ]
        },
        {
          "name": "stdout",
          "output_type": "stream",
          "text": [
            "val Loss: 1.2883 Acc: 0.6505\n",
            "\n",
            "Epoch 3/140\n",
            "----------\n"
          ]
        },
        {
          "name": "stderr",
          "output_type": "stream",
          "text": [
            "train batches: 100%|██████████| 271/271 [00:15<00:00, 17.59it/s, loss=0.0180]\n"
          ]
        },
        {
          "name": "stdout",
          "output_type": "stream",
          "text": [
            "train Loss: 0.3293 Acc: 0.9187\n"
          ]
        },
        {
          "name": "stderr",
          "output_type": "stream",
          "text": [
            "val batches: 100%|██████████| 7/7 [00:01<00:00,  6.08it/s, loss=0.4038]\n"
          ]
        },
        {
          "name": "stdout",
          "output_type": "stream",
          "text": [
            "val Loss: 1.1479 Acc: 0.7282\n",
            "\n",
            "Epoch 4/140\n",
            "----------\n"
          ]
        },
        {
          "name": "stderr",
          "output_type": "stream",
          "text": [
            "train batches: 100%|██████████| 271/271 [00:15<00:00, 17.30it/s, loss=0.0061]\n"
          ]
        },
        {
          "name": "stdout",
          "output_type": "stream",
          "text": [
            "train Loss: 0.1077 Acc: 0.9861\n"
          ]
        },
        {
          "name": "stderr",
          "output_type": "stream",
          "text": [
            "val batches: 100%|██████████| 7/7 [00:01<00:00,  6.01it/s, loss=0.3962]\n"
          ]
        },
        {
          "name": "stdout",
          "output_type": "stream",
          "text": [
            "val Loss: 1.5940 Acc: 0.6796\n",
            "\n",
            "Epoch 5/140\n",
            "----------\n"
          ]
        },
        {
          "name": "stderr",
          "output_type": "stream",
          "text": [
            "train batches: 100%|██████████| 271/271 [00:15<00:00, 17.37it/s, loss=0.0484]\n"
          ]
        },
        {
          "name": "stdout",
          "output_type": "stream",
          "text": [
            "train Loss: 0.0496 Acc: 0.9935\n"
          ]
        },
        {
          "name": "stderr",
          "output_type": "stream",
          "text": [
            "val batches: 100%|██████████| 7/7 [00:00<00:00,  8.15it/s, loss=0.8642]\n"
          ]
        },
        {
          "name": "stdout",
          "output_type": "stream",
          "text": [
            "val Loss: 2.0005 Acc: 0.6214\n",
            "\n",
            "Epoch 6/140\n",
            "----------\n"
          ]
        },
        {
          "name": "stderr",
          "output_type": "stream",
          "text": [
            "train batches: 100%|██████████| 271/271 [00:15<00:00, 17.52it/s, loss=0.0225]\n"
          ]
        },
        {
          "name": "stdout",
          "output_type": "stream",
          "text": [
            "train Loss: 0.0222 Acc: 0.9982\n"
          ]
        },
        {
          "name": "stderr",
          "output_type": "stream",
          "text": [
            "val batches: 100%|██████████| 7/7 [00:00<00:00,  8.31it/s, loss=1.2385]\n"
          ]
        },
        {
          "name": "stdout",
          "output_type": "stream",
          "text": [
            "val Loss: 2.0604 Acc: 0.6408\n",
            "\n",
            "Epoch 7/140\n",
            "----------\n"
          ]
        },
        {
          "name": "stderr",
          "output_type": "stream",
          "text": [
            "train batches: 100%|██████████| 271/271 [00:15<00:00, 17.49it/s, loss=0.0017]\n"
          ]
        },
        {
          "name": "stdout",
          "output_type": "stream",
          "text": [
            "train Loss: 0.0168 Acc: 0.9991\n"
          ]
        },
        {
          "name": "stderr",
          "output_type": "stream",
          "text": [
            "val batches: 100%|██████████| 7/7 [00:00<00:00,  8.37it/s, loss=0.6298]\n"
          ]
        },
        {
          "name": "stdout",
          "output_type": "stream",
          "text": [
            "val Loss: 1.8145 Acc: 0.6311\n",
            "\n",
            "Epoch 8/140\n",
            "----------\n"
          ]
        },
        {
          "name": "stderr",
          "output_type": "stream",
          "text": [
            "train batches: 100%|██████████| 271/271 [00:15<00:00, 17.50it/s, loss=0.0151]\n"
          ]
        },
        {
          "name": "stdout",
          "output_type": "stream",
          "text": [
            "train Loss: 0.0098 Acc: 0.9991\n"
          ]
        },
        {
          "name": "stderr",
          "output_type": "stream",
          "text": [
            "val batches: 100%|██████████| 7/7 [00:00<00:00,  8.08it/s, loss=0.7876]\n"
          ]
        },
        {
          "name": "stdout",
          "output_type": "stream",
          "text": [
            "val Loss: 2.1900 Acc: 0.6602\n",
            "\n",
            "Epoch 9/140\n",
            "----------\n"
          ]
        },
        {
          "name": "stderr",
          "output_type": "stream",
          "text": [
            "train batches: 100%|██████████| 271/271 [00:15<00:00, 17.54it/s, loss=0.0046]\n"
          ]
        },
        {
          "name": "stdout",
          "output_type": "stream",
          "text": [
            "train Loss: 0.0174 Acc: 0.9963\n"
          ]
        },
        {
          "name": "stderr",
          "output_type": "stream",
          "text": [
            "val batches: 100%|██████████| 7/7 [00:01<00:00,  6.31it/s, loss=0.9830]\n"
          ]
        },
        {
          "name": "stdout",
          "output_type": "stream",
          "text": [
            "val Loss: 1.8616 Acc: 0.6699\n",
            "\n",
            "Epoch 10/140\n",
            "----------\n"
          ]
        },
        {
          "name": "stderr",
          "output_type": "stream",
          "text": [
            "train batches: 100%|██████████| 271/271 [00:15<00:00, 17.23it/s, loss=0.0011]\n"
          ]
        },
        {
          "name": "stdout",
          "output_type": "stream",
          "text": [
            "train Loss: 0.0055 Acc: 1.0000\n"
          ]
        },
        {
          "name": "stderr",
          "output_type": "stream",
          "text": [
            "val batches: 100%|██████████| 7/7 [00:01<00:00,  5.98it/s, loss=0.9186]\n"
          ]
        },
        {
          "name": "stdout",
          "output_type": "stream",
          "text": [
            "val Loss: 1.8931 Acc: 0.6602\n",
            "\n",
            "Early stopping triggered after 10 epochs\n",
            "Validation Accuracy: 0.73%\n",
            "\n",
            "--- Testing Configuration ---\n",
            "Learning Rate: 0.0001\n",
            "Batch Size: 16\n",
            "Dropout Rate: 0.4\n",
            "Number of Epochs: 140\n",
            "\n",
            "Epoch 1/140\n",
            "----------\n"
          ]
        },
        {
          "name": "stderr",
          "output_type": "stream",
          "text": [
            "train batches: 100%|██████████| 271/271 [00:15<00:00, 17.17it/s, loss=2.9440]\n"
          ]
        },
        {
          "name": "stdout",
          "output_type": "stream",
          "text": [
            "train Loss: 2.6352 Acc: 0.2079\n"
          ]
        },
        {
          "name": "stderr",
          "output_type": "stream",
          "text": [
            "val batches: 100%|██████████| 7/7 [00:00<00:00,  8.46it/s, loss=1.0094]\n"
          ]
        },
        {
          "name": "stdout",
          "output_type": "stream",
          "text": [
            "val Loss: 1.8225 Acc: 0.4175\n",
            "\n",
            "Epoch 2/140\n",
            "----------\n"
          ]
        },
        {
          "name": "stderr",
          "output_type": "stream",
          "text": [
            "train batches: 100%|██████████| 271/271 [00:15<00:00, 17.46it/s, loss=1.1180]\n"
          ]
        },
        {
          "name": "stdout",
          "output_type": "stream",
          "text": [
            "train Loss: 1.4225 Acc: 0.5693\n"
          ]
        },
        {
          "name": "stderr",
          "output_type": "stream",
          "text": [
            "val batches: 100%|██████████| 7/7 [00:00<00:00,  7.73it/s, loss=0.7068]\n"
          ]
        },
        {
          "name": "stdout",
          "output_type": "stream",
          "text": [
            "val Loss: 1.6310 Acc: 0.5631\n",
            "\n",
            "Epoch 3/140\n",
            "----------\n"
          ]
        },
        {
          "name": "stderr",
          "output_type": "stream",
          "text": [
            "train batches: 100%|██████████| 271/271 [00:15<00:00, 17.63it/s, loss=0.1525]\n"
          ]
        },
        {
          "name": "stdout",
          "output_type": "stream",
          "text": [
            "train Loss: 0.6550 Acc: 0.8170\n"
          ]
        },
        {
          "name": "stderr",
          "output_type": "stream",
          "text": [
            "val batches: 100%|██████████| 7/7 [00:00<00:00,  8.04it/s, loss=1.0676]\n"
          ]
        },
        {
          "name": "stdout",
          "output_type": "stream",
          "text": [
            "val Loss: 1.3812 Acc: 0.6602\n",
            "\n",
            "Epoch 4/140\n",
            "----------\n"
          ]
        },
        {
          "name": "stderr",
          "output_type": "stream",
          "text": [
            "train batches: 100%|██████████| 271/271 [00:15<00:00, 17.58it/s, loss=0.0937]\n"
          ]
        },
        {
          "name": "stdout",
          "output_type": "stream",
          "text": [
            "train Loss: 0.2599 Acc: 0.9353\n"
          ]
        },
        {
          "name": "stderr",
          "output_type": "stream",
          "text": [
            "val batches: 100%|██████████| 7/7 [00:01<00:00,  6.96it/s, loss=0.7887]\n"
          ]
        },
        {
          "name": "stdout",
          "output_type": "stream",
          "text": [
            "val Loss: 1.5641 Acc: 0.6311\n",
            "\n",
            "Epoch 5/140\n",
            "----------\n"
          ]
        },
        {
          "name": "stderr",
          "output_type": "stream",
          "text": [
            "train batches: 100%|██████████| 271/271 [00:15<00:00, 17.17it/s, loss=0.7421]\n"
          ]
        },
        {
          "name": "stdout",
          "output_type": "stream",
          "text": [
            "train Loss: 0.1217 Acc: 0.9741\n"
          ]
        },
        {
          "name": "stderr",
          "output_type": "stream",
          "text": [
            "val batches: 100%|██████████| 7/7 [00:01<00:00,  6.03it/s, loss=1.0254]\n"
          ]
        },
        {
          "name": "stdout",
          "output_type": "stream",
          "text": [
            "val Loss: 1.3740 Acc: 0.6505\n",
            "\n",
            "Epoch 6/140\n",
            "----------\n"
          ]
        },
        {
          "name": "stderr",
          "output_type": "stream",
          "text": [
            "train batches: 100%|██████████| 271/271 [00:15<00:00, 17.41it/s, loss=0.0563]\n"
          ]
        },
        {
          "name": "stdout",
          "output_type": "stream",
          "text": [
            "train Loss: 0.0714 Acc: 0.9871\n"
          ]
        },
        {
          "name": "stderr",
          "output_type": "stream",
          "text": [
            "val batches: 100%|██████████| 7/7 [00:00<00:00,  8.02it/s, loss=0.4158]\n"
          ]
        },
        {
          "name": "stdout",
          "output_type": "stream",
          "text": [
            "val Loss: 1.4951 Acc: 0.6699\n",
            "\n",
            "Epoch 7/140\n",
            "----------\n"
          ]
        },
        {
          "name": "stderr",
          "output_type": "stream",
          "text": [
            "train batches: 100%|██████████| 271/271 [00:15<00:00, 17.51it/s, loss=0.0107]\n"
          ]
        },
        {
          "name": "stdout",
          "output_type": "stream",
          "text": [
            "train Loss: 0.0803 Acc: 0.9787\n"
          ]
        },
        {
          "name": "stderr",
          "output_type": "stream",
          "text": [
            "val batches: 100%|██████████| 7/7 [00:00<00:00,  8.14it/s, loss=0.9798]\n"
          ]
        },
        {
          "name": "stdout",
          "output_type": "stream",
          "text": [
            "val Loss: 1.6544 Acc: 0.6796\n",
            "\n",
            "Epoch 8/140\n",
            "----------\n"
          ]
        },
        {
          "name": "stderr",
          "output_type": "stream",
          "text": [
            "train batches: 100%|██████████| 271/271 [00:15<00:00, 17.36it/s, loss=0.0164]\n"
          ]
        },
        {
          "name": "stdout",
          "output_type": "stream",
          "text": [
            "train Loss: 0.0368 Acc: 0.9945\n"
          ]
        },
        {
          "name": "stderr",
          "output_type": "stream",
          "text": [
            "val batches: 100%|██████████| 7/7 [00:00<00:00,  8.08it/s, loss=1.0892]\n"
          ]
        },
        {
          "name": "stdout",
          "output_type": "stream",
          "text": [
            "val Loss: 1.7042 Acc: 0.6408\n",
            "\n",
            "Epoch 9/140\n",
            "----------\n"
          ]
        },
        {
          "name": "stderr",
          "output_type": "stream",
          "text": [
            "train batches: 100%|██████████| 271/271 [00:15<00:00, 17.47it/s, loss=0.0040]\n"
          ]
        },
        {
          "name": "stdout",
          "output_type": "stream",
          "text": [
            "train Loss: 0.0206 Acc: 0.9982\n"
          ]
        },
        {
          "name": "stderr",
          "output_type": "stream",
          "text": [
            "val batches: 100%|██████████| 7/7 [00:00<00:00,  8.29it/s, loss=1.2452]\n"
          ]
        },
        {
          "name": "stdout",
          "output_type": "stream",
          "text": [
            "val Loss: 1.6352 Acc: 0.6311\n",
            "\n",
            "Epoch 10/140\n",
            "----------\n"
          ]
        },
        {
          "name": "stderr",
          "output_type": "stream",
          "text": [
            "train batches: 100%|██████████| 271/271 [00:15<00:00, 17.52it/s, loss=0.0164]\n"
          ]
        },
        {
          "name": "stdout",
          "output_type": "stream",
          "text": [
            "train Loss: 0.0158 Acc: 0.9972\n"
          ]
        },
        {
          "name": "stderr",
          "output_type": "stream",
          "text": [
            "val batches: 100%|██████████| 7/7 [00:01<00:00,  5.53it/s, loss=1.6874]\n"
          ]
        },
        {
          "name": "stdout",
          "output_type": "stream",
          "text": [
            "val Loss: 1.9446 Acc: 0.6117\n",
            "\n",
            "Epoch 11/140\n",
            "----------\n"
          ]
        },
        {
          "name": "stderr",
          "output_type": "stream",
          "text": [
            "train batches: 100%|██████████| 271/271 [00:15<00:00, 17.32it/s, loss=0.0001]\n"
          ]
        },
        {
          "name": "stdout",
          "output_type": "stream",
          "text": [
            "train Loss: 0.0078 Acc: 1.0000\n"
          ]
        },
        {
          "name": "stderr",
          "output_type": "stream",
          "text": [
            "val batches: 100%|██████████| 7/7 [00:01<00:00,  5.35it/s, loss=1.5869]\n"
          ]
        },
        {
          "name": "stdout",
          "output_type": "stream",
          "text": [
            "val Loss: 1.8337 Acc: 0.6505\n",
            "\n",
            "Epoch 12/140\n",
            "----------\n"
          ]
        },
        {
          "name": "stderr",
          "output_type": "stream",
          "text": [
            "train batches: 100%|██████████| 271/271 [00:15<00:00, 17.60it/s, loss=0.0016]\n"
          ]
        },
        {
          "name": "stdout",
          "output_type": "stream",
          "text": [
            "train Loss: 0.0075 Acc: 1.0000\n"
          ]
        },
        {
          "name": "stderr",
          "output_type": "stream",
          "text": [
            "val batches: 100%|██████████| 7/7 [00:00<00:00,  7.92it/s, loss=1.5879]\n"
          ]
        },
        {
          "name": "stdout",
          "output_type": "stream",
          "text": [
            "val Loss: 1.8283 Acc: 0.6408\n",
            "\n",
            "Epoch 13/140\n",
            "----------\n"
          ]
        },
        {
          "name": "stderr",
          "output_type": "stream",
          "text": [
            "train batches: 100%|██████████| 271/271 [00:15<00:00, 17.59it/s, loss=0.0013]\n"
          ]
        },
        {
          "name": "stdout",
          "output_type": "stream",
          "text": [
            "train Loss: 0.0087 Acc: 0.9991\n"
          ]
        },
        {
          "name": "stderr",
          "output_type": "stream",
          "text": [
            "val batches: 100%|██████████| 7/7 [00:00<00:00,  8.04it/s, loss=1.7816]\n"
          ]
        },
        {
          "name": "stdout",
          "output_type": "stream",
          "text": [
            "val Loss: 1.8184 Acc: 0.6408\n",
            "\n",
            "Epoch 14/140\n",
            "----------\n"
          ]
        },
        {
          "name": "stderr",
          "output_type": "stream",
          "text": [
            "train batches: 100%|██████████| 271/271 [00:15<00:00, 17.35it/s, loss=0.0013]\n"
          ]
        },
        {
          "name": "stdout",
          "output_type": "stream",
          "text": [
            "train Loss: 0.0050 Acc: 1.0000\n"
          ]
        },
        {
          "name": "stderr",
          "output_type": "stream",
          "text": [
            "val batches: 100%|██████████| 7/7 [00:00<00:00,  7.89it/s, loss=1.7783]\n"
          ]
        },
        {
          "name": "stdout",
          "output_type": "stream",
          "text": [
            "val Loss: 1.8449 Acc: 0.6505\n",
            "\n",
            "Early stopping triggered after 14 epochs\n",
            "Validation Accuracy: 0.68%\n",
            "\n",
            "--- Testing Configuration ---\n",
            "Learning Rate: 0.0001\n",
            "Batch Size: 32\n",
            "Dropout Rate: 0.3\n",
            "Number of Epochs: 140\n",
            "\n",
            "Epoch 1/140\n",
            "----------\n"
          ]
        },
        {
          "name": "stderr",
          "output_type": "stream",
          "text": [
            "train batches: 100%|██████████| 271/271 [00:15<00:00, 17.06it/s, loss=0.7552]\n"
          ]
        },
        {
          "name": "stdout",
          "output_type": "stream",
          "text": [
            "train Loss: 2.4536 Acc: 0.2819\n"
          ]
        },
        {
          "name": "stderr",
          "output_type": "stream",
          "text": [
            "val batches: 100%|██████████| 7/7 [00:01<00:00,  5.29it/s, loss=1.1312]\n"
          ]
        },
        {
          "name": "stdout",
          "output_type": "stream",
          "text": [
            "val Loss: 1.5568 Acc: 0.5146\n",
            "\n",
            "Epoch 2/140\n",
            "----------\n"
          ]
        },
        {
          "name": "stderr",
          "output_type": "stream",
          "text": [
            "train batches: 100%|██████████| 271/271 [00:15<00:00, 17.10it/s, loss=1.4072]\n"
          ]
        },
        {
          "name": "stdout",
          "output_type": "stream",
          "text": [
            "train Loss: 1.0177 Acc: 0.7006\n"
          ]
        },
        {
          "name": "stderr",
          "output_type": "stream",
          "text": [
            "val batches: 100%|██████████| 7/7 [00:00<00:00,  8.09it/s, loss=0.9561]\n"
          ]
        },
        {
          "name": "stdout",
          "output_type": "stream",
          "text": [
            "val Loss: 1.5571 Acc: 0.5728\n",
            "\n",
            "Epoch 3/140\n",
            "----------\n"
          ]
        },
        {
          "name": "stderr",
          "output_type": "stream",
          "text": [
            "train batches: 100%|██████████| 271/271 [00:15<00:00, 17.24it/s, loss=0.0773]\n"
          ]
        },
        {
          "name": "stdout",
          "output_type": "stream",
          "text": [
            "train Loss: 0.3537 Acc: 0.9067\n"
          ]
        },
        {
          "name": "stderr",
          "output_type": "stream",
          "text": [
            "val batches: 100%|██████████| 7/7 [00:00<00:00,  8.21it/s, loss=1.7278]\n"
          ]
        },
        {
          "name": "stdout",
          "output_type": "stream",
          "text": [
            "val Loss: 1.6611 Acc: 0.6699\n",
            "\n",
            "Epoch 4/140\n",
            "----------\n"
          ]
        },
        {
          "name": "stderr",
          "output_type": "stream",
          "text": [
            "train batches: 100%|██████████| 271/271 [00:15<00:00, 17.41it/s, loss=0.0186]\n"
          ]
        },
        {
          "name": "stdout",
          "output_type": "stream",
          "text": [
            "train Loss: 0.1288 Acc: 0.9778\n"
          ]
        },
        {
          "name": "stderr",
          "output_type": "stream",
          "text": [
            "val batches: 100%|██████████| 7/7 [00:00<00:00,  8.22it/s, loss=0.7261]\n"
          ]
        },
        {
          "name": "stdout",
          "output_type": "stream",
          "text": [
            "val Loss: 1.5727 Acc: 0.6408\n",
            "\n",
            "Epoch 5/140\n",
            "----------\n"
          ]
        },
        {
          "name": "stderr",
          "output_type": "stream",
          "text": [
            "train batches: 100%|██████████| 271/271 [00:15<00:00, 17.32it/s, loss=0.0035]\n"
          ]
        },
        {
          "name": "stdout",
          "output_type": "stream",
          "text": [
            "train Loss: 0.0601 Acc: 0.9889\n"
          ]
        },
        {
          "name": "stderr",
          "output_type": "stream",
          "text": [
            "val batches: 100%|██████████| 7/7 [00:00<00:00,  8.32it/s, loss=0.4829]\n"
          ]
        },
        {
          "name": "stdout",
          "output_type": "stream",
          "text": [
            "val Loss: 1.7476 Acc: 0.6214\n",
            "\n",
            "Epoch 6/140\n",
            "----------\n"
          ]
        },
        {
          "name": "stderr",
          "output_type": "stream",
          "text": [
            "train batches: 100%|██████████| 271/271 [00:15<00:00, 17.32it/s, loss=0.0517]\n"
          ]
        },
        {
          "name": "stdout",
          "output_type": "stream",
          "text": [
            "train Loss: 0.0307 Acc: 0.9963\n"
          ]
        },
        {
          "name": "stderr",
          "output_type": "stream",
          "text": [
            "val batches: 100%|██████████| 7/7 [00:00<00:00,  7.52it/s, loss=0.7194]\n"
          ]
        },
        {
          "name": "stdout",
          "output_type": "stream",
          "text": [
            "val Loss: 1.8571 Acc: 0.6602\n",
            "\n",
            "Epoch 7/140\n",
            "----------\n"
          ]
        },
        {
          "name": "stderr",
          "output_type": "stream",
          "text": [
            "train batches: 100%|██████████| 271/271 [00:15<00:00, 17.22it/s, loss=0.0019]\n"
          ]
        },
        {
          "name": "stdout",
          "output_type": "stream",
          "text": [
            "train Loss: 0.0181 Acc: 0.9991\n"
          ]
        },
        {
          "name": "stderr",
          "output_type": "stream",
          "text": [
            "val batches: 100%|██████████| 7/7 [00:01<00:00,  5.79it/s, loss=0.9247]\n"
          ]
        },
        {
          "name": "stdout",
          "output_type": "stream",
          "text": [
            "val Loss: 1.6656 Acc: 0.6893\n",
            "\n",
            "Epoch 8/140\n",
            "----------\n"
          ]
        },
        {
          "name": "stderr",
          "output_type": "stream",
          "text": [
            "train batches: 100%|██████████| 271/271 [00:15<00:00, 17.23it/s, loss=0.0023]\n"
          ]
        },
        {
          "name": "stdout",
          "output_type": "stream",
          "text": [
            "train Loss: 0.0121 Acc: 0.9991\n"
          ]
        },
        {
          "name": "stderr",
          "output_type": "stream",
          "text": [
            "val batches: 100%|██████████| 7/7 [00:00<00:00,  7.32it/s, loss=0.9315]\n"
          ]
        },
        {
          "name": "stdout",
          "output_type": "stream",
          "text": [
            "val Loss: 1.6941 Acc: 0.6990\n",
            "\n",
            "Epoch 9/140\n",
            "----------\n"
          ]
        },
        {
          "name": "stderr",
          "output_type": "stream",
          "text": [
            "train batches: 100%|██████████| 271/271 [00:15<00:00, 17.35it/s, loss=0.0128]\n"
          ]
        },
        {
          "name": "stdout",
          "output_type": "stream",
          "text": [
            "train Loss: 0.0105 Acc: 1.0000\n"
          ]
        },
        {
          "name": "stderr",
          "output_type": "stream",
          "text": [
            "val batches: 100%|██████████| 7/7 [00:00<00:00,  8.03it/s, loss=0.9485]\n"
          ]
        },
        {
          "name": "stdout",
          "output_type": "stream",
          "text": [
            "val Loss: 1.7633 Acc: 0.6893\n",
            "\n",
            "Epoch 10/140\n",
            "----------\n"
          ]
        },
        {
          "name": "stderr",
          "output_type": "stream",
          "text": [
            "train batches: 100%|██████████| 271/271 [00:15<00:00, 17.46it/s, loss=0.0003]\n"
          ]
        },
        {
          "name": "stdout",
          "output_type": "stream",
          "text": [
            "train Loss: 0.0115 Acc: 1.0000\n"
          ]
        },
        {
          "name": "stderr",
          "output_type": "stream",
          "text": [
            "val batches: 100%|██████████| 7/7 [00:00<00:00,  8.21it/s, loss=0.9184]\n"
          ]
        },
        {
          "name": "stdout",
          "output_type": "stream",
          "text": [
            "val Loss: 1.7607 Acc: 0.6893\n",
            "\n",
            "Epoch 11/140\n",
            "----------\n"
          ]
        },
        {
          "name": "stderr",
          "output_type": "stream",
          "text": [
            "train batches: 100%|██████████| 271/271 [00:15<00:00, 17.51it/s, loss=0.0016]\n"
          ]
        },
        {
          "name": "stdout",
          "output_type": "stream",
          "text": [
            "train Loss: 0.0085 Acc: 1.0000\n"
          ]
        },
        {
          "name": "stderr",
          "output_type": "stream",
          "text": [
            "val batches: 100%|██████████| 7/7 [00:00<00:00,  8.34it/s, loss=1.1144]\n"
          ]
        },
        {
          "name": "stdout",
          "output_type": "stream",
          "text": [
            "val Loss: 1.8115 Acc: 0.6699\n",
            "\n",
            "Epoch 12/140\n",
            "----------\n"
          ]
        },
        {
          "name": "stderr",
          "output_type": "stream",
          "text": [
            "train batches: 100%|██████████| 271/271 [00:15<00:00, 17.35it/s, loss=0.0280]\n"
          ]
        },
        {
          "name": "stdout",
          "output_type": "stream",
          "text": [
            "train Loss: 0.0087 Acc: 1.0000\n"
          ]
        },
        {
          "name": "stderr",
          "output_type": "stream",
          "text": [
            "val batches: 100%|██████████| 7/7 [00:01<00:00,  5.53it/s, loss=1.0887]\n"
          ]
        },
        {
          "name": "stdout",
          "output_type": "stream",
          "text": [
            "val Loss: 1.8099 Acc: 0.6602\n",
            "\n",
            "Epoch 13/140\n",
            "----------\n"
          ]
        },
        {
          "name": "stderr",
          "output_type": "stream",
          "text": [
            "train batches: 100%|██████████| 271/271 [00:15<00:00, 17.01it/s, loss=0.0308]\n"
          ]
        },
        {
          "name": "stdout",
          "output_type": "stream",
          "text": [
            "train Loss: 0.0093 Acc: 0.9991\n"
          ]
        },
        {
          "name": "stderr",
          "output_type": "stream",
          "text": [
            "val batches: 100%|██████████| 7/7 [00:01<00:00,  6.34it/s, loss=1.0747]\n"
          ]
        },
        {
          "name": "stdout",
          "output_type": "stream",
          "text": [
            "val Loss: 1.8078 Acc: 0.6602\n",
            "\n",
            "Epoch 14/140\n",
            "----------\n"
          ]
        },
        {
          "name": "stderr",
          "output_type": "stream",
          "text": [
            "train batches: 100%|██████████| 271/271 [00:15<00:00, 17.34it/s, loss=0.0013]\n"
          ]
        },
        {
          "name": "stdout",
          "output_type": "stream",
          "text": [
            "train Loss: 0.0082 Acc: 1.0000\n"
          ]
        },
        {
          "name": "stderr",
          "output_type": "stream",
          "text": [
            "val batches: 100%|██████████| 7/7 [00:00<00:00,  8.18it/s, loss=1.0564]\n"
          ]
        },
        {
          "name": "stdout",
          "output_type": "stream",
          "text": [
            "val Loss: 1.8119 Acc: 0.6505\n",
            "\n",
            "Epoch 15/140\n",
            "----------\n"
          ]
        },
        {
          "name": "stderr",
          "output_type": "stream",
          "text": [
            "train batches: 100%|██████████| 271/271 [00:15<00:00, 17.06it/s, loss=0.0027]\n"
          ]
        },
        {
          "name": "stdout",
          "output_type": "stream",
          "text": [
            "train Loss: 0.0071 Acc: 1.0000\n"
          ]
        },
        {
          "name": "stderr",
          "output_type": "stream",
          "text": [
            "val batches: 100%|██████████| 7/7 [00:00<00:00,  7.76it/s, loss=1.0330]\n"
          ]
        },
        {
          "name": "stdout",
          "output_type": "stream",
          "text": [
            "val Loss: 1.8070 Acc: 0.6505\n",
            "\n",
            "Early stopping triggered after 15 epochs\n",
            "Validation Accuracy: 0.70%\n",
            "\n",
            "--- Testing Configuration ---\n",
            "Learning Rate: 0.0001\n",
            "Batch Size: 32\n",
            "Dropout Rate: 0.4\n",
            "Number of Epochs: 140\n",
            "\n",
            "Epoch 1/140\n",
            "----------\n"
          ]
        },
        {
          "name": "stderr",
          "output_type": "stream",
          "text": [
            "train batches: 100%|██████████| 271/271 [00:15<00:00, 17.01it/s, loss=2.1072]\n"
          ]
        },
        {
          "name": "stdout",
          "output_type": "stream",
          "text": [
            "train Loss: 2.6072 Acc: 0.2153\n"
          ]
        },
        {
          "name": "stderr",
          "output_type": "stream",
          "text": [
            "val batches: 100%|██████████| 7/7 [00:00<00:00,  7.42it/s, loss=1.9949]\n"
          ]
        },
        {
          "name": "stdout",
          "output_type": "stream",
          "text": [
            "val Loss: 1.9758 Acc: 0.4078\n",
            "\n",
            "Epoch 2/140\n",
            "----------\n"
          ]
        },
        {
          "name": "stderr",
          "output_type": "stream",
          "text": [
            "train batches: 100%|██████████| 271/271 [00:16<00:00, 16.82it/s, loss=0.8046]\n"
          ]
        },
        {
          "name": "stdout",
          "output_type": "stream",
          "text": [
            "train Loss: 1.3802 Acc: 0.5980\n"
          ]
        },
        {
          "name": "stderr",
          "output_type": "stream",
          "text": [
            "val batches: 100%|██████████| 7/7 [00:01<00:00,  5.85it/s, loss=0.9318]\n"
          ]
        },
        {
          "name": "stdout",
          "output_type": "stream",
          "text": [
            "val Loss: 1.5788 Acc: 0.5437\n",
            "\n",
            "Epoch 3/140\n",
            "----------\n"
          ]
        },
        {
          "name": "stderr",
          "output_type": "stream",
          "text": [
            "train batches: 100%|██████████| 271/271 [00:15<00:00, 17.16it/s, loss=0.3950]\n"
          ]
        },
        {
          "name": "stdout",
          "output_type": "stream",
          "text": [
            "train Loss: 0.6178 Acc: 0.8346\n"
          ]
        },
        {
          "name": "stderr",
          "output_type": "stream",
          "text": [
            "val batches: 100%|██████████| 7/7 [00:00<00:00,  8.16it/s, loss=0.6206]\n"
          ]
        },
        {
          "name": "stdout",
          "output_type": "stream",
          "text": [
            "val Loss: 1.4691 Acc: 0.6214\n",
            "\n",
            "Epoch 4/140\n",
            "----------\n"
          ]
        },
        {
          "name": "stderr",
          "output_type": "stream",
          "text": [
            "train batches: 100%|██████████| 271/271 [00:15<00:00, 17.30it/s, loss=0.0216]\n"
          ]
        },
        {
          "name": "stdout",
          "output_type": "stream",
          "text": [
            "train Loss: 0.2837 Acc: 0.9316\n"
          ]
        },
        {
          "name": "stderr",
          "output_type": "stream",
          "text": [
            "val batches: 100%|██████████| 7/7 [00:00<00:00,  8.16it/s, loss=0.9226]\n"
          ]
        },
        {
          "name": "stdout",
          "output_type": "stream",
          "text": [
            "val Loss: 1.6231 Acc: 0.5825\n",
            "\n",
            "Epoch 5/140\n",
            "----------\n"
          ]
        },
        {
          "name": "stderr",
          "output_type": "stream",
          "text": [
            "train batches: 100%|██████████| 271/271 [00:15<00:00, 17.25it/s, loss=0.0280]\n"
          ]
        },
        {
          "name": "stdout",
          "output_type": "stream",
          "text": [
            "train Loss: 0.1335 Acc: 0.9695\n"
          ]
        },
        {
          "name": "stderr",
          "output_type": "stream",
          "text": [
            "val batches: 100%|██████████| 7/7 [00:00<00:00,  7.91it/s, loss=0.8069]\n"
          ]
        },
        {
          "name": "stdout",
          "output_type": "stream",
          "text": [
            "val Loss: 1.9352 Acc: 0.5922\n",
            "\n",
            "Epoch 6/140\n",
            "----------\n"
          ]
        },
        {
          "name": "stderr",
          "output_type": "stream",
          "text": [
            "train batches: 100%|██████████| 271/271 [00:15<00:00, 17.33it/s, loss=0.0255]\n"
          ]
        },
        {
          "name": "stdout",
          "output_type": "stream",
          "text": [
            "train Loss: 0.0796 Acc: 0.9889\n"
          ]
        },
        {
          "name": "stderr",
          "output_type": "stream",
          "text": [
            "val batches: 100%|██████████| 7/7 [00:00<00:00,  8.30it/s, loss=0.5059]\n"
          ]
        },
        {
          "name": "stdout",
          "output_type": "stream",
          "text": [
            "val Loss: 1.8687 Acc: 0.5922\n",
            "\n",
            "Epoch 7/140\n",
            "----------\n"
          ]
        },
        {
          "name": "stderr",
          "output_type": "stream",
          "text": [
            "train batches: 100%|██████████| 271/271 [00:15<00:00, 17.09it/s, loss=0.0227]\n"
          ]
        },
        {
          "name": "stdout",
          "output_type": "stream",
          "text": [
            "train Loss: 0.0502 Acc: 0.9898\n"
          ]
        },
        {
          "name": "stderr",
          "output_type": "stream",
          "text": [
            "val batches: 100%|██████████| 7/7 [00:01<00:00,  5.83it/s, loss=1.4999]\n"
          ]
        },
        {
          "name": "stdout",
          "output_type": "stream",
          "text": [
            "val Loss: 1.8013 Acc: 0.6408\n",
            "\n",
            "Epoch 8/140\n",
            "----------\n"
          ]
        },
        {
          "name": "stderr",
          "output_type": "stream",
          "text": [
            "train batches: 100%|██████████| 271/271 [00:15<00:00, 17.20it/s, loss=0.0007]\n"
          ]
        },
        {
          "name": "stdout",
          "output_type": "stream",
          "text": [
            "train Loss: 0.0322 Acc: 0.9954\n"
          ]
        },
        {
          "name": "stderr",
          "output_type": "stream",
          "text": [
            "val batches: 100%|██████████| 7/7 [00:00<00:00,  7.96it/s, loss=1.7651]\n"
          ]
        },
        {
          "name": "stdout",
          "output_type": "stream",
          "text": [
            "val Loss: 2.0965 Acc: 0.6019\n",
            "\n",
            "Epoch 9/140\n",
            "----------\n"
          ]
        },
        {
          "name": "stderr",
          "output_type": "stream",
          "text": [
            "train batches: 100%|██████████| 271/271 [00:15<00:00, 17.29it/s, loss=0.0006]\n"
          ]
        },
        {
          "name": "stdout",
          "output_type": "stream",
          "text": [
            "train Loss: 0.0211 Acc: 0.9982\n"
          ]
        },
        {
          "name": "stderr",
          "output_type": "stream",
          "text": [
            "val batches: 100%|██████████| 7/7 [00:00<00:00,  7.98it/s, loss=1.4898]\n"
          ]
        },
        {
          "name": "stdout",
          "output_type": "stream",
          "text": [
            "val Loss: 1.8501 Acc: 0.6408\n",
            "\n",
            "Epoch 10/140\n",
            "----------\n"
          ]
        },
        {
          "name": "stderr",
          "output_type": "stream",
          "text": [
            "train batches: 100%|██████████| 271/271 [00:15<00:00, 17.38it/s, loss=0.0323]\n"
          ]
        },
        {
          "name": "stdout",
          "output_type": "stream",
          "text": [
            "train Loss: 0.0133 Acc: 0.9982\n"
          ]
        },
        {
          "name": "stderr",
          "output_type": "stream",
          "text": [
            "val batches: 100%|██████████| 7/7 [00:00<00:00,  8.44it/s, loss=1.3777]\n"
          ]
        },
        {
          "name": "stdout",
          "output_type": "stream",
          "text": [
            "val Loss: 1.7905 Acc: 0.6505\n",
            "\n",
            "Epoch 11/140\n",
            "----------\n"
          ]
        },
        {
          "name": "stderr",
          "output_type": "stream",
          "text": [
            "train batches: 100%|██████████| 271/271 [00:15<00:00, 17.40it/s, loss=0.0001]\n"
          ]
        },
        {
          "name": "stdout",
          "output_type": "stream",
          "text": [
            "train Loss: 0.0155 Acc: 0.9991\n"
          ]
        },
        {
          "name": "stderr",
          "output_type": "stream",
          "text": [
            "val batches: 100%|██████████| 7/7 [00:00<00:00,  8.21it/s, loss=1.3043]\n"
          ]
        },
        {
          "name": "stdout",
          "output_type": "stream",
          "text": [
            "val Loss: 1.7452 Acc: 0.6699\n",
            "\n",
            "Epoch 12/140\n",
            "----------\n"
          ]
        },
        {
          "name": "stderr",
          "output_type": "stream",
          "text": [
            "train batches: 100%|██████████| 271/271 [00:15<00:00, 17.31it/s, loss=0.0194]\n"
          ]
        },
        {
          "name": "stdout",
          "output_type": "stream",
          "text": [
            "train Loss: 0.0129 Acc: 0.9982\n"
          ]
        },
        {
          "name": "stderr",
          "output_type": "stream",
          "text": [
            "val batches: 100%|██████████| 7/7 [00:01<00:00,  6.86it/s, loss=1.3361]\n"
          ]
        },
        {
          "name": "stdout",
          "output_type": "stream",
          "text": [
            "val Loss: 1.7377 Acc: 0.6699\n",
            "\n",
            "Epoch 13/140\n",
            "----------\n"
          ]
        },
        {
          "name": "stderr",
          "output_type": "stream",
          "text": [
            "train batches: 100%|██████████| 271/271 [00:15<00:00, 17.23it/s, loss=0.0082]\n"
          ]
        },
        {
          "name": "stdout",
          "output_type": "stream",
          "text": [
            "train Loss: 0.0097 Acc: 1.0000\n"
          ]
        },
        {
          "name": "stderr",
          "output_type": "stream",
          "text": [
            "val batches: 100%|██████████| 7/7 [00:01<00:00,  5.98it/s, loss=1.2706]\n"
          ]
        },
        {
          "name": "stdout",
          "output_type": "stream",
          "text": [
            "val Loss: 1.7001 Acc: 0.6602\n",
            "\n",
            "Epoch 14/140\n",
            "----------\n"
          ]
        },
        {
          "name": "stderr",
          "output_type": "stream",
          "text": [
            "train batches: 100%|██████████| 271/271 [00:15<00:00, 17.10it/s, loss=0.0093]\n"
          ]
        },
        {
          "name": "stdout",
          "output_type": "stream",
          "text": [
            "train Loss: 0.0088 Acc: 1.0000\n"
          ]
        },
        {
          "name": "stderr",
          "output_type": "stream",
          "text": [
            "val batches: 100%|██████████| 7/7 [00:00<00:00,  8.02it/s, loss=1.2743]\n"
          ]
        },
        {
          "name": "stdout",
          "output_type": "stream",
          "text": [
            "val Loss: 1.7008 Acc: 0.6602\n",
            "\n",
            "Epoch 15/140\n",
            "----------\n"
          ]
        },
        {
          "name": "stderr",
          "output_type": "stream",
          "text": [
            "train batches: 100%|██████████| 271/271 [00:15<00:00, 17.41it/s, loss=0.0067]\n"
          ]
        },
        {
          "name": "stdout",
          "output_type": "stream",
          "text": [
            "train Loss: 0.0078 Acc: 1.0000\n"
          ]
        },
        {
          "name": "stderr",
          "output_type": "stream",
          "text": [
            "val batches: 100%|██████████| 7/7 [00:00<00:00,  8.03it/s, loss=1.2833]\n"
          ]
        },
        {
          "name": "stdout",
          "output_type": "stream",
          "text": [
            "val Loss: 1.6954 Acc: 0.6602\n",
            "\n",
            "Epoch 16/140\n",
            "----------\n"
          ]
        },
        {
          "name": "stderr",
          "output_type": "stream",
          "text": [
            "train batches: 100%|██████████| 271/271 [00:15<00:00, 17.38it/s, loss=0.0003]\n"
          ]
        },
        {
          "name": "stdout",
          "output_type": "stream",
          "text": [
            "train Loss: 0.0090 Acc: 1.0000\n"
          ]
        },
        {
          "name": "stderr",
          "output_type": "stream",
          "text": [
            "val batches: 100%|██████████| 7/7 [00:00<00:00,  7.69it/s, loss=1.2708]\n"
          ]
        },
        {
          "name": "stdout",
          "output_type": "stream",
          "text": [
            "val Loss: 1.6968 Acc: 0.6699\n",
            "\n",
            "Epoch 17/140\n",
            "----------\n"
          ]
        },
        {
          "name": "stderr",
          "output_type": "stream",
          "text": [
            "train batches: 100%|██████████| 271/271 [00:15<00:00, 17.25it/s, loss=0.0002]\n"
          ]
        },
        {
          "name": "stdout",
          "output_type": "stream",
          "text": [
            "train Loss: 0.0075 Acc: 1.0000\n"
          ]
        },
        {
          "name": "stderr",
          "output_type": "stream",
          "text": [
            "val batches: 100%|██████████| 7/7 [00:00<00:00,  7.83it/s, loss=1.2620]\n"
          ]
        },
        {
          "name": "stdout",
          "output_type": "stream",
          "text": [
            "val Loss: 1.6984 Acc: 0.6699\n",
            "\n",
            "Epoch 18/140\n",
            "----------\n"
          ]
        },
        {
          "name": "stderr",
          "output_type": "stream",
          "text": [
            "train batches: 100%|██████████| 271/271 [00:15<00:00, 17.39it/s, loss=0.0033]\n"
          ]
        },
        {
          "name": "stdout",
          "output_type": "stream",
          "text": [
            "train Loss: 0.0075 Acc: 1.0000\n"
          ]
        },
        {
          "name": "stderr",
          "output_type": "stream",
          "text": [
            "val batches: 100%|██████████| 7/7 [00:01<00:00,  6.25it/s, loss=1.2792]\n"
          ]
        },
        {
          "name": "stdout",
          "output_type": "stream",
          "text": [
            "val Loss: 1.6929 Acc: 0.6602\n",
            "\n",
            "Early stopping triggered after 18 epochs\n",
            "Validation Accuracy: 0.67%\n",
            "\n",
            "--- Testing Configuration ---\n",
            "Learning Rate: 5e-05\n",
            "Batch Size: 16\n",
            "Dropout Rate: 0.3\n",
            "Number of Epochs: 140\n",
            "\n",
            "Epoch 1/140\n",
            "----------\n"
          ]
        },
        {
          "name": "stderr",
          "output_type": "stream",
          "text": [
            "train batches: 100%|██████████| 271/271 [00:15<00:00, 17.10it/s, loss=2.0553]\n"
          ]
        },
        {
          "name": "stdout",
          "output_type": "stream",
          "text": [
            "train Loss: 2.5800 Acc: 0.2357\n"
          ]
        },
        {
          "name": "stderr",
          "output_type": "stream",
          "text": [
            "val batches: 100%|██████████| 7/7 [00:00<00:00,  8.22it/s, loss=0.8660]\n"
          ]
        },
        {
          "name": "stdout",
          "output_type": "stream",
          "text": [
            "val Loss: 1.5107 Acc: 0.5146\n",
            "\n",
            "Epoch 2/140\n",
            "----------\n"
          ]
        },
        {
          "name": "stderr",
          "output_type": "stream",
          "text": [
            "train batches: 100%|██████████| 271/271 [00:15<00:00, 17.24it/s, loss=1.0357]\n"
          ]
        },
        {
          "name": "stdout",
          "output_type": "stream",
          "text": [
            "train Loss: 1.3044 Acc: 0.6414\n"
          ]
        },
        {
          "name": "stderr",
          "output_type": "stream",
          "text": [
            "val batches: 100%|██████████| 7/7 [00:00<00:00,  7.71it/s, loss=0.3104]\n"
          ]
        },
        {
          "name": "stdout",
          "output_type": "stream",
          "text": [
            "val Loss: 1.2763 Acc: 0.6117\n",
            "\n",
            "Epoch 3/140\n",
            "----------\n"
          ]
        },
        {
          "name": "stderr",
          "output_type": "stream",
          "text": [
            "train batches: 100%|██████████| 271/271 [00:15<00:00, 17.28it/s, loss=0.5011]\n"
          ]
        },
        {
          "name": "stdout",
          "output_type": "stream",
          "text": [
            "train Loss: 0.5429 Acc: 0.8789\n"
          ]
        },
        {
          "name": "stderr",
          "output_type": "stream",
          "text": [
            "val batches: 100%|██████████| 7/7 [00:00<00:00,  8.20it/s, loss=0.5454]\n"
          ]
        },
        {
          "name": "stdout",
          "output_type": "stream",
          "text": [
            "val Loss: 1.3787 Acc: 0.6311\n",
            "\n",
            "Epoch 4/140\n",
            "----------\n"
          ]
        },
        {
          "name": "stderr",
          "output_type": "stream",
          "text": [
            "train batches: 100%|██████████| 271/271 [00:15<00:00, 17.21it/s, loss=0.1113]\n"
          ]
        },
        {
          "name": "stdout",
          "output_type": "stream",
          "text": [
            "train Loss: 0.2012 Acc: 0.9704\n"
          ]
        },
        {
          "name": "stderr",
          "output_type": "stream",
          "text": [
            "val batches: 100%|██████████| 7/7 [00:00<00:00,  7.81it/s, loss=1.0313]\n"
          ]
        },
        {
          "name": "stdout",
          "output_type": "stream",
          "text": [
            "val Loss: 1.3436 Acc: 0.6602\n",
            "\n",
            "Epoch 5/140\n",
            "----------\n"
          ]
        },
        {
          "name": "stderr",
          "output_type": "stream",
          "text": [
            "train batches: 100%|██████████| 271/271 [00:15<00:00, 17.20it/s, loss=0.0200]\n"
          ]
        },
        {
          "name": "stdout",
          "output_type": "stream",
          "text": [
            "train Loss: 0.1037 Acc: 0.9852\n"
          ]
        },
        {
          "name": "stderr",
          "output_type": "stream",
          "text": [
            "val batches: 100%|██████████| 7/7 [00:01<00:00,  5.68it/s, loss=0.9625]\n"
          ]
        },
        {
          "name": "stdout",
          "output_type": "stream",
          "text": [
            "val Loss: 1.2352 Acc: 0.6505\n",
            "\n",
            "Epoch 6/140\n",
            "----------\n"
          ]
        },
        {
          "name": "stderr",
          "output_type": "stream",
          "text": [
            "train batches: 100%|██████████| 271/271 [00:15<00:00, 17.01it/s, loss=0.0500]\n"
          ]
        },
        {
          "name": "stdout",
          "output_type": "stream",
          "text": [
            "train Loss: 0.0594 Acc: 0.9972\n"
          ]
        },
        {
          "name": "stderr",
          "output_type": "stream",
          "text": [
            "val batches: 100%|██████████| 7/7 [00:00<00:00,  8.03it/s, loss=1.1672]\n"
          ]
        },
        {
          "name": "stdout",
          "output_type": "stream",
          "text": [
            "val Loss: 1.3557 Acc: 0.6602\n",
            "\n",
            "Epoch 7/140\n",
            "----------\n"
          ]
        },
        {
          "name": "stderr",
          "output_type": "stream",
          "text": [
            "train batches: 100%|██████████| 271/271 [00:15<00:00, 17.43it/s, loss=0.0012]\n"
          ]
        },
        {
          "name": "stdout",
          "output_type": "stream",
          "text": [
            "train Loss: 0.0330 Acc: 0.9982\n"
          ]
        },
        {
          "name": "stderr",
          "output_type": "stream",
          "text": [
            "val batches: 100%|██████████| 7/7 [00:00<00:00,  8.08it/s, loss=0.9075]\n"
          ]
        },
        {
          "name": "stdout",
          "output_type": "stream",
          "text": [
            "val Loss: 1.5580 Acc: 0.6602\n",
            "\n",
            "Epoch 8/140\n",
            "----------\n"
          ]
        },
        {
          "name": "stderr",
          "output_type": "stream",
          "text": [
            "train batches: 100%|██████████| 271/271 [00:15<00:00, 17.22it/s, loss=0.0314]\n"
          ]
        },
        {
          "name": "stdout",
          "output_type": "stream",
          "text": [
            "train Loss: 0.0172 Acc: 1.0000\n"
          ]
        },
        {
          "name": "stderr",
          "output_type": "stream",
          "text": [
            "val batches: 100%|██████████| 7/7 [00:00<00:00,  8.13it/s, loss=0.5033]\n"
          ]
        },
        {
          "name": "stdout",
          "output_type": "stream",
          "text": [
            "val Loss: 1.3676 Acc: 0.6602\n",
            "\n",
            "Epoch 9/140\n",
            "----------\n"
          ]
        },
        {
          "name": "stderr",
          "output_type": "stream",
          "text": [
            "train batches: 100%|██████████| 271/271 [00:15<00:00, 17.21it/s, loss=0.0013]\n"
          ]
        },
        {
          "name": "stdout",
          "output_type": "stream",
          "text": [
            "train Loss: 0.0124 Acc: 1.0000\n"
          ]
        },
        {
          "name": "stderr",
          "output_type": "stream",
          "text": [
            "val batches: 100%|██████████| 7/7 [00:00<00:00,  8.00it/s, loss=0.9259]\n"
          ]
        },
        {
          "name": "stdout",
          "output_type": "stream",
          "text": [
            "val Loss: 1.4395 Acc: 0.6796\n",
            "\n",
            "Epoch 10/140\n",
            "----------\n"
          ]
        },
        {
          "name": "stderr",
          "output_type": "stream",
          "text": [
            "train batches: 100%|██████████| 271/271 [00:15<00:00, 17.23it/s, loss=0.0057]\n"
          ]
        },
        {
          "name": "stdout",
          "output_type": "stream",
          "text": [
            "train Loss: 0.0093 Acc: 1.0000\n"
          ]
        },
        {
          "name": "stderr",
          "output_type": "stream",
          "text": [
            "val batches: 100%|██████████| 7/7 [00:01<00:00,  6.47it/s, loss=0.8861]\n"
          ]
        },
        {
          "name": "stdout",
          "output_type": "stream",
          "text": [
            "val Loss: 1.4744 Acc: 0.6796\n",
            "\n",
            "Epoch 11/140\n",
            "----------\n"
          ]
        },
        {
          "name": "stderr",
          "output_type": "stream",
          "text": [
            "train batches: 100%|██████████| 271/271 [00:15<00:00, 17.08it/s, loss=0.0465]\n"
          ]
        },
        {
          "name": "stdout",
          "output_type": "stream",
          "text": [
            "train Loss: 0.0067 Acc: 1.0000\n"
          ]
        },
        {
          "name": "stderr",
          "output_type": "stream",
          "text": [
            "val batches: 100%|██████████| 7/7 [00:01<00:00,  5.84it/s, loss=0.8316]\n"
          ]
        },
        {
          "name": "stdout",
          "output_type": "stream",
          "text": [
            "val Loss: 1.4461 Acc: 0.6699\n",
            "\n",
            "Epoch 12/140\n",
            "----------\n"
          ]
        },
        {
          "name": "stderr",
          "output_type": "stream",
          "text": [
            "train batches: 100%|██████████| 271/271 [00:15<00:00, 17.10it/s, loss=0.0160]\n"
          ]
        },
        {
          "name": "stdout",
          "output_type": "stream",
          "text": [
            "train Loss: 0.0072 Acc: 1.0000\n"
          ]
        },
        {
          "name": "stderr",
          "output_type": "stream",
          "text": [
            "val batches: 100%|██████████| 7/7 [00:00<00:00,  8.03it/s, loss=0.8318]\n"
          ]
        },
        {
          "name": "stdout",
          "output_type": "stream",
          "text": [
            "val Loss: 1.4789 Acc: 0.6699\n",
            "\n",
            "Epoch 13/140\n",
            "----------\n"
          ]
        },
        {
          "name": "stderr",
          "output_type": "stream",
          "text": [
            "train batches: 100%|██████████| 271/271 [00:15<00:00, 17.17it/s, loss=0.0405]\n"
          ]
        },
        {
          "name": "stdout",
          "output_type": "stream",
          "text": [
            "train Loss: 0.0062 Acc: 1.0000\n"
          ]
        },
        {
          "name": "stderr",
          "output_type": "stream",
          "text": [
            "val batches: 100%|██████████| 7/7 [00:00<00:00,  8.21it/s, loss=0.8273]\n"
          ]
        },
        {
          "name": "stdout",
          "output_type": "stream",
          "text": [
            "val Loss: 1.4586 Acc: 0.6699\n",
            "\n",
            "Epoch 14/140\n",
            "----------\n"
          ]
        },
        {
          "name": "stderr",
          "output_type": "stream",
          "text": [
            "train batches: 100%|██████████| 271/271 [00:15<00:00, 17.21it/s, loss=0.0009]\n"
          ]
        },
        {
          "name": "stdout",
          "output_type": "stream",
          "text": [
            "train Loss: 0.0073 Acc: 1.0000\n"
          ]
        },
        {
          "name": "stderr",
          "output_type": "stream",
          "text": [
            "val batches: 100%|██████████| 7/7 [00:00<00:00,  8.21it/s, loss=0.8437]\n"
          ]
        },
        {
          "name": "stdout",
          "output_type": "stream",
          "text": [
            "val Loss: 1.4383 Acc: 0.6602\n",
            "\n",
            "Epoch 15/140\n",
            "----------\n"
          ]
        },
        {
          "name": "stderr",
          "output_type": "stream",
          "text": [
            "train batches: 100%|██████████| 271/271 [00:15<00:00, 17.23it/s, loss=0.0056]\n"
          ]
        },
        {
          "name": "stdout",
          "output_type": "stream",
          "text": [
            "train Loss: 0.0060 Acc: 1.0000\n"
          ]
        },
        {
          "name": "stderr",
          "output_type": "stream",
          "text": [
            "val batches: 100%|██████████| 7/7 [00:00<00:00,  7.88it/s, loss=0.8864]\n"
          ]
        },
        {
          "name": "stdout",
          "output_type": "stream",
          "text": [
            "val Loss: 1.4510 Acc: 0.6796\n",
            "\n",
            "Epoch 16/140\n",
            "----------\n"
          ]
        },
        {
          "name": "stderr",
          "output_type": "stream",
          "text": [
            "train batches: 100%|██████████| 271/271 [00:15<00:00, 17.11it/s, loss=0.0014]\n"
          ]
        },
        {
          "name": "stdout",
          "output_type": "stream",
          "text": [
            "train Loss: 0.0047 Acc: 1.0000\n"
          ]
        },
        {
          "name": "stderr",
          "output_type": "stream",
          "text": [
            "val batches: 100%|██████████| 7/7 [00:01<00:00,  5.76it/s, loss=0.8798]\n"
          ]
        },
        {
          "name": "stdout",
          "output_type": "stream",
          "text": [
            "val Loss: 1.4472 Acc: 0.6796\n",
            "\n",
            "Early stopping triggered after 16 epochs\n",
            "Validation Accuracy: 0.68%\n",
            "\n",
            "--- Testing Configuration ---\n",
            "Learning Rate: 5e-05\n",
            "Batch Size: 16\n",
            "Dropout Rate: 0.4\n",
            "Number of Epochs: 140\n",
            "\n",
            "Epoch 1/140\n",
            "----------\n"
          ]
        },
        {
          "name": "stderr",
          "output_type": "stream",
          "text": [
            "train batches: 100%|██████████| 271/271 [00:15<00:00, 17.09it/s, loss=2.1566]\n"
          ]
        },
        {
          "name": "stdout",
          "output_type": "stream",
          "text": [
            "train Loss: 2.7030 Acc: 0.1987\n"
          ]
        },
        {
          "name": "stderr",
          "output_type": "stream",
          "text": [
            "val batches: 100%|██████████| 7/7 [00:00<00:00,  8.05it/s, loss=1.5245]\n"
          ]
        },
        {
          "name": "stdout",
          "output_type": "stream",
          "text": [
            "val Loss: 1.9041 Acc: 0.4660\n",
            "\n",
            "Epoch 2/140\n",
            "----------\n"
          ]
        },
        {
          "name": "stderr",
          "output_type": "stream",
          "text": [
            "train batches: 100%|██████████| 271/271 [00:15<00:00, 17.16it/s, loss=1.3637]\n"
          ]
        },
        {
          "name": "stdout",
          "output_type": "stream",
          "text": [
            "train Loss: 1.6085 Acc: 0.5555\n"
          ]
        },
        {
          "name": "stderr",
          "output_type": "stream",
          "text": [
            "val batches: 100%|██████████| 7/7 [00:00<00:00,  8.15it/s, loss=0.4036]\n"
          ]
        },
        {
          "name": "stdout",
          "output_type": "stream",
          "text": [
            "val Loss: 1.4489 Acc: 0.6311\n",
            "\n",
            "Epoch 3/140\n",
            "----------\n"
          ]
        },
        {
          "name": "stderr",
          "output_type": "stream",
          "text": [
            "train batches: 100%|██████████| 271/271 [00:15<00:00, 17.20it/s, loss=0.5209]\n"
          ]
        },
        {
          "name": "stdout",
          "output_type": "stream",
          "text": [
            "train Loss: 0.8182 Acc: 0.7865\n"
          ]
        },
        {
          "name": "stderr",
          "output_type": "stream",
          "text": [
            "val batches: 100%|██████████| 7/7 [00:00<00:00,  7.58it/s, loss=1.4165]\n"
          ]
        },
        {
          "name": "stdout",
          "output_type": "stream",
          "text": [
            "val Loss: 1.4698 Acc: 0.6214\n",
            "\n",
            "Epoch 4/140\n",
            "----------\n"
          ]
        },
        {
          "name": "stderr",
          "output_type": "stream",
          "text": [
            "train batches: 100%|██████████| 271/271 [00:15<00:00, 17.24it/s, loss=0.5988]\n"
          ]
        },
        {
          "name": "stdout",
          "output_type": "stream",
          "text": [
            "train Loss: 0.4101 Acc: 0.9048\n"
          ]
        },
        {
          "name": "stderr",
          "output_type": "stream",
          "text": [
            "val batches: 100%|██████████| 7/7 [00:00<00:00,  7.02it/s, loss=0.5515]\n"
          ]
        },
        {
          "name": "stdout",
          "output_type": "stream",
          "text": [
            "val Loss: 1.1964 Acc: 0.6505\n",
            "\n",
            "Epoch 5/140\n",
            "----------\n"
          ]
        },
        {
          "name": "stderr",
          "output_type": "stream",
          "text": [
            "train batches: 100%|██████████| 271/271 [00:15<00:00, 17.10it/s, loss=0.2395]\n"
          ]
        },
        {
          "name": "stdout",
          "output_type": "stream",
          "text": [
            "train Loss: 0.1930 Acc: 0.9732\n"
          ]
        },
        {
          "name": "stderr",
          "output_type": "stream",
          "text": [
            "val batches: 100%|██████████| 7/7 [00:01<00:00,  6.10it/s, loss=0.7167]\n"
          ]
        },
        {
          "name": "stdout",
          "output_type": "stream",
          "text": [
            "val Loss: 1.3763 Acc: 0.6408\n",
            "\n",
            "Epoch 6/140\n",
            "----------\n"
          ]
        },
        {
          "name": "stderr",
          "output_type": "stream",
          "text": [
            "train batches: 100%|██████████| 271/271 [00:15<00:00, 17.05it/s, loss=0.2206]\n"
          ]
        },
        {
          "name": "stdout",
          "output_type": "stream",
          "text": [
            "train Loss: 0.1139 Acc: 0.9861\n"
          ]
        },
        {
          "name": "stderr",
          "output_type": "stream",
          "text": [
            "val batches: 100%|██████████| 7/7 [00:00<00:00,  8.04it/s, loss=1.0868]\n"
          ]
        },
        {
          "name": "stdout",
          "output_type": "stream",
          "text": [
            "val Loss: 1.6252 Acc: 0.6602\n",
            "\n",
            "Epoch 7/140\n",
            "----------\n"
          ]
        },
        {
          "name": "stderr",
          "output_type": "stream",
          "text": [
            "train batches: 100%|██████████| 271/271 [00:15<00:00, 17.22it/s, loss=0.0150]\n"
          ]
        },
        {
          "name": "stdout",
          "output_type": "stream",
          "text": [
            "train Loss: 0.0754 Acc: 0.9926\n"
          ]
        },
        {
          "name": "stderr",
          "output_type": "stream",
          "text": [
            "val batches: 100%|██████████| 7/7 [00:00<00:00,  8.17it/s, loss=1.3452]\n"
          ]
        },
        {
          "name": "stdout",
          "output_type": "stream",
          "text": [
            "val Loss: 1.5583 Acc: 0.6408\n",
            "\n",
            "Epoch 8/140\n",
            "----------\n"
          ]
        },
        {
          "name": "stderr",
          "output_type": "stream",
          "text": [
            "train batches: 100%|██████████| 271/271 [00:15<00:00, 17.23it/s, loss=0.0246]\n"
          ]
        },
        {
          "name": "stdout",
          "output_type": "stream",
          "text": [
            "train Loss: 0.0498 Acc: 0.9935\n"
          ]
        },
        {
          "name": "stderr",
          "output_type": "stream",
          "text": [
            "val batches: 100%|██████████| 7/7 [00:00<00:00,  8.08it/s, loss=1.4486]\n"
          ]
        },
        {
          "name": "stdout",
          "output_type": "stream",
          "text": [
            "val Loss: 1.6647 Acc: 0.6311\n",
            "\n",
            "Epoch 9/140\n",
            "----------\n"
          ]
        },
        {
          "name": "stderr",
          "output_type": "stream",
          "text": [
            "train batches: 100%|██████████| 271/271 [00:15<00:00, 17.34it/s, loss=0.0175]\n"
          ]
        },
        {
          "name": "stdout",
          "output_type": "stream",
          "text": [
            "train Loss: 0.0282 Acc: 1.0000\n"
          ]
        },
        {
          "name": "stderr",
          "output_type": "stream",
          "text": [
            "val batches: 100%|██████████| 7/7 [00:00<00:00,  8.02it/s, loss=1.2909]\n"
          ]
        },
        {
          "name": "stdout",
          "output_type": "stream",
          "text": [
            "val Loss: 1.5829 Acc: 0.6796\n",
            "\n",
            "Epoch 10/140\n",
            "----------\n"
          ]
        },
        {
          "name": "stderr",
          "output_type": "stream",
          "text": [
            "train batches: 100%|██████████| 271/271 [00:15<00:00, 17.08it/s, loss=0.0006]\n"
          ]
        },
        {
          "name": "stdout",
          "output_type": "stream",
          "text": [
            "train Loss: 0.0231 Acc: 0.9972\n"
          ]
        },
        {
          "name": "stderr",
          "output_type": "stream",
          "text": [
            "val batches: 100%|██████████| 7/7 [00:01<00:00,  5.32it/s, loss=1.0945]\n"
          ]
        },
        {
          "name": "stdout",
          "output_type": "stream",
          "text": [
            "val Loss: 1.5708 Acc: 0.6796\n",
            "\n",
            "Epoch 11/140\n",
            "----------\n"
          ]
        },
        {
          "name": "stderr",
          "output_type": "stream",
          "text": [
            "train batches: 100%|██████████| 271/271 [00:15<00:00, 17.04it/s, loss=0.0098]\n"
          ]
        },
        {
          "name": "stdout",
          "output_type": "stream",
          "text": [
            "train Loss: 0.0168 Acc: 1.0000\n"
          ]
        },
        {
          "name": "stderr",
          "output_type": "stream",
          "text": [
            "val batches: 100%|██████████| 7/7 [00:00<00:00,  7.84it/s, loss=1.0276]\n"
          ]
        },
        {
          "name": "stdout",
          "output_type": "stream",
          "text": [
            "val Loss: 1.5983 Acc: 0.6699\n",
            "\n",
            "Epoch 12/140\n",
            "----------\n"
          ]
        },
        {
          "name": "stderr",
          "output_type": "stream",
          "text": [
            "train batches: 100%|██████████| 271/271 [00:15<00:00, 17.18it/s, loss=0.0011]\n"
          ]
        },
        {
          "name": "stdout",
          "output_type": "stream",
          "text": [
            "train Loss: 0.0182 Acc: 1.0000\n"
          ]
        },
        {
          "name": "stderr",
          "output_type": "stream",
          "text": [
            "val batches: 100%|██████████| 7/7 [00:00<00:00,  7.93it/s, loss=1.0800]\n"
          ]
        },
        {
          "name": "stdout",
          "output_type": "stream",
          "text": [
            "val Loss: 1.5718 Acc: 0.6796\n",
            "\n",
            "Epoch 13/140\n",
            "----------\n"
          ]
        },
        {
          "name": "stderr",
          "output_type": "stream",
          "text": [
            "train batches: 100%|██████████| 271/271 [00:15<00:00, 17.12it/s, loss=0.0012]\n"
          ]
        },
        {
          "name": "stdout",
          "output_type": "stream",
          "text": [
            "train Loss: 0.0173 Acc: 0.9991\n"
          ]
        },
        {
          "name": "stderr",
          "output_type": "stream",
          "text": [
            "val batches: 100%|██████████| 7/7 [00:00<00:00,  7.89it/s, loss=1.0425]\n"
          ]
        },
        {
          "name": "stdout",
          "output_type": "stream",
          "text": [
            "val Loss: 1.5329 Acc: 0.6796\n",
            "\n",
            "Epoch 14/140\n",
            "----------\n"
          ]
        },
        {
          "name": "stderr",
          "output_type": "stream",
          "text": [
            "train batches: 100%|██████████| 271/271 [00:15<00:00, 17.10it/s, loss=0.0091]\n"
          ]
        },
        {
          "name": "stdout",
          "output_type": "stream",
          "text": [
            "train Loss: 0.0172 Acc: 0.9991\n"
          ]
        },
        {
          "name": "stderr",
          "output_type": "stream",
          "text": [
            "val batches: 100%|██████████| 7/7 [00:00<00:00,  8.26it/s, loss=1.0561]\n"
          ]
        },
        {
          "name": "stdout",
          "output_type": "stream",
          "text": [
            "val Loss: 1.5329 Acc: 0.6602\n",
            "\n",
            "Epoch 15/140\n",
            "----------\n"
          ]
        },
        {
          "name": "stderr",
          "output_type": "stream",
          "text": [
            "train batches: 100%|██████████| 271/271 [00:15<00:00, 17.04it/s, loss=0.0283]\n"
          ]
        },
        {
          "name": "stdout",
          "output_type": "stream",
          "text": [
            "train Loss: 0.0151 Acc: 1.0000\n"
          ]
        },
        {
          "name": "stderr",
          "output_type": "stream",
          "text": [
            "val batches: 100%|██████████| 7/7 [00:01<00:00,  6.00it/s, loss=1.0806]\n"
          ]
        },
        {
          "name": "stdout",
          "output_type": "stream",
          "text": [
            "val Loss: 1.5413 Acc: 0.6602\n",
            "\n",
            "Epoch 16/140\n",
            "----------\n"
          ]
        },
        {
          "name": "stderr",
          "output_type": "stream",
          "text": [
            "train batches: 100%|██████████| 271/271 [00:16<00:00, 16.73it/s, loss=0.0050]\n"
          ]
        },
        {
          "name": "stdout",
          "output_type": "stream",
          "text": [
            "train Loss: 0.0146 Acc: 0.9991\n"
          ]
        },
        {
          "name": "stderr",
          "output_type": "stream",
          "text": [
            "val batches: 100%|██████████| 7/7 [00:01<00:00,  5.80it/s, loss=1.0972]\n"
          ]
        },
        {
          "name": "stdout",
          "output_type": "stream",
          "text": [
            "val Loss: 1.5455 Acc: 0.6602\n",
            "\n",
            "Early stopping triggered after 16 epochs\n",
            "Validation Accuracy: 0.68%\n",
            "\n",
            "--- Testing Configuration ---\n",
            "Learning Rate: 5e-05\n",
            "Batch Size: 32\n",
            "Dropout Rate: 0.3\n",
            "Number of Epochs: 140\n",
            "\n",
            "Epoch 1/140\n",
            "----------\n"
          ]
        },
        {
          "name": "stderr",
          "output_type": "stream",
          "text": [
            "train batches: 100%|██████████| 271/271 [00:16<00:00, 16.71it/s, loss=3.0990]\n"
          ]
        },
        {
          "name": "stdout",
          "output_type": "stream",
          "text": [
            "train Loss: 2.5950 Acc: 0.2320\n"
          ]
        },
        {
          "name": "stderr",
          "output_type": "stream",
          "text": [
            "val batches: 100%|██████████| 7/7 [00:00<00:00,  7.56it/s, loss=1.2874]\n"
          ]
        },
        {
          "name": "stdout",
          "output_type": "stream",
          "text": [
            "val Loss: 1.6364 Acc: 0.4951\n",
            "\n",
            "Epoch 2/140\n",
            "----------\n"
          ]
        },
        {
          "name": "stderr",
          "output_type": "stream",
          "text": [
            "train batches: 100%|██████████| 271/271 [00:16<00:00, 16.77it/s, loss=2.3463]\n"
          ]
        },
        {
          "name": "stdout",
          "output_type": "stream",
          "text": [
            "train Loss: 1.2595 Acc: 0.6673\n"
          ]
        },
        {
          "name": "stderr",
          "output_type": "stream",
          "text": [
            "val batches: 100%|██████████| 7/7 [00:00<00:00,  7.85it/s, loss=0.5648]\n"
          ]
        },
        {
          "name": "stdout",
          "output_type": "stream",
          "text": [
            "val Loss: 1.5590 Acc: 0.5922\n",
            "\n",
            "Epoch 3/140\n",
            "----------\n"
          ]
        },
        {
          "name": "stderr",
          "output_type": "stream",
          "text": [
            "train batches: 100%|██████████| 271/271 [00:16<00:00, 16.76it/s, loss=0.5434]\n"
          ]
        },
        {
          "name": "stdout",
          "output_type": "stream",
          "text": [
            "train Loss: 0.5071 Acc: 0.8937\n"
          ]
        },
        {
          "name": "stderr",
          "output_type": "stream",
          "text": [
            "val batches: 100%|██████████| 7/7 [00:00<00:00,  7.47it/s, loss=1.3179]\n"
          ]
        },
        {
          "name": "stdout",
          "output_type": "stream",
          "text": [
            "val Loss: 1.3808 Acc: 0.6311\n",
            "\n",
            "Epoch 4/140\n",
            "----------\n"
          ]
        },
        {
          "name": "stderr",
          "output_type": "stream",
          "text": [
            "train batches: 100%|██████████| 271/271 [00:16<00:00, 16.67it/s, loss=0.3210]\n"
          ]
        },
        {
          "name": "stdout",
          "output_type": "stream",
          "text": [
            "train Loss: 0.2059 Acc: 0.9640\n"
          ]
        },
        {
          "name": "stderr",
          "output_type": "stream",
          "text": [
            "val batches: 100%|██████████| 7/7 [00:01<00:00,  5.97it/s, loss=0.4705]\n"
          ]
        },
        {
          "name": "stdout",
          "output_type": "stream",
          "text": [
            "val Loss: 1.3672 Acc: 0.6311\n",
            "\n",
            "Epoch 5/140\n",
            "----------\n"
          ]
        },
        {
          "name": "stderr",
          "output_type": "stream",
          "text": [
            "train batches: 100%|██████████| 271/271 [00:16<00:00, 16.83it/s, loss=0.0033]\n"
          ]
        },
        {
          "name": "stdout",
          "output_type": "stream",
          "text": [
            "train Loss: 0.0905 Acc: 0.9926\n"
          ]
        },
        {
          "name": "stderr",
          "output_type": "stream",
          "text": [
            "val batches: 100%|██████████| 7/7 [00:00<00:00,  8.01it/s, loss=1.1451]\n"
          ]
        },
        {
          "name": "stdout",
          "output_type": "stream",
          "text": [
            "val Loss: 1.4608 Acc: 0.6505\n",
            "\n",
            "Epoch 6/140\n",
            "----------\n"
          ]
        },
        {
          "name": "stderr",
          "output_type": "stream",
          "text": [
            "train batches: 100%|██████████| 271/271 [00:15<00:00, 17.09it/s, loss=0.0238]\n"
          ]
        },
        {
          "name": "stdout",
          "output_type": "stream",
          "text": [
            "train Loss: 0.0550 Acc: 0.9963\n"
          ]
        },
        {
          "name": "stderr",
          "output_type": "stream",
          "text": [
            "val batches: 100%|██████████| 7/7 [00:00<00:00,  8.13it/s, loss=1.3265]\n"
          ]
        },
        {
          "name": "stdout",
          "output_type": "stream",
          "text": [
            "val Loss: 1.3377 Acc: 0.6505\n",
            "\n",
            "Epoch 7/140\n",
            "----------\n"
          ]
        },
        {
          "name": "stderr",
          "output_type": "stream",
          "text": [
            "train batches: 100%|██████████| 271/271 [00:15<00:00, 17.12it/s, loss=0.0052]\n"
          ]
        },
        {
          "name": "stdout",
          "output_type": "stream",
          "text": [
            "train Loss: 0.0317 Acc: 0.9982\n"
          ]
        },
        {
          "name": "stderr",
          "output_type": "stream",
          "text": [
            "val batches: 100%|██████████| 7/7 [00:00<00:00,  8.09it/s, loss=1.4598]\n"
          ]
        },
        {
          "name": "stdout",
          "output_type": "stream",
          "text": [
            "val Loss: 1.3621 Acc: 0.6408\n",
            "\n",
            "Epoch 8/140\n",
            "----------\n"
          ]
        },
        {
          "name": "stderr",
          "output_type": "stream",
          "text": [
            "train batches: 100%|██████████| 271/271 [00:15<00:00, 17.17it/s, loss=0.0027]\n"
          ]
        },
        {
          "name": "stdout",
          "output_type": "stream",
          "text": [
            "train Loss: 0.0202 Acc: 1.0000\n"
          ]
        },
        {
          "name": "stderr",
          "output_type": "stream",
          "text": [
            "val batches: 100%|██████████| 7/7 [00:00<00:00,  8.12it/s, loss=1.6023]\n"
          ]
        },
        {
          "name": "stdout",
          "output_type": "stream",
          "text": [
            "val Loss: 1.6952 Acc: 0.6505\n",
            "\n",
            "Epoch 9/140\n",
            "----------\n"
          ]
        },
        {
          "name": "stderr",
          "output_type": "stream",
          "text": [
            "train batches: 100%|██████████| 271/271 [00:15<00:00, 17.19it/s, loss=0.0004]\n"
          ]
        },
        {
          "name": "stdout",
          "output_type": "stream",
          "text": [
            "train Loss: 0.0124 Acc: 0.9991\n"
          ]
        },
        {
          "name": "stderr",
          "output_type": "stream",
          "text": [
            "val batches: 100%|██████████| 7/7 [00:01<00:00,  5.96it/s, loss=2.5480]\n"
          ]
        },
        {
          "name": "stdout",
          "output_type": "stream",
          "text": [
            "val Loss: 2.0119 Acc: 0.6505\n",
            "\n",
            "Epoch 10/140\n",
            "----------\n"
          ]
        },
        {
          "name": "stderr",
          "output_type": "stream",
          "text": [
            "train batches: 100%|██████████| 271/271 [00:16<00:00, 16.76it/s, loss=0.0019]\n"
          ]
        },
        {
          "name": "stdout",
          "output_type": "stream",
          "text": [
            "train Loss: 0.0141 Acc: 0.9991\n"
          ]
        },
        {
          "name": "stderr",
          "output_type": "stream",
          "text": [
            "val batches: 100%|██████████| 7/7 [00:01<00:00,  5.77it/s, loss=1.4853]\n"
          ]
        },
        {
          "name": "stdout",
          "output_type": "stream",
          "text": [
            "val Loss: 1.7349 Acc: 0.6311\n",
            "\n",
            "Epoch 11/140\n",
            "----------\n"
          ]
        },
        {
          "name": "stderr",
          "output_type": "stream",
          "text": [
            "train batches: 100%|██████████| 271/271 [00:15<00:00, 17.02it/s, loss=0.0348]\n"
          ]
        },
        {
          "name": "stdout",
          "output_type": "stream",
          "text": [
            "train Loss: 0.0080 Acc: 1.0000\n"
          ]
        },
        {
          "name": "stderr",
          "output_type": "stream",
          "text": [
            "val batches: 100%|██████████| 7/7 [00:00<00:00,  7.75it/s, loss=1.2292]\n"
          ]
        },
        {
          "name": "stdout",
          "output_type": "stream",
          "text": [
            "val Loss: 1.7159 Acc: 0.6117\n",
            "\n",
            "Epoch 12/140\n",
            "----------\n"
          ]
        },
        {
          "name": "stderr",
          "output_type": "stream",
          "text": [
            "train batches: 100%|██████████| 271/271 [00:15<00:00, 17.17it/s, loss=0.0007]\n"
          ]
        },
        {
          "name": "stdout",
          "output_type": "stream",
          "text": [
            "train Loss: 0.0075 Acc: 1.0000\n"
          ]
        },
        {
          "name": "stderr",
          "output_type": "stream",
          "text": [
            "val batches: 100%|██████████| 7/7 [00:00<00:00,  8.02it/s, loss=1.3152]\n"
          ]
        },
        {
          "name": "stdout",
          "output_type": "stream",
          "text": [
            "val Loss: 1.6390 Acc: 0.6602\n",
            "\n",
            "Epoch 13/140\n",
            "----------\n"
          ]
        },
        {
          "name": "stderr",
          "output_type": "stream",
          "text": [
            "train batches: 100%|██████████| 271/271 [00:15<00:00, 17.18it/s, loss=0.0019]\n"
          ]
        },
        {
          "name": "stdout",
          "output_type": "stream",
          "text": [
            "train Loss: 0.0056 Acc: 1.0000\n"
          ]
        },
        {
          "name": "stderr",
          "output_type": "stream",
          "text": [
            "val batches: 100%|██████████| 7/7 [00:00<00:00,  8.14it/s, loss=1.3144]\n"
          ]
        },
        {
          "name": "stdout",
          "output_type": "stream",
          "text": [
            "val Loss: 1.6872 Acc: 0.6602\n",
            "\n",
            "Epoch 14/140\n",
            "----------\n"
          ]
        },
        {
          "name": "stderr",
          "output_type": "stream",
          "text": [
            "train batches: 100%|██████████| 271/271 [00:15<00:00, 17.11it/s, loss=0.0002]\n"
          ]
        },
        {
          "name": "stdout",
          "output_type": "stream",
          "text": [
            "train Loss: 0.0050 Acc: 1.0000\n"
          ]
        },
        {
          "name": "stderr",
          "output_type": "stream",
          "text": [
            "val batches: 100%|██████████| 7/7 [00:00<00:00,  8.33it/s, loss=1.3683]\n"
          ]
        },
        {
          "name": "stdout",
          "output_type": "stream",
          "text": [
            "val Loss: 1.7025 Acc: 0.6505\n",
            "\n",
            "Epoch 15/140\n",
            "----------\n"
          ]
        },
        {
          "name": "stderr",
          "output_type": "stream",
          "text": [
            "train batches: 100%|██████████| 271/271 [00:16<00:00, 16.75it/s, loss=0.0028]\n"
          ]
        },
        {
          "name": "stdout",
          "output_type": "stream",
          "text": [
            "train Loss: 0.0049 Acc: 1.0000\n"
          ]
        },
        {
          "name": "stderr",
          "output_type": "stream",
          "text": [
            "val batches: 100%|██████████| 7/7 [00:01<00:00,  5.58it/s, loss=1.3803]\n"
          ]
        },
        {
          "name": "stdout",
          "output_type": "stream",
          "text": [
            "val Loss: 1.7124 Acc: 0.6505\n",
            "\n",
            "Epoch 16/140\n",
            "----------\n"
          ]
        },
        {
          "name": "stderr",
          "output_type": "stream",
          "text": [
            "train batches: 100%|██████████| 271/271 [00:15<00:00, 16.95it/s, loss=0.0093]\n"
          ]
        },
        {
          "name": "stdout",
          "output_type": "stream",
          "text": [
            "train Loss: 0.0050 Acc: 1.0000\n"
          ]
        },
        {
          "name": "stderr",
          "output_type": "stream",
          "text": [
            "val batches: 100%|██████████| 7/7 [00:00<00:00,  7.30it/s, loss=1.5246]\n"
          ]
        },
        {
          "name": "stdout",
          "output_type": "stream",
          "text": [
            "val Loss: 1.7264 Acc: 0.6699\n",
            "\n",
            "Epoch 17/140\n",
            "----------\n"
          ]
        },
        {
          "name": "stderr",
          "output_type": "stream",
          "text": [
            "train batches: 100%|██████████| 271/271 [00:15<00:00, 17.17it/s, loss=0.0018]\n"
          ]
        },
        {
          "name": "stdout",
          "output_type": "stream",
          "text": [
            "train Loss: 0.0038 Acc: 1.0000\n"
          ]
        },
        {
          "name": "stderr",
          "output_type": "stream",
          "text": [
            "val batches: 100%|██████████| 7/7 [00:00<00:00,  8.05it/s, loss=1.5105]\n"
          ]
        },
        {
          "name": "stdout",
          "output_type": "stream",
          "text": [
            "val Loss: 1.7272 Acc: 0.6699\n",
            "\n",
            "Epoch 18/140\n",
            "----------\n"
          ]
        },
        {
          "name": "stderr",
          "output_type": "stream",
          "text": [
            "train batches: 100%|██████████| 271/271 [00:15<00:00, 17.11it/s, loss=0.0017]\n"
          ]
        },
        {
          "name": "stdout",
          "output_type": "stream",
          "text": [
            "train Loss: 0.0040 Acc: 1.0000\n"
          ]
        },
        {
          "name": "stderr",
          "output_type": "stream",
          "text": [
            "val batches: 100%|██████████| 7/7 [00:00<00:00,  7.86it/s, loss=1.4993]\n"
          ]
        },
        {
          "name": "stdout",
          "output_type": "stream",
          "text": [
            "val Loss: 1.7331 Acc: 0.6602\n",
            "\n",
            "Epoch 19/140\n",
            "----------\n"
          ]
        },
        {
          "name": "stderr",
          "output_type": "stream",
          "text": [
            "train batches: 100%|██████████| 271/271 [00:15<00:00, 17.16it/s, loss=0.0027]\n"
          ]
        },
        {
          "name": "stdout",
          "output_type": "stream",
          "text": [
            "train Loss: 0.0043 Acc: 1.0000\n"
          ]
        },
        {
          "name": "stderr",
          "output_type": "stream",
          "text": [
            "val batches: 100%|██████████| 7/7 [00:00<00:00,  7.83it/s, loss=1.4922]\n"
          ]
        },
        {
          "name": "stdout",
          "output_type": "stream",
          "text": [
            "val Loss: 1.7358 Acc: 0.6505\n",
            "\n",
            "Epoch 20/140\n",
            "----------\n"
          ]
        },
        {
          "name": "stderr",
          "output_type": "stream",
          "text": [
            "train batches: 100%|██████████| 271/271 [00:15<00:00, 17.18it/s, loss=0.0014]\n"
          ]
        },
        {
          "name": "stdout",
          "output_type": "stream",
          "text": [
            "train Loss: 0.0038 Acc: 1.0000\n"
          ]
        },
        {
          "name": "stderr",
          "output_type": "stream",
          "text": [
            "val batches: 100%|██████████| 7/7 [00:01<00:00,  6.66it/s, loss=1.4719]\n"
          ]
        },
        {
          "name": "stdout",
          "output_type": "stream",
          "text": [
            "val Loss: 1.7391 Acc: 0.6602\n",
            "\n",
            "Epoch 21/140\n",
            "----------\n"
          ]
        },
        {
          "name": "stderr",
          "output_type": "stream",
          "text": [
            "train batches: 100%|██████████| 271/271 [00:16<00:00, 16.82it/s, loss=0.0030]\n"
          ]
        },
        {
          "name": "stdout",
          "output_type": "stream",
          "text": [
            "train Loss: 0.0045 Acc: 1.0000\n"
          ]
        },
        {
          "name": "stderr",
          "output_type": "stream",
          "text": [
            "val batches: 100%|██████████| 7/7 [00:01<00:00,  5.97it/s, loss=1.4559]\n"
          ]
        },
        {
          "name": "stdout",
          "output_type": "stream",
          "text": [
            "val Loss: 1.7415 Acc: 0.6505\n",
            "\n",
            "Epoch 22/140\n",
            "----------\n"
          ]
        },
        {
          "name": "stderr",
          "output_type": "stream",
          "text": [
            "train batches: 100%|██████████| 271/271 [00:15<00:00, 16.95it/s, loss=0.0004]\n"
          ]
        },
        {
          "name": "stdout",
          "output_type": "stream",
          "text": [
            "train Loss: 0.0045 Acc: 1.0000\n"
          ]
        },
        {
          "name": "stderr",
          "output_type": "stream",
          "text": [
            "val batches: 100%|██████████| 7/7 [00:00<00:00,  8.00it/s, loss=1.4549]\n"
          ]
        },
        {
          "name": "stdout",
          "output_type": "stream",
          "text": [
            "val Loss: 1.7415 Acc: 0.6505\n",
            "\n",
            "Epoch 23/140\n",
            "----------\n"
          ]
        },
        {
          "name": "stderr",
          "output_type": "stream",
          "text": [
            "train batches: 100%|██████████| 271/271 [00:15<00:00, 17.02it/s, loss=0.0054]\n"
          ]
        },
        {
          "name": "stdout",
          "output_type": "stream",
          "text": [
            "train Loss: 0.0043 Acc: 1.0000\n"
          ]
        },
        {
          "name": "stderr",
          "output_type": "stream",
          "text": [
            "val batches: 100%|██████████| 7/7 [00:00<00:00,  8.18it/s, loss=1.4527]\n"
          ]
        },
        {
          "name": "stdout",
          "output_type": "stream",
          "text": [
            "val Loss: 1.7416 Acc: 0.6505\n",
            "\n",
            "Early stopping triggered after 23 epochs\n",
            "Validation Accuracy: 0.67%\n",
            "\n",
            "--- Testing Configuration ---\n",
            "Learning Rate: 5e-05\n",
            "Batch Size: 32\n",
            "Dropout Rate: 0.4\n",
            "Number of Epochs: 140\n",
            "\n",
            "Epoch 1/140\n",
            "----------\n"
          ]
        },
        {
          "name": "stderr",
          "output_type": "stream",
          "text": [
            "train batches: 100%|██████████| 271/271 [00:15<00:00, 16.94it/s, loss=2.4196]\n"
          ]
        },
        {
          "name": "stdout",
          "output_type": "stream",
          "text": [
            "train Loss: 2.7052 Acc: 0.2061\n"
          ]
        },
        {
          "name": "stderr",
          "output_type": "stream",
          "text": [
            "val batches: 100%|██████████| 7/7 [00:00<00:00,  8.23it/s, loss=1.4256]\n"
          ]
        },
        {
          "name": "stdout",
          "output_type": "stream",
          "text": [
            "val Loss: 1.8603 Acc: 0.4757\n",
            "\n",
            "Epoch 2/140\n",
            "----------\n"
          ]
        },
        {
          "name": "stderr",
          "output_type": "stream",
          "text": [
            "train batches: 100%|██████████| 271/271 [00:16<00:00, 16.81it/s, loss=0.5375]\n"
          ]
        },
        {
          "name": "stdout",
          "output_type": "stream",
          "text": [
            "train Loss: 1.6089 Acc: 0.5684\n"
          ]
        },
        {
          "name": "stderr",
          "output_type": "stream",
          "text": [
            "val batches: 100%|██████████| 7/7 [00:01<00:00,  5.49it/s, loss=0.5407]\n"
          ]
        },
        {
          "name": "stdout",
          "output_type": "stream",
          "text": [
            "val Loss: 1.2954 Acc: 0.6214\n",
            "\n",
            "Epoch 3/140\n",
            "----------\n"
          ]
        },
        {
          "name": "stderr",
          "output_type": "stream",
          "text": [
            "train batches: 100%|██████████| 271/271 [00:16<00:00, 16.82it/s, loss=0.8283]\n"
          ]
        },
        {
          "name": "stdout",
          "output_type": "stream",
          "text": [
            "train Loss: 0.8323 Acc: 0.7810\n"
          ]
        },
        {
          "name": "stderr",
          "output_type": "stream",
          "text": [
            "val batches: 100%|██████████| 7/7 [00:00<00:00,  7.92it/s, loss=0.5490]\n"
          ]
        },
        {
          "name": "stdout",
          "output_type": "stream",
          "text": [
            "val Loss: 1.3458 Acc: 0.6311\n",
            "\n",
            "Epoch 4/140\n",
            "----------\n"
          ]
        },
        {
          "name": "stderr",
          "output_type": "stream",
          "text": [
            "train batches: 100%|██████████| 271/271 [00:15<00:00, 16.99it/s, loss=0.1653]\n"
          ]
        },
        {
          "name": "stdout",
          "output_type": "stream",
          "text": [
            "train Loss: 0.4121 Acc: 0.9085\n"
          ]
        },
        {
          "name": "stderr",
          "output_type": "stream",
          "text": [
            "val batches: 100%|██████████| 7/7 [00:00<00:00,  7.95it/s, loss=0.7202]\n"
          ]
        },
        {
          "name": "stdout",
          "output_type": "stream",
          "text": [
            "val Loss: 1.3083 Acc: 0.6117\n",
            "\n",
            "Epoch 5/140\n",
            "----------\n"
          ]
        },
        {
          "name": "stderr",
          "output_type": "stream",
          "text": [
            "train batches: 100%|██████████| 271/271 [00:15<00:00, 17.07it/s, loss=1.1648]\n"
          ]
        },
        {
          "name": "stdout",
          "output_type": "stream",
          "text": [
            "train Loss: 0.2043 Acc: 0.9658\n"
          ]
        },
        {
          "name": "stderr",
          "output_type": "stream",
          "text": [
            "val batches: 100%|██████████| 7/7 [00:00<00:00,  8.17it/s, loss=0.3198]\n"
          ]
        },
        {
          "name": "stdout",
          "output_type": "stream",
          "text": [
            "val Loss: 1.2896 Acc: 0.6893\n",
            "\n",
            "Epoch 6/140\n",
            "----------\n"
          ]
        },
        {
          "name": "stderr",
          "output_type": "stream",
          "text": [
            "train batches: 100%|██████████| 271/271 [00:15<00:00, 16.97it/s, loss=0.8058]\n"
          ]
        },
        {
          "name": "stdout",
          "output_type": "stream",
          "text": [
            "train Loss: 0.1263 Acc: 0.9852\n"
          ]
        },
        {
          "name": "stderr",
          "output_type": "stream",
          "text": [
            "val batches: 100%|██████████| 7/7 [00:00<00:00,  7.72it/s, loss=0.8559]\n"
          ]
        },
        {
          "name": "stdout",
          "output_type": "stream",
          "text": [
            "val Loss: 1.3487 Acc: 0.6699\n",
            "\n",
            "Epoch 7/140\n",
            "----------\n"
          ]
        },
        {
          "name": "stderr",
          "output_type": "stream",
          "text": [
            "train batches: 100%|██████████| 271/271 [00:15<00:00, 17.02it/s, loss=0.0048]\n"
          ]
        },
        {
          "name": "stdout",
          "output_type": "stream",
          "text": [
            "train Loss: 0.0744 Acc: 0.9898\n"
          ]
        },
        {
          "name": "stderr",
          "output_type": "stream",
          "text": [
            "val batches: 100%|██████████| 7/7 [00:00<00:00,  7.23it/s, loss=0.7706]\n"
          ]
        },
        {
          "name": "stdout",
          "output_type": "stream",
          "text": [
            "val Loss: 1.2818 Acc: 0.6602\n",
            "\n",
            "Epoch 8/140\n",
            "----------\n"
          ]
        },
        {
          "name": "stderr",
          "output_type": "stream",
          "text": [
            "train batches: 100%|██████████| 271/271 [00:16<00:00, 16.52it/s, loss=0.0538]\n"
          ]
        },
        {
          "name": "stdout",
          "output_type": "stream",
          "text": [
            "train Loss: 0.0469 Acc: 0.9963\n"
          ]
        },
        {
          "name": "stderr",
          "output_type": "stream",
          "text": [
            "val batches: 100%|██████████| 7/7 [00:01<00:00,  6.02it/s, loss=0.5506]\n"
          ]
        },
        {
          "name": "stdout",
          "output_type": "stream",
          "text": [
            "val Loss: 1.3307 Acc: 0.6796\n",
            "\n",
            "Epoch 9/140\n",
            "----------\n"
          ]
        },
        {
          "name": "stderr",
          "output_type": "stream",
          "text": [
            "train batches: 100%|██████████| 271/271 [00:16<00:00, 16.84it/s, loss=0.0134]\n"
          ]
        },
        {
          "name": "stdout",
          "output_type": "stream",
          "text": [
            "train Loss: 0.0336 Acc: 0.9963\n"
          ]
        },
        {
          "name": "stderr",
          "output_type": "stream",
          "text": [
            "val batches: 100%|██████████| 7/7 [00:00<00:00,  8.25it/s, loss=1.4854]\n"
          ]
        },
        {
          "name": "stdout",
          "output_type": "stream",
          "text": [
            "val Loss: 1.5454 Acc: 0.6505\n",
            "\n",
            "Epoch 10/140\n",
            "----------\n"
          ]
        },
        {
          "name": "stderr",
          "output_type": "stream",
          "text": [
            "train batches: 100%|██████████| 271/271 [00:15<00:00, 16.98it/s, loss=0.0166]\n"
          ]
        },
        {
          "name": "stdout",
          "output_type": "stream",
          "text": [
            "train Loss: 0.0207 Acc: 1.0000\n"
          ]
        },
        {
          "name": "stderr",
          "output_type": "stream",
          "text": [
            "val batches: 100%|██████████| 7/7 [00:00<00:00,  8.19it/s, loss=0.8994]\n"
          ]
        },
        {
          "name": "stdout",
          "output_type": "stream",
          "text": [
            "val Loss: 1.4110 Acc: 0.6505\n",
            "\n",
            "Epoch 11/140\n",
            "----------\n"
          ]
        },
        {
          "name": "stderr",
          "output_type": "stream",
          "text": [
            "train batches: 100%|██████████| 271/271 [00:15<00:00, 17.12it/s, loss=0.0005]\n"
          ]
        },
        {
          "name": "stdout",
          "output_type": "stream",
          "text": [
            "train Loss: 0.0204 Acc: 0.9972\n"
          ]
        },
        {
          "name": "stderr",
          "output_type": "stream",
          "text": [
            "val batches: 100%|██████████| 7/7 [00:00<00:00,  7.85it/s, loss=1.0479]\n"
          ]
        },
        {
          "name": "stdout",
          "output_type": "stream",
          "text": [
            "val Loss: 1.4566 Acc: 0.6602\n",
            "\n",
            "Epoch 12/140\n",
            "----------\n"
          ]
        },
        {
          "name": "stderr",
          "output_type": "stream",
          "text": [
            "train batches: 100%|██████████| 271/271 [00:15<00:00, 16.99it/s, loss=0.0029]\n"
          ]
        },
        {
          "name": "stdout",
          "output_type": "stream",
          "text": [
            "train Loss: 0.0158 Acc: 1.0000\n"
          ]
        },
        {
          "name": "stderr",
          "output_type": "stream",
          "text": [
            "val batches: 100%|██████████| 7/7 [00:00<00:00,  8.08it/s, loss=1.1372]\n"
          ]
        },
        {
          "name": "stdout",
          "output_type": "stream",
          "text": [
            "val Loss: 1.6194 Acc: 0.6990\n",
            "\n",
            "Epoch 13/140\n",
            "----------\n"
          ]
        },
        {
          "name": "stderr",
          "output_type": "stream",
          "text": [
            "train batches: 100%|██████████| 271/271 [00:15<00:00, 17.00it/s, loss=0.0030]\n"
          ]
        },
        {
          "name": "stdout",
          "output_type": "stream",
          "text": [
            "train Loss: 0.0110 Acc: 1.0000\n"
          ]
        },
        {
          "name": "stderr",
          "output_type": "stream",
          "text": [
            "val batches: 100%|██████████| 7/7 [00:01<00:00,  5.35it/s, loss=1.1974]\n"
          ]
        },
        {
          "name": "stdout",
          "output_type": "stream",
          "text": [
            "val Loss: 1.5393 Acc: 0.6699\n",
            "\n",
            "Epoch 14/140\n",
            "----------\n"
          ]
        },
        {
          "name": "stderr",
          "output_type": "stream",
          "text": [
            "train batches: 100%|██████████| 271/271 [00:15<00:00, 16.99it/s, loss=0.0075]\n"
          ]
        },
        {
          "name": "stdout",
          "output_type": "stream",
          "text": [
            "train Loss: 0.0103 Acc: 0.9982\n"
          ]
        },
        {
          "name": "stderr",
          "output_type": "stream",
          "text": [
            "val batches: 100%|██████████| 7/7 [00:01<00:00,  5.35it/s, loss=1.0228]\n"
          ]
        },
        {
          "name": "stdout",
          "output_type": "stream",
          "text": [
            "val Loss: 1.4932 Acc: 0.6796\n",
            "\n",
            "Epoch 15/140\n",
            "----------\n"
          ]
        },
        {
          "name": "stderr",
          "output_type": "stream",
          "text": [
            "train batches: 100%|██████████| 271/271 [00:15<00:00, 16.98it/s, loss=0.0015]\n"
          ]
        },
        {
          "name": "stdout",
          "output_type": "stream",
          "text": [
            "train Loss: 0.0117 Acc: 0.9972\n"
          ]
        },
        {
          "name": "stderr",
          "output_type": "stream",
          "text": [
            "val batches: 100%|██████████| 7/7 [00:00<00:00,  8.04it/s, loss=0.9205]\n"
          ]
        },
        {
          "name": "stdout",
          "output_type": "stream",
          "text": [
            "val Loss: 1.4682 Acc: 0.6893\n",
            "\n",
            "Epoch 16/140\n",
            "----------\n"
          ]
        },
        {
          "name": "stderr",
          "output_type": "stream",
          "text": [
            "train batches: 100%|██████████| 271/271 [00:16<00:00, 16.76it/s, loss=0.0046]\n"
          ]
        },
        {
          "name": "stdout",
          "output_type": "stream",
          "text": [
            "train Loss: 0.0077 Acc: 1.0000\n"
          ]
        },
        {
          "name": "stderr",
          "output_type": "stream",
          "text": [
            "val batches: 100%|██████████| 7/7 [00:00<00:00,  7.80it/s, loss=0.9083]\n"
          ]
        },
        {
          "name": "stdout",
          "output_type": "stream",
          "text": [
            "val Loss: 1.4887 Acc: 0.6893\n",
            "\n",
            "Epoch 17/140\n",
            "----------\n"
          ]
        },
        {
          "name": "stderr",
          "output_type": "stream",
          "text": [
            "train batches: 100%|██████████| 271/271 [00:16<00:00, 16.74it/s, loss=0.0056]\n"
          ]
        },
        {
          "name": "stdout",
          "output_type": "stream",
          "text": [
            "train Loss: 0.0087 Acc: 1.0000\n"
          ]
        },
        {
          "name": "stderr",
          "output_type": "stream",
          "text": [
            "val batches: 100%|██████████| 7/7 [00:00<00:00,  7.93it/s, loss=0.8368]\n"
          ]
        },
        {
          "name": "stdout",
          "output_type": "stream",
          "text": [
            "val Loss: 1.4713 Acc: 0.7087\n",
            "\n",
            "Epoch 18/140\n",
            "----------\n"
          ]
        },
        {
          "name": "stderr",
          "output_type": "stream",
          "text": [
            "train batches: 100%|██████████| 271/271 [00:16<00:00, 16.69it/s, loss=0.0002]\n"
          ]
        },
        {
          "name": "stdout",
          "output_type": "stream",
          "text": [
            "train Loss: 0.0073 Acc: 1.0000\n"
          ]
        },
        {
          "name": "stderr",
          "output_type": "stream",
          "text": [
            "val batches: 100%|██████████| 7/7 [00:01<00:00,  5.73it/s, loss=0.8421]\n"
          ]
        },
        {
          "name": "stdout",
          "output_type": "stream",
          "text": [
            "val Loss: 1.4759 Acc: 0.6893\n",
            "\n",
            "Epoch 19/140\n",
            "----------\n"
          ]
        },
        {
          "name": "stderr",
          "output_type": "stream",
          "text": [
            "train batches: 100%|██████████| 271/271 [00:16<00:00, 16.47it/s, loss=0.0551]\n"
          ]
        },
        {
          "name": "stdout",
          "output_type": "stream",
          "text": [
            "train Loss: 0.0067 Acc: 1.0000\n"
          ]
        },
        {
          "name": "stderr",
          "output_type": "stream",
          "text": [
            "val batches: 100%|██████████| 7/7 [00:01<00:00,  5.44it/s, loss=0.8729]\n"
          ]
        },
        {
          "name": "stdout",
          "output_type": "stream",
          "text": [
            "val Loss: 1.4828 Acc: 0.6990\n",
            "\n",
            "Epoch 20/140\n",
            "----------\n"
          ]
        },
        {
          "name": "stderr",
          "output_type": "stream",
          "text": [
            "train batches: 100%|██████████| 271/271 [00:15<00:00, 16.95it/s, loss=0.0005]\n"
          ]
        },
        {
          "name": "stdout",
          "output_type": "stream",
          "text": [
            "train Loss: 0.0067 Acc: 1.0000\n"
          ]
        },
        {
          "name": "stderr",
          "output_type": "stream",
          "text": [
            "val batches: 100%|██████████| 7/7 [00:00<00:00,  7.91it/s, loss=0.8838]\n"
          ]
        },
        {
          "name": "stdout",
          "output_type": "stream",
          "text": [
            "val Loss: 1.4906 Acc: 0.6893\n",
            "\n",
            "Epoch 21/140\n",
            "----------\n"
          ]
        },
        {
          "name": "stderr",
          "output_type": "stream",
          "text": [
            "train batches: 100%|██████████| 271/271 [00:15<00:00, 17.04it/s, loss=0.0009]\n"
          ]
        },
        {
          "name": "stdout",
          "output_type": "stream",
          "text": [
            "train Loss: 0.0075 Acc: 1.0000\n"
          ]
        },
        {
          "name": "stderr",
          "output_type": "stream",
          "text": [
            "val batches: 100%|██████████| 7/7 [00:00<00:00,  7.94it/s, loss=0.8942]\n"
          ]
        },
        {
          "name": "stdout",
          "output_type": "stream",
          "text": [
            "val Loss: 1.4974 Acc: 0.6893\n",
            "\n",
            "Epoch 22/140\n",
            "----------\n"
          ]
        },
        {
          "name": "stderr",
          "output_type": "stream",
          "text": [
            "train batches: 100%|██████████| 271/271 [00:15<00:00, 17.09it/s, loss=0.0037]\n"
          ]
        },
        {
          "name": "stdout",
          "output_type": "stream",
          "text": [
            "train Loss: 0.0068 Acc: 1.0000\n"
          ]
        },
        {
          "name": "stderr",
          "output_type": "stream",
          "text": [
            "val batches: 100%|██████████| 7/7 [00:00<00:00,  8.12it/s, loss=0.9159]\n"
          ]
        },
        {
          "name": "stdout",
          "output_type": "stream",
          "text": [
            "val Loss: 1.5001 Acc: 0.6893\n",
            "\n",
            "Epoch 23/140\n",
            "----------\n"
          ]
        },
        {
          "name": "stderr",
          "output_type": "stream",
          "text": [
            "train batches: 100%|██████████| 271/271 [00:15<00:00, 17.00it/s, loss=0.0013]\n"
          ]
        },
        {
          "name": "stdout",
          "output_type": "stream",
          "text": [
            "train Loss: 0.0074 Acc: 1.0000\n"
          ]
        },
        {
          "name": "stderr",
          "output_type": "stream",
          "text": [
            "val batches: 100%|██████████| 7/7 [00:00<00:00,  7.94it/s, loss=0.9184]\n"
          ]
        },
        {
          "name": "stdout",
          "output_type": "stream",
          "text": [
            "val Loss: 1.5011 Acc: 0.6893\n",
            "\n",
            "Epoch 24/140\n",
            "----------\n"
          ]
        },
        {
          "name": "stderr",
          "output_type": "stream",
          "text": [
            "train batches: 100%|██████████| 271/271 [00:16<00:00, 16.59it/s, loss=0.0017]\n"
          ]
        },
        {
          "name": "stdout",
          "output_type": "stream",
          "text": [
            "train Loss: 0.0059 Acc: 1.0000\n"
          ]
        },
        {
          "name": "stderr",
          "output_type": "stream",
          "text": [
            "val batches: 100%|██████████| 7/7 [00:01<00:00,  5.80it/s, loss=0.9172]\n"
          ]
        },
        {
          "name": "stdout",
          "output_type": "stream",
          "text": [
            "val Loss: 1.5016 Acc: 0.6796\n",
            "\n",
            "Early stopping triggered after 24 epochs\n",
            "Validation Accuracy: 0.71%\n",
            "\n",
            "--- Best Hyperparameters ---\n",
            "learning_rate: 0.0001\n",
            "batch_size: 16\n",
            "dropout_rate: 0.3\n",
            "num_epochs: 140\n",
            "Best Validation Accuracy: 0.73%\n"
          ]
        }
      ],
      "source": [
        "def hyperparameter_grid_search(train_dataset, val_dataset, num_classes=20):\n",
        "    \"\"\"\n",
        "    Perform systematic hyperparameter grid search for bird classification model\n",
        "\n",
        "    Args:\n",
        "    - train_dataset: Training dataset\n",
        "    - val_dataset: Validation dataset\n",
        "    - num_classes: Number of bird species\n",
        "\n",
        "    Returns:\n",
        "    - Best hyperparameters and corresponding model\n",
        "    \"\"\"\n",
        "    # Define hyperparameter grid\n",
        "    hyperparameter_grid = {\n",
        "        'learning_rates': [ 1e-3, 5e-4, 1e-4, 5e-5],\n",
        "        'batch_sizes': [16, 32],\n",
        "        'dropout_rates': [0.3, 0.4],\n",
        "        'num_epochs': [140]\n",
        "    }\n",
        "\n",
        "    # Tracking best results\n",
        "    best_accuracy = 0\n",
        "    best_hyperparameters = {}\n",
        "    best_model = None\n",
        "\n",
        "    # Comprehensive grid search\n",
        "    for lr in hyperparameter_grid['learning_rates']:\n",
        "        for batch_size in hyperparameter_grid['batch_sizes']:\n",
        "            for dropout_rate in hyperparameter_grid['dropout_rates']:\n",
        "                for num_epochs in hyperparameter_grid['num_epochs']:\n",
        "                    print(f\"\\n--- Testing Configuration ---\")\n",
        "                    print(f\"Learning Rate: {lr}\")\n",
        "                    print(f\"Batch Size: {batch_size}\")\n",
        "                    print(f\"Dropout Rate: {dropout_rate}\")\n",
        "                    print(f\"Number of Epochs: {num_epochs}\")\n",
        "\n",
        "                    # Create data loaders with current batch size\n",
        "                    train_loader = DataLoader(\n",
        "                        train_dataset,\n",
        "                        batch_size=batch_size,\n",
        "                        shuffle=True,\n",
        "                        num_workers=2\n",
        "                    )\n",
        "                    val_loader = DataLoader(\n",
        "                        val_dataset,\n",
        "                        batch_size=batch_size,\n",
        "                        shuffle=False,\n",
        "                        num_workers=2\n",
        "                    )\n",
        "\n",
        "                    # Reinitialize model with current dropout rate\n",
        "                    class CustomVGG16(BirdFreeVGG16):\n",
        "                        def __init__(self, num_classes=20, dropout_rate=0.5):\n",
        "                            super().__init__(num_classes)\n",
        "                            # Modify classifier to use custom dropout\n",
        "                            self.classifier = nn.Sequential(\n",
        "                                nn.Linear(512 * 7 * 7, 1024),\n",
        "                                nn.ReLU(True),\n",
        "                                nn.Dropout(p=dropout_rate),\n",
        "                                nn.Linear(1024, 512),\n",
        "                                nn.ReLU(True),\n",
        "                                nn.Dropout(p=dropout_rate),\n",
        "                                nn.Linear(512, num_classes)\n",
        "                            )\n",
        "\n",
        "                    model = CustomVGG16(num_classes, dropout_rate).to(device)\n",
        "\n",
        "                    # Define optimizer with current learning rate\n",
        "                    optimizer = torch.optim.Adam(\n",
        "                        model.classifier.parameters(),\n",
        "                        lr=lr\n",
        "                    )\n",
        "\n",
        "                    # Learning rate scheduler\n",
        "                    scheduler = torch.optim.lr_scheduler.ReduceLROnPlateau(\n",
        "                        optimizer,\n",
        "                        mode='min',\n",
        "                        factor=0.1,\n",
        "                        patience=4\n",
        "                    )\n",
        "\n",
        "                    # Training loop\n",
        "                    try:\n",
        "                        # Save model state before training\n",
        "                        initial_state = copy.deepcopy(model.state_dict())\n",
        "\n",
        "                        # Train model\n",
        "                        trained_model, val_accuracy = train_model(\n",
        "                            model,\n",
        "                            criterion,\n",
        "                            optimizer,\n",
        "                            scheduler,\n",
        "                            num_epochs=num_epochs\n",
        "                        )\n",
        "\n",
        "                        # Update best configuration if improved\n",
        "                        if val_accuracy > best_accuracy:\n",
        "                            best_accuracy = val_accuracy\n",
        "                            best_hyperparameters = {\n",
        "                                'learning_rate': lr,\n",
        "                                'batch_size': batch_size,\n",
        "                                'dropout_rate': dropout_rate,\n",
        "                                'num_epochs': num_epochs\n",
        "                            }\n",
        "                            best_model = trained_model\n",
        "\n",
        "                        print(f\"Validation Accuracy: {val_accuracy:.2f}%\")\n",
        "\n",
        "                    except Exception as e:\n",
        "                        print(f\"Error in training: {e}\")\n",
        "                        # Restore model to initial state\n",
        "                        model.load_state_dict(initial_state)\n",
        "\n",
        "    # Final results\n",
        "    print(\"\\n--- Best Hyperparameters ---\")\n",
        "    for key, value in best_hyperparameters.items():\n",
        "        print(f\"{key}: {value}\")\n",
        "    print(f\"Best Validation Accuracy: {best_accuracy:.2f}%\")\n",
        "\n",
        "    return best_model, best_hyperparameters, best_accuracy\n",
        "\n",
        "# Run hyperparameter grid search\n",
        "best_model, best_hyperparameters, best_accuracy = hyperparameter_grid_search(\n",
        "    train_dataset,\n",
        "    val_dataset\n",
        ")\n",
        "\n",
        "# Optional: Save best model\n",
        "torch.save({\n",
        "    'model_state_dict': best_model.state_dict(),\n",
        "    'hyperparameters': best_hyperparameters,\n",
        "    'accuracy': best_accuracy\n",
        "}, '/content/drive/MyDrive/Aimen/best_bird_classifier.pth')"
      ]
    },
    {
      "cell_type": "markdown",
      "metadata": {
        "id": "T5Dz-b7lkSRg"
      },
      "source": [
        "### Key Components:\n",
        "1. Progress bars with tqdm\n",
        "2. Early stopping mechanism\n",
        "3. Model checkpointing\n",
        "4. Learning rate scheduling\n",
        "5. Training history tracking\n",
        "\n",
        "### Next Steps:\n",
        "1. Visualize training progress\n",
        "2. Analyze model performance\n",
        "3. Make adjustments if needed"
      ]
    }
  ],
  "metadata": {
    "accelerator": "GPU",
    "colab": {
      "gpuType": "T4",
      "provenance": []
    },
    "kernelspec": {
      "display_name": "Python 3 (ipykernel)",
      "language": "python",
      "name": "python3"
    },
    "language_info": {
      "codemirror_mode": {
        "name": "ipython",
        "version": 3
      },
      "file_extension": ".py",
      "mimetype": "text/x-python",
      "name": "python",
      "nbconvert_exporter": "python",
      "pygments_lexer": "ipython3",
      "version": "3.11.0"
    }
  },
  "nbformat": 4,
  "nbformat_minor": 0
}
